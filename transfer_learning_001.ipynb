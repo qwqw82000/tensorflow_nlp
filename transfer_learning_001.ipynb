{
 "cells": [
  {
   "cell_type": "code",
   "execution_count": 3,
   "metadata": {},
   "outputs": [],
   "source": [
    "import numpy as np\n",
    "import pandas as pd\n",
    "import matplotlib.pyplot as plt\n",
    "import tensorflow as tf"
   ]
  },
  {
   "cell_type": "code",
   "execution_count": 4,
   "metadata": {},
   "outputs": [],
   "source": [
    "import zipfile\n",
    "\n",
    "zip_ref = zipfile.ZipFile(\"10_food_classes_10_percent.zip\")\n",
    "zip_ref.extractall()\n",
    "zip_ref.close()"
   ]
  },
  {
   "cell_type": "code",
   "execution_count": 5,
   "metadata": {},
   "outputs": [
    {
     "name": "stdout",
     "output_type": "stream",
     "text": [
      "10_food_classes_10_percent 디렉토리에는 2개의 디렉토리가 존재하고 0개의 파일이 존재합니다.\n",
      "10_food_classes_10_percent\\test 디렉토리에는 10개의 디렉토리가 존재하고 0개의 파일이 존재합니다.\n",
      "10_food_classes_10_percent\\test\\chicken_curry 디렉토리에는 0개의 디렉토리가 존재하고 250개의 파일이 존재합니다.\n",
      "10_food_classes_10_percent\\test\\chicken_wings 디렉토리에는 0개의 디렉토리가 존재하고 250개의 파일이 존재합니다.\n",
      "10_food_classes_10_percent\\test\\fried_rice 디렉토리에는 0개의 디렉토리가 존재하고 250개의 파일이 존재합니다.\n",
      "10_food_classes_10_percent\\test\\grilled_salmon 디렉토리에는 0개의 디렉토리가 존재하고 250개의 파일이 존재합니다.\n",
      "10_food_classes_10_percent\\test\\hamburger 디렉토리에는 0개의 디렉토리가 존재하고 250개의 파일이 존재합니다.\n",
      "10_food_classes_10_percent\\test\\ice_cream 디렉토리에는 0개의 디렉토리가 존재하고 250개의 파일이 존재합니다.\n",
      "10_food_classes_10_percent\\test\\pizza 디렉토리에는 0개의 디렉토리가 존재하고 250개의 파일이 존재합니다.\n",
      "10_food_classes_10_percent\\test\\ramen 디렉토리에는 0개의 디렉토리가 존재하고 250개의 파일이 존재합니다.\n",
      "10_food_classes_10_percent\\test\\steak 디렉토리에는 0개의 디렉토리가 존재하고 250개의 파일이 존재합니다.\n",
      "10_food_classes_10_percent\\test\\sushi 디렉토리에는 0개의 디렉토리가 존재하고 250개의 파일이 존재합니다.\n",
      "10_food_classes_10_percent\\train 디렉토리에는 10개의 디렉토리가 존재하고 0개의 파일이 존재합니다.\n",
      "10_food_classes_10_percent\\train\\chicken_curry 디렉토리에는 0개의 디렉토리가 존재하고 75개의 파일이 존재합니다.\n",
      "10_food_classes_10_percent\\train\\chicken_wings 디렉토리에는 0개의 디렉토리가 존재하고 75개의 파일이 존재합니다.\n",
      "10_food_classes_10_percent\\train\\fried_rice 디렉토리에는 0개의 디렉토리가 존재하고 75개의 파일이 존재합니다.\n",
      "10_food_classes_10_percent\\train\\grilled_salmon 디렉토리에는 0개의 디렉토리가 존재하고 75개의 파일이 존재합니다.\n",
      "10_food_classes_10_percent\\train\\hamburger 디렉토리에는 0개의 디렉토리가 존재하고 75개의 파일이 존재합니다.\n",
      "10_food_classes_10_percent\\train\\ice_cream 디렉토리에는 0개의 디렉토리가 존재하고 75개의 파일이 존재합니다.\n",
      "10_food_classes_10_percent\\train\\pizza 디렉토리에는 0개의 디렉토리가 존재하고 75개의 파일이 존재합니다.\n",
      "10_food_classes_10_percent\\train\\ramen 디렉토리에는 0개의 디렉토리가 존재하고 75개의 파일이 존재합니다.\n",
      "10_food_classes_10_percent\\train\\steak 디렉토리에는 0개의 디렉토리가 존재하고 75개의 파일이 존재합니다.\n",
      "10_food_classes_10_percent\\train\\sushi 디렉토리에는 0개의 디렉토리가 존재하고 75개의 파일이 존재합니다.\n"
     ]
    }
   ],
   "source": [
    "import os\n",
    "\n",
    "for dirpath, dirnames, filenames in os.walk(\"10_food_classes_10_percent\"):\n",
    "    print(f\"{dirpath} 디렉토리에는 {len(dirnames)}개의 디렉토리가 존재하고 {len(filenames)}개의 파일이 존재합니다.\")"
   ]
  },
  {
   "cell_type": "code",
   "execution_count": 6,
   "metadata": {},
   "outputs": [
    {
     "name": "stdout",
     "output_type": "stream",
     "text": [
      "학습 이미지 : \n",
      "Found 750 images belonging to 10 classes.\n",
      "테스트 이미지 : \n",
      "Found 2500 images belonging to 10 classes.\n"
     ]
    }
   ],
   "source": [
    "from tensorflow.keras.preprocessing.image import ImageDataGenerator\n",
    "\n",
    "IMAGE_SHAPE = (224, 224)\n",
    "BATCH_SIZE = 32\n",
    "\n",
    "train_dir = \"10_food_classes_10_percent/train\"\n",
    "test_dir = \"10_food_classes_10_percent/test\"\n",
    "\n",
    "train_datagen = ImageDataGenerator(rescale = 1/255.)\n",
    "test_datagen = ImageDataGenerator(rescale = 1/255.)\n",
    "\n",
    "print(\"학습 이미지 : \")\n",
    "train_data_10_percent = train_datagen.flow_from_directory(\n",
    "    train_dir,\n",
    "    target_size = IMAGE_SHAPE,\n",
    "    batch_size = BATCH_SIZE,\n",
    "    class_mode = \"categorical\"\n",
    ")\n",
    "\n",
    "print(\"테스트 이미지 : \")\n",
    "test_data_10_percent = train_datagen.flow_from_directory(\n",
    "    test_dir,\n",
    "    target_size = IMAGE_SHAPE,\n",
    "    batch_size = BATCH_SIZE,\n",
    "    class_mode = \"categorical\"\n",
    ")"
   ]
  },
  {
   "cell_type": "code",
   "execution_count": 7,
   "metadata": {},
   "outputs": [],
   "source": [
    "# callbacks : 모델을 학습하는 중이거나 완료 후에 특별한 기능을 추가하고자 할 때 사용하는 개념!\n",
    "# 지난 주에 callbacks을 사용! epoch 마다 학습이 어떻게 되는지 확인\n",
    "\n",
    "# learning_rate_scheduler\n",
    "# Model checkpointing\n",
    "# Early stopping \n",
    "# Experiment tracking with TensorBoard"
   ]
  },
  {
   "cell_type": "code",
   "execution_count": 8,
   "metadata": {},
   "outputs": [],
   "source": [
    "import datetime\n",
    "\n",
    "def create_tensorboard_callback(dir_name, experiment_name):\n",
    "    log_dir = dir_name + \"/\" + experiment_name + \"/\" + datetime.datetime.now().strftime(\"%Y%m%d-%H%M%S\")\n",
    "    tensorboard_callback = tf.keras.callbacks.TensorBoard(\n",
    "        log_dir = log_dir\n",
    "    )\n",
    "    print(f\"TensorBoard log 파일들은 {log_dir}에 저장했습니다.\")\n",
    "    return tensorboard_callback"
   ]
  },
  {
   "cell_type": "code",
   "execution_count": 9,
   "metadata": {},
   "outputs": [],
   "source": [
    "\n",
    "# 학습 (training)을 하고 싶은데...\n",
    "# 1. 지난 주처럼 직접 하나하나 모델을 만들어가기!\n",
    "# 2. 남들이 잘 만들어놓은 모델을 가져와서 나만의 데이터셋으로 학습!\n",
    "\n",
    "# ==> 우리가 하고 싶은 목적에 맞는 모델을 찾아야 한다!\n",
    "# ==> 그래서!, TensorFlow Hub가 존재한다!"
   ]
  },
  {
   "cell_type": "code",
   "execution_count": 10,
   "metadata": {},
   "outputs": [
    {
     "name": "stdout",
     "output_type": "stream",
     "text": [
      "Requirement already satisfied: tensorflow-hub==0.11.0 in .\\venv_test\\lib\\site-packages (0.11.0)\n",
      "Requirement already satisfied: protobuf>=3.8.0 in .\\venv_test\\lib\\site-packages (from tensorflow-hub==0.11.0) (3.19.1)\n",
      "Requirement already satisfied: numpy>=1.12.0 in .\\venv_test\\lib\\site-packages (from tensorflow-hub==0.11.0) (1.19.5)\n"
     ]
    },
    {
     "name": "stderr",
     "output_type": "stream",
     "text": [
      "WARNING: You are using pip version 21.2.3; however, version 21.3.1 is available.\n",
      "You should consider upgrading via the 'E:\\20211027\\workspace\\lecture_night\\venv_test\\Scripts\\python.exe -m pip install --upgrade pip' command.\n"
     ]
    }
   ],
   "source": [
    "!pip install tensorflow-hub==0.11.0"
   ]
  },
  {
   "cell_type": "code",
   "execution_count": 11,
   "metadata": {},
   "outputs": [],
   "source": [
    "from tensorflow.keras import layers"
   ]
  },
  {
   "cell_type": "code",
   "execution_count": 12,
   "metadata": {},
   "outputs": [],
   "source": [
    "import tensorflow_hub as hub\n"
   ]
  },
  {
   "cell_type": "code",
   "execution_count": 13,
   "metadata": {},
   "outputs": [
    {
     "name": "stdout",
     "output_type": "stream",
     "text": [
      "2.5.0\n"
     ]
    }
   ],
   "source": [
    "print(tf.__version__)"
   ]
  },
  {
   "cell_type": "code",
   "execution_count": 14,
   "metadata": {},
   "outputs": [],
   "source": [
    "resnet_url = \"https://tfhub.dev/google/imagenet/resnet_v2_152/feature_vector/5\"\n",
    "efficientnet_url = \"https://tfhub.dev/google/efficientnet/b3/feature-vector/1\""
   ]
  },
  {
   "cell_type": "code",
   "execution_count": 15,
   "metadata": {},
   "outputs": [],
   "source": [
    "def create_model(model_url, num_classes = 10):\n",
    "    feature_extractor_layer = hub.KerasLayer(\n",
    "        model_url,\n",
    "        trainable = False,\n",
    "        name = \"feature_extraction_layer\",\n",
    "        input_shape = IMAGE_SHAPE + (3, )\n",
    "    )\n",
    "\n",
    "    model = tf.keras.Sequential([\n",
    "        feature_extractor_layer,\n",
    "        layers.Dense(num_classes, activation=\"softmax\", name = \"output_layer\")\n",
    "    ])\n",
    "\n",
    "    return model"
   ]
  },
  {
   "cell_type": "code",
   "execution_count": 16,
   "metadata": {},
   "outputs": [],
   "source": [
    "resnet_model = create_model(resnet_url, num_classes = train_data_10_percent.num_classes)\n",
    "\n",
    "resnet_model.compile(\n",
    "    loss = \"categorical_crossentropy\",\n",
    "    optimizer = tf.keras.optimizers.Adam(),\n",
    "    metrics = [\"accuracy\"]\n",
    ")"
   ]
  },
  {
   "cell_type": "code",
   "execution_count": 17,
   "metadata": {},
   "outputs": [
    {
     "name": "stdout",
     "output_type": "stream",
     "text": [
      "Model: \"sequential\"\n",
      "_________________________________________________________________\n",
      "Layer (type)                 Output Shape              Param #   \n",
      "=================================================================\n",
      "feature_extraction_layer (Ke (None, 2048)              58331648  \n",
      "_________________________________________________________________\n",
      "output_layer (Dense)         (None, 10)                20490     \n",
      "=================================================================\n",
      "Total params: 58,352,138\n",
      "Trainable params: 20,490\n",
      "Non-trainable params: 58,331,648\n",
      "_________________________________________________________________\n"
     ]
    }
   ],
   "source": [
    "resnet_model.summary()"
   ]
  },
  {
   "cell_type": "code",
   "execution_count": 18,
   "metadata": {},
   "outputs": [
    {
     "name": "stdout",
     "output_type": "stream",
     "text": [
      "Requirement already satisfied: SciPy in .\\venv_test\\lib\\site-packages (1.7.1)\n",
      "Requirement already satisfied: numpy<1.23.0,>=1.16.5 in .\\venv_test\\lib\\site-packages (from SciPy) (1.19.5)\n"
     ]
    },
    {
     "name": "stderr",
     "output_type": "stream",
     "text": [
      "WARNING: You are using pip version 21.2.3; however, version 21.3.1 is available.\n",
      "You should consider upgrading via the 'E:\\20211027\\workspace\\lecture_night\\venv_test\\Scripts\\python.exe -m pip install --upgrade pip' command.\n"
     ]
    }
   ],
   "source": [
    "!pip install SciPy\n",
    "\n",
    "import scipy"
   ]
  },
  {
   "cell_type": "code",
   "execution_count": 19,
   "metadata": {},
   "outputs": [
    {
     "name": "stdout",
     "output_type": "stream",
     "text": [
      "TensorBoard log 파일들은 tensorflow_hub/resnet/20211102-125611에 저장했습니다.\n",
      "Epoch 1/5\n",
      "24/24 [==============================] - 601s 26s/step - loss: 1.9155 - accuracy: 0.3760 - val_loss: 1.1084 - val_accuracy: 0.6508\n",
      "Epoch 2/5\n",
      "24/24 [==============================] - 612s 26s/step - loss: 0.8307 - accuracy: 0.7400 - val_loss: 0.7747 - val_accuracy: 0.7628\n",
      "Epoch 3/5\n",
      "24/24 [==============================] - 555s 24s/step - loss: 0.5285 - accuracy: 0.8600 - val_loss: 0.7105 - val_accuracy: 0.7644\n",
      "Epoch 4/5\n",
      "24/24 [==============================] - 531s 23s/step - loss: 0.4091 - accuracy: 0.8907 - val_loss: 0.6611 - val_accuracy: 0.7764\n",
      "Epoch 5/5\n",
      "24/24 [==============================] - 528s 23s/step - loss: 0.3185 - accuracy: 0.9307 - val_loss: 0.6166 - val_accuracy: 0.7992\n"
     ]
    }
   ],
   "source": [
    "resnet_history = resnet_model.fit(\n",
    "    train_data_10_percent,\n",
    "    epochs = 5,\n",
    "    validation_data = test_data_10_percent,\n",
    "    callbacks = [\n",
    "        create_tensorboard_callback(dir_name = \"tensorflow_hub\", experiment_name= \"resnet\")\n",
    "    ]\n",
    ")"
   ]
  },
  {
   "cell_type": "code",
   "execution_count": 27,
   "metadata": {},
   "outputs": [],
   "source": [
    "def plot_loss_curves(history):\n",
    "    loss = history.history[\"loss\"]\n",
    "    val_loss = history.history[\"val_loss\"]\n",
    "\n",
    "    accuracy = history.history[\"accuracy\"]\n",
    "    val_accuracy = history.history[\"val_accuracy\"]\n",
    "\n",
    "    epochs = range(len(history.history[\"loss\"]))\n",
    "\n",
    "    # Plot Loss\n",
    "    plt.plot(epochs, loss, label = \"traning_loss\")\n",
    "    plt.plot(epochs, val_loss, label = \"val_loss\")\n",
    "    plt.title(\"Loss\")\n",
    "    plt.xlabel(\"Epochs\")\n",
    "    plt.legend()\n",
    "\n",
    "    # Plot Accuracy\n",
    "    plt.figure()\n",
    "    plt.plot(epochs, accuracy, label = \"traning_accuracy\")\n",
    "    plt.plot(epochs, val_accuracy, label = \"val_accuracy\")\n",
    "    plt.title(\"Accuracy\")\n",
    "    plt.xlabel(\"Epochs\")\n",
    "    plt.legend()\n"
   ]
  },
  {
   "cell_type": "code",
   "execution_count": null,
   "metadata": {},
   "outputs": [],
   "source": []
  },
  {
   "cell_type": "code",
   "execution_count": 28,
   "metadata": {},
   "outputs": [
    {
     "data": {
      "image/png": "[encoded data removed]",
      "text/plain": [
       "<Figure size 432x288 with 1 Axes>"
      ]
     },
     "metadata": {
      "needs_background": "light"
     },
     "output_type": "display_data"
    },
    {
     "data": {
      "image/png": "[encoded data removed]",
      "text/plain": [
       "<Figure size 432x288 with 1 Axes>"
      ]
     },
     "metadata": {
      "needs_background": "light"
     },
     "output_type": "display_data"
    }
   ],
   "source": [
    "plot_loss_curves(resnet_history)"
   ]
  },
  {
   "cell_type": "code",
   "execution_count": 25,
   "metadata": {},
   "outputs": [
    {
     "name": "stdout",
     "output_type": "stream",
     "text": [
      "TensorBoard log 파일들은 tensorflow_hub/efficientnet/20211102-135500에 저장했습니다.\n",
      "Epoch 1/5\n",
      "24/24 [==============================] - 199s 8s/step - loss: 1.7003 - accuracy: 0.5013 - val_loss: 1.1353 - val_accuracy: 0.7648\n",
      "Epoch 2/5\n",
      "24/24 [==============================] - 200s 9s/step - loss: 0.9325 - accuracy: 0.7920 - val_loss: 0.7438 - val_accuracy: 0.8328\n",
      "Epoch 3/5\n",
      "24/24 [==============================] - 183s 8s/step - loss: 0.6584 - accuracy: 0.8520 - val_loss: 0.6010 - val_accuracy: 0.8556\n",
      "Epoch 4/5\n",
      "24/24 [==============================] - 186s 8s/step - loss: 0.5284 - accuracy: 0.8867 - val_loss: 0.5355 - val_accuracy: 0.8676\n",
      "Epoch 5/5\n",
      "24/24 [==============================] - 195s 8s/step - loss: 0.4454 - accuracy: 0.9053 - val_loss: 0.4952 - val_accuracy: 0.8708\n"
     ]
    }
   ],
   "source": [
    "efficientnet_model = create_model(efficientnet_url, num_classes = train_data_10_percent.num_classes)\n",
    "\n",
    "efficientnet_model.compile(\n",
    "    loss = \"categorical_crossentropy\",\n",
    "    optimizer = tf.keras.optimizers.Adam(),\n",
    "    metrics = [\"accuracy\"]\n",
    ")\n",
    "\n",
    "efficientnet_history = efficientnet_model.fit(\n",
    "    train_data_10_percent,\n",
    "    epochs = 5,\n",
    "    validation_data = test_data_10_percent,\n",
    "    callbacks = [\n",
    "        create_tensorboard_callback(dir_name = \"tensorflow_hub\", experiment_name= \"efficientnet\")\n",
    "    ]\n",
    ")"
   ]
  },
  {
   "cell_type": "code",
   "execution_count": 29,
   "metadata": {},
   "outputs": [
    {
     "data": {
      "image/png": "[encoded data removed]",
      "text/plain": [
       "<Figure size 432x288 with 1 Axes>"
      ]
     },
     "metadata": {
      "needs_background": "light"
     },
     "output_type": "display_data"
    },
    {
     "data": {
      "image/png": "[encoded data removed]",
      "text/plain": [
       "<Figure size 432x288 with 1 Axes>"
      ]
     },
     "metadata": {
      "needs_background": "light"
     },
     "output_type": "display_data"
    }
   ],
   "source": [
    "plot_loss_curves(efficientnet_history)"
   ]
  },
  {
   "cell_type": "code",
   "execution_count": 30,
   "metadata": {},
   "outputs": [
    {
     "name": "stdout",
     "output_type": "stream",
     "text": [
      "Model: \"sequential_1\"\n",
      "_________________________________________________________________\n",
      "Layer (type)                 Output Shape              Param #   \n",
      "=================================================================\n",
      "feature_extraction_layer (Ke (None, 1536)              10783528  \n",
      "_________________________________________________________________\n",
      "output_layer (Dense)         (None, 10)                15370     \n",
      "=================================================================\n",
      "Total params: 10,798,898\n",
      "Trainable params: 15,370\n",
      "Non-trainable params: 10,783,528\n",
      "_________________________________________________________________\n"
     ]
    }
   ],
   "source": [
    "efficientnet_model.summary()"
   ]
  },
  {
   "cell_type": "code",
   "execution_count": 33,
   "metadata": {},
   "outputs": [
    {
     "name": "stdout",
     "output_type": "stream",
     "text": [
      "^C\n"
     ]
    }
   ],
   "source": [
    "# 터미널 창에서 실행해주세요!\n",
    "tensorboard dev upload --logdir ./tensorflow_hub/ --name \"ee\" --one_shot"
   ]
  },
  {
   "cell_type": "code",
   "execution_count": null,
   "metadata": {},
   "outputs": [],
   "source": [
    "# --logdir : 업로드 대상 디렉토리 지정\n",
    "# --name : 실험 (experiment)의 이름\n",
    "# --description : 실험에 대한 간단한 설명\n",
    "# --one_shot : 1번에 업로드하고 마무리"
   ]
  },
  {
   "cell_type": "code",
   "execution_count": 34,
   "metadata": {},
   "outputs": [
    {
     "name": "stdout",
     "output_type": "stream",
     "text": [
      "^C\n"
     ]
    },
    {
     "name": "stderr",
     "output_type": "stream",
     "text": [
      "2021-11-02 21:09:49.315203: W tensorflow/stream_executor/platform/default/dso_loader.cc:64] Could not load dynamic library 'cudart64_110.dll'; dlerror: cudart64_110.dll not found\n",
      "2021-11-02 21:09:49.316208: I tensorflow/stream_executor/cuda/cudart_stub.cc:29] Ignore above cudart dlerror if you do not have a GPU set up on your machine.\n",
      "Total: 1 experiment(s)\n"
     ]
    },
    {
     "name": "stdout",
     "output_type": "stream",
     "text": [
      "https://tensorboard.dev/experiment/CyuN1X3uQUWsQWgYD0Xnfg/\n",
      "\tName                 Efficient와 Resnet\n",
      "\tDescription          강의자료\n",
      "\tId                   CyuN1X3uQUWsQWgYD0Xnfg\n",
      "\tCreated              2021-11-02 21:03:28 (6 minutes ago)\n",
      "\tUpdated              2021-11-02 21:03:39 (6 minutes ago)\n",
      "\tRuns                 6\n",
      "\tTags                 5\n",
      "\tScalars              90\n",
      "\tTensor bytes         0\n",
      "\tBinary object bytes  13064652\n"
     ]
    }
   ],
   "source": [
    "# 터미널 창에서\n",
    "tensorboard dev list"
   ]
  },
  {
   "cell_type": "code",
   "execution_count": null,
   "metadata": {},
   "outputs": [],
   "source": [
    "tensorboard dev delete --experiment_id CyuN1X3uQUWsQWgYD0Xnfg"
   ]
  }
 ],
 "metadata": {
  "interpreter": {
   "hash": "6b3447cca8a0b0c86d7520b5fa1f3cd462706b95e544f9d834e5d2b97e63a911"
  },
  "kernelspec": {
   "display_name": "Python 3.9.7 64-bit ('venv_test': venv)",
   "name": "python3"
  },
  "language_info": {
   "codemirror_mode": {
    "name": "ipython",
    "version": 3
   },
   "file_extension": ".py",
   "mimetype": "text/x-python",
   "name": "python",
   "nbconvert_exporter": "python",
   "pygments_lexer": "ipython3",
   "version": "3.9.7"
  },
  "orig_nbformat": 4
 },
 "nbformat": 4,
 "nbformat_minor": 2
}
