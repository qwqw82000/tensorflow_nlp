{
 "cells": [
  {
   "cell_type": "code",
   "execution_count": 1,
   "metadata": {},
   "outputs": [],
   "source": [
    "import numpy as np\n",
    "import pandas as pd\n",
    "import matplotlib.pyplot as plt\n",
    "import tensorflow as tf"
   ]
  },
  {
   "cell_type": "code",
   "execution_count": 2,
   "metadata": {},
   "outputs": [
    {
     "name": "stdout",
     "output_type": "stream",
     "text": [
      "1.19.5\n",
      "1.3.4\n",
      "2.6.0\n"
     ]
    }
   ],
   "source": [
    "print(np.__version__)\n",
    "print(pd.__version__)\n",
    "print(tf.__version__)"
   ]
  },
  {
   "cell_type": "code",
   "execution_count": 3,
   "metadata": {},
   "outputs": [
    {
     "name": "stdout",
     "output_type": "stream",
     "text": [
      "[-7. -4. -1.  2.  5.  8. 11. 14.] (8,)\n",
      "[ 3.  6.  9. 12. 15. 18. 21. 24.] (8,)\n"
     ]
    }
   ],
   "source": [
    "X = np.array([\n",
    "    -7., -4., -1., 2., 5., 8., 11., 14.\n",
    "])\n",
    "\n",
    "y = np.array([\n",
    "    3., 6., 9., 12., 15., 18., 21., 24.\n",
    "])\n",
    "\n",
    "print(X, X.shape)\n",
    "print(y, y.shape)"
   ]
  },
  {
   "cell_type": "code",
   "execution_count": 4,
   "metadata": {},
   "outputs": [
    {
     "data": {
      "text/plain": [
       "<matplotlib.collections.PathCollection at 0x1c2f75fa910>"
      ]
     },
     "execution_count": 4,
     "metadata": {},
     "output_type": "execute_result"
    },
    {
     "data": {
      "image/png": "[encoded data removed]",
      "text/plain": [
       "<Figure size 432x288 with 1 Axes>"
      ]
     },
     "metadata": {
      "needs_background": "light"
     },
     "output_type": "display_data"
    }
   ],
   "source": [
    "# 산점도! \n",
    "plt.scatter(X, y)"
   ]
  },
  {
   "cell_type": "code",
   "execution_count": 5,
   "metadata": {},
   "outputs": [],
   "source": [
    "# BA : Business Analytics    / 현재 business 상황을 파악하는 수준\n",
    "# BI : Business Intelligence / 현재 business 상황은 파악이 되었고, 이를 바탕으로 사업을 위해 예측"
   ]
  },
  {
   "cell_type": "code",
   "execution_count": 6,
   "metadata": {},
   "outputs": [
    {
     "data": {
      "text/plain": [
       "(<tf.Tensor: shape=(3,), dtype=string, numpy=array([b'bedroom', b'bathrom', b'garage'], dtype=object)>,\n",
       " <tf.Tensor: shape=(1,), dtype=int32, numpy=array([939700])>)"
      ]
     },
     "execution_count": 6,
     "metadata": {},
     "output_type": "execute_result"
    }
   ],
   "source": [
    "house_info = tf.constant([\"bedroom\", \"bathrom\", \"garage\"])\n",
    "house_price = tf.constant([939700])\n",
    "house_info, house_price"
   ]
  },
  {
   "cell_type": "code",
   "execution_count": 7,
   "metadata": {},
   "outputs": [
    {
     "data": {
      "text/plain": [
       "TensorShape([3])"
      ]
     },
     "execution_count": 7,
     "metadata": {},
     "output_type": "execute_result"
    }
   ],
   "source": [
    "house_info.shape"
   ]
  },
  {
   "cell_type": "code",
   "execution_count": 8,
   "metadata": {},
   "outputs": [
    {
     "name": "stdout",
     "output_type": "stream",
     "text": [
      "tf.Tensor([-7. -4. -1.  2.  5.  8. 11. 14.], shape=(8,), dtype=float32) (8,)\n",
      "tf.Tensor([ 3.  6.  9. 12. 15. 18. 21. 24.], shape=(8,), dtype=float32) (8,)\n"
     ]
    }
   ],
   "source": [
    "X = tf.constant([\n",
    "    -7., -4., -1., 2., 5., 8., 11., 14.\n",
    "])\n",
    "\n",
    "y = tf.constant([\n",
    "    3., 6., 9., 12., 15., 18., 21., 24.\n",
    "])\n",
    "\n",
    "print(X, X.shape)\n",
    "print(y, y.shape)"
   ]
  },
  {
   "cell_type": "code",
   "execution_count": 9,
   "metadata": {},
   "outputs": [
    {
     "data": {
      "text/plain": [
       "<matplotlib.collections.PathCollection at 0x1c2f77211f0>"
      ]
     },
     "execution_count": 9,
     "metadata": {},
     "output_type": "execute_result"
    },
    {
     "data": {
      "image/png": "[encoded data removed]",
      "text/plain": [
       "<Figure size 432x288 with 1 Axes>"
      ]
     },
     "metadata": {
      "needs_background": "light"
     },
     "output_type": "display_data"
    }
   ],
   "source": [
    "plt.scatter(X, y)"
   ]
  },
  {
   "cell_type": "code",
   "execution_count": 10,
   "metadata": {},
   "outputs": [
    {
     "name": "stdout",
     "output_type": "stream",
     "text": [
      "tf.Tensor(-7.0, shape=(), dtype=float32) tf.Tensor(3.0, shape=(), dtype=float32)\n",
      "() ()\n"
     ]
    }
   ],
   "source": [
    "input_shape = X[0].shape\n",
    "\n",
    "output_shape = y[0].shape\n",
    "\n",
    "print(X[0], y[0])\n",
    "print(input_shape, output_shape)"
   ]
  },
  {
   "cell_type": "code",
   "execution_count": 11,
   "metadata": {},
   "outputs": [],
   "source": [
    "# tensorflow 1.X vs. tensorflow 2.X\n",
    "# \n",
    "# Tensorflow 2.X에서 머신러닝이나 딥러닝을 한다...\n",
    "# Keras를 사용하게 된다.\n",
    "# \n",
    "# Tensorflow를 가지고 머신러닝이나 딥러닝을 하는 방법\n",
    "# 1. Sequential (난이도 하)\n",
    "# 2. Functional (난이도 중)\n",
    "# 3. Subclass (난이도 상)"
   ]
  },
  {
   "cell_type": "code",
   "execution_count": 12,
   "metadata": {},
   "outputs": [],
   "source": [
    "# Tensorflow로 머신러닝이나 딥러닝을 한다.\n",
    "# 1. 데이터 준비\n",
    "# 2. 모델 생성 (create) : 신경망을 구성하는 레이어 (층)들을 직접 구성 / 전이학습에서 사용할 이전의 모델을 가져온다\n",
    "# 3. 모델을 컴파일 (compile) : 모델 성능(performance)을 어떻게 측정 (loss/metrics)할지 그리고 학습을 어떻게 개선할지 (optimizer)\n",
    "# 4. 모델을 학습시킨다 (fit) : 모델이 데이터있는 패턴을 찾을 수 있도록 합니다."
   ]
  },
  {
   "cell_type": "code",
   "execution_count": 13,
   "metadata": {},
   "outputs": [],
   "source": [
    "# batch size : 데이터셋이 존재할 경우, 1번에 다 학습시키면, 메모리 부족현상 발생할 수도 있고, 효율성이 부족하다\n",
    "#               전체 데이터에서 학습할 때마다 얼만큼 가져올 것인지 ex) 데이터가 100개 batch size 10으로 / 10번 쪼개서 학습\n",
    "# epoch : 데이터셋이 있을 때, 이 데이터셋을 몇 번 학습시킬 것인지 지정 / 똑같은 문제집을 몇 번 볼거냐...\n",
    "# 1epoch에서 10번으로 나누어서 학습을 한다.\n"
   ]
  },
  {
   "cell_type": "code",
   "execution_count": 14,
   "metadata": {},
   "outputs": [
    {
     "name": "stdout",
     "output_type": "stream",
     "text": [
      "Epoch 1/5\n",
      "1/1 [==============================] - 1s 1s/step - loss: 11.5048 - mae: 11.5048\n",
      "Epoch 2/5\n",
      "1/1 [==============================] - 0s 15ms/step - loss: 11.3723 - mae: 11.3723\n",
      "Epoch 3/5\n",
      "1/1 [==============================] - 0s 1ms/step - loss: 11.2398 - mae: 11.2398\n",
      "Epoch 4/5\n",
      "1/1 [==============================] - 0s 1ms/step - loss: 11.1073 - mae: 11.1073\n",
      "Epoch 5/5\n",
      "1/1 [==============================] - 0s 999us/step - loss: 10.9748 - mae: 10.9748\n"
     ]
    },
    {
     "data": {
      "text/plain": [
       "<keras.callbacks.History at 0x1c2ff1a8160>"
      ]
     },
     "execution_count": 14,
     "metadata": {},
     "output_type": "execute_result"
    }
   ],
   "source": [
    "tf.random.set_seed(42)\n",
    "\n",
    "model = tf.keras.Sequential([\n",
    "    tf.keras.layers.Dense(1)\n",
    "])\n",
    "\n",
    "model.compile(\n",
    "    loss = tf.keras.losses.mae, # mean absolute error\n",
    "    optimizer = tf.keras.optimizers.SGD(), # stochastic gradient descent\n",
    "    metrics = [\"mae\"]\n",
    ")\n",
    "\n",
    "model.fit(X, y, epochs = 5)"
   ]
  },
  {
   "cell_type": "code",
   "execution_count": 15,
   "metadata": {},
   "outputs": [
    {
     "data": {
      "text/plain": [
       "(<tf.Tensor: shape=(8,), dtype=float32, numpy=array([-7., -4., -1.,  2.,  5.,  8., 11., 14.], dtype=float32)>,\n",
       " <tf.Tensor: shape=(8,), dtype=float32, numpy=array([ 3.,  6.,  9., 12., 15., 18., 21., 24.], dtype=float32)>)"
      ]
     },
     "execution_count": 15,
     "metadata": {},
     "output_type": "execute_result"
    }
   ],
   "source": [
    "X, y"
   ]
  },
  {
   "cell_type": "code",
   "execution_count": 16,
   "metadata": {},
   "outputs": [
    {
     "data": {
      "text/plain": [
       "array([[12.716021]], dtype=float32)"
      ]
     },
     "execution_count": 16,
     "metadata": {},
     "output_type": "execute_result"
    }
   ],
   "source": [
    "# 우리가 지금 모델을 만든 이유! ===> 예측 (predict) 을 하고 싶다!\n",
    "model.predict(\n",
    "    [17.]\n",
    ")"
   ]
  },
  {
   "cell_type": "code",
   "execution_count": 17,
   "metadata": {},
   "outputs": [],
   "source": [
    "# 모델을 개선하기 위해...\n",
    "# 1. 데이터를 많이 준비 (더 많은 것으로 학습을 한다)\n",
    "# 2. 모델 생성시 레이어를 더 추가하거나, 각 레이어에 포함되는 뉴런을 추가, 활성화 함수를 변경\n",
    "# 3. 모델 컴파일시 optimization 함수를 변경하거나 learning rate를 수정\n",
    "# 4. 모델 학습시 epoch를 늘려준다 (더 오래 학습한다)"
   ]
  },
  {
   "cell_type": "code",
   "execution_count": 18,
   "metadata": {},
   "outputs": [
    {
     "name": "stdout",
     "output_type": "stream",
     "text": [
      "Epoch 1/100\n",
      "1/1 [==============================] - 0s 145ms/step - loss: 11.5048 - mae: 11.5048\n",
      "Epoch 2/100\n",
      "1/1 [==============================] - 0s 1ms/step - loss: 11.3723 - mae: 11.3723\n",
      "Epoch 3/100\n",
      "1/1 [==============================] - 0s 1ms/step - loss: 11.2398 - mae: 11.2398\n",
      "Epoch 4/100\n",
      "1/1 [==============================] - 0s 1ms/step - loss: 11.1073 - mae: 11.1073\n",
      "Epoch 5/100\n",
      "1/1 [==============================] - 0s 2ms/step - loss: 10.9748 - mae: 10.9748\n",
      "Epoch 6/100\n",
      "1/1 [==============================] - 0s 1ms/step - loss: 10.8423 - mae: 10.8423\n",
      "Epoch 7/100\n",
      "1/1 [==============================] - 0s 1ms/step - loss: 10.7098 - mae: 10.7098\n",
      "Epoch 8/100\n",
      "1/1 [==============================] - 0s 2ms/step - loss: 10.5773 - mae: 10.5773\n",
      "Epoch 9/100\n",
      "1/1 [==============================] - 0s 2ms/step - loss: 10.4448 - mae: 10.4448\n",
      "Epoch 10/100\n",
      "1/1 [==============================] - 0s 1000us/step - loss: 10.3123 - mae: 10.3123\n",
      "Epoch 11/100\n",
      "1/1 [==============================] - 0s 2ms/step - loss: 10.1798 - mae: 10.1798\n",
      "Epoch 12/100\n",
      "1/1 [==============================] - 0s 2ms/step - loss: 10.0473 - mae: 10.0473\n",
      "Epoch 13/100\n",
      "1/1 [==============================] - 0s 1ms/step - loss: 9.9148 - mae: 9.9148\n",
      "Epoch 14/100\n",
      "1/1 [==============================] - 0s 2ms/step - loss: 9.7823 - mae: 9.7823\n",
      "Epoch 15/100\n",
      "1/1 [==============================] - 0s 2ms/step - loss: 9.6498 - mae: 9.6498\n",
      "Epoch 16/100\n",
      "1/1 [==============================] - 0s 1ms/step - loss: 9.5173 - mae: 9.5173\n",
      "Epoch 17/100\n",
      "1/1 [==============================] - 0s 2ms/step - loss: 9.3848 - mae: 9.3848\n",
      "Epoch 18/100\n",
      "1/1 [==============================] - 0s 1ms/step - loss: 9.2523 - mae: 9.2523\n",
      "Epoch 19/100\n",
      "1/1 [==============================] - 0s 1ms/step - loss: 9.1198 - mae: 9.1198\n",
      "Epoch 20/100\n",
      "1/1 [==============================] - 0s 2ms/step - loss: 8.9873 - mae: 8.9873\n",
      "Epoch 21/100\n",
      "1/1 [==============================] - 0s 1000us/step - loss: 8.8548 - mae: 8.8548\n",
      "Epoch 22/100\n",
      "1/1 [==============================] - 0s 998us/step - loss: 8.7223 - mae: 8.7223\n",
      "Epoch 23/100\n",
      "1/1 [==============================] - 0s 1ms/step - loss: 8.5898 - mae: 8.5898\n",
      "Epoch 24/100\n",
      "1/1 [==============================] - 0s 1ms/step - loss: 8.4573 - mae: 8.4573\n",
      "Epoch 25/100\n",
      "1/1 [==============================] - 0s 1000us/step - loss: 8.3248 - mae: 8.3248\n",
      "Epoch 26/100\n",
      "1/1 [==============================] - 0s 1000us/step - loss: 8.1923 - mae: 8.1923\n",
      "Epoch 27/100\n",
      "1/1 [==============================] - 0s 2ms/step - loss: 8.0598 - mae: 8.0598\n",
      "Epoch 28/100\n",
      "1/1 [==============================] - 0s 999us/step - loss: 7.9273 - mae: 7.9273\n",
      "Epoch 29/100\n",
      "1/1 [==============================] - 0s 1ms/step - loss: 7.7948 - mae: 7.7948\n",
      "Epoch 30/100\n",
      "1/1 [==============================] - 0s 1000us/step - loss: 7.6623 - mae: 7.6623\n",
      "Epoch 31/100\n",
      "1/1 [==============================] - 0s 1000us/step - loss: 7.5298 - mae: 7.5298\n",
      "Epoch 32/100\n",
      "1/1 [==============================] - 0s 1ms/step - loss: 7.3973 - mae: 7.3973\n",
      "Epoch 33/100\n",
      "1/1 [==============================] - 0s 999us/step - loss: 7.2648 - mae: 7.2648\n",
      "Epoch 34/100\n",
      "1/1 [==============================] - 0s 999us/step - loss: 7.2525 - mae: 7.2525\n",
      "Epoch 35/100\n",
      "1/1 [==============================] - 0s 2ms/step - loss: 7.2469 - mae: 7.2469\n",
      "Epoch 36/100\n",
      "1/1 [==============================] - 0s 2ms/step - loss: 7.2413 - mae: 7.2413\n",
      "Epoch 37/100\n",
      "1/1 [==============================] - 0s 2ms/step - loss: 7.2356 - mae: 7.2356\n",
      "Epoch 38/100\n",
      "1/1 [==============================] - 0s 999us/step - loss: 7.2300 - mae: 7.2300\n",
      "Epoch 39/100\n",
      "1/1 [==============================] - 0s 999us/step - loss: 7.2244 - mae: 7.2244\n",
      "Epoch 40/100\n",
      "1/1 [==============================] - 0s 2ms/step - loss: 7.2188 - mae: 7.2188\n",
      "Epoch 41/100\n",
      "1/1 [==============================] - 0s 1ms/step - loss: 7.2131 - mae: 7.2131\n",
      "Epoch 42/100\n",
      "1/1 [==============================] - 0s 2ms/step - loss: 7.2075 - mae: 7.2075\n",
      "Epoch 43/100\n",
      "1/1 [==============================] - 0s 1ms/step - loss: 7.2019 - mae: 7.2019\n",
      "Epoch 44/100\n",
      "1/1 [==============================] - 0s 1ms/step - loss: 7.1963 - mae: 7.1963\n",
      "Epoch 45/100\n",
      "1/1 [==============================] - 0s 1ms/step - loss: 7.1906 - mae: 7.1906\n",
      "Epoch 46/100\n",
      "1/1 [==============================] - 0s 2ms/step - loss: 7.1850 - mae: 7.1850\n",
      "Epoch 47/100\n",
      "1/1 [==============================] - 0s 999us/step - loss: 7.1794 - mae: 7.1794\n",
      "Epoch 48/100\n",
      "1/1 [==============================] - 0s 1000us/step - loss: 7.1738 - mae: 7.1738\n",
      "Epoch 49/100\n",
      "1/1 [==============================] - 0s 2ms/step - loss: 7.1681 - mae: 7.1681\n",
      "Epoch 50/100\n",
      "1/1 [==============================] - 0s 1ms/step - loss: 7.1625 - mae: 7.1625\n",
      "Epoch 51/100\n",
      "1/1 [==============================] - 0s 2ms/step - loss: 7.1569 - mae: 7.1569\n",
      "Epoch 52/100\n",
      "1/1 [==============================] - 0s 1ms/step - loss: 7.1512 - mae: 7.1512\n",
      "Epoch 53/100\n",
      "1/1 [==============================] - 0s 1000us/step - loss: 7.1456 - mae: 7.1456\n",
      "Epoch 54/100\n",
      "1/1 [==============================] - 0s 1ms/step - loss: 7.1400 - mae: 7.1400\n",
      "Epoch 55/100\n",
      "1/1 [==============================] - 0s 1ms/step - loss: 7.1344 - mae: 7.1344\n",
      "Epoch 56/100\n",
      "1/1 [==============================] - 0s 2ms/step - loss: 7.1287 - mae: 7.1287\n",
      "Epoch 57/100\n",
      "1/1 [==============================] - 0s 1ms/step - loss: 7.1231 - mae: 7.1231\n",
      "Epoch 58/100\n",
      "1/1 [==============================] - 0s 1000us/step - loss: 7.1175 - mae: 7.1175\n",
      "Epoch 59/100\n",
      "1/1 [==============================] - 0s 1ms/step - loss: 7.1119 - mae: 7.1119\n",
      "Epoch 60/100\n",
      "1/1 [==============================] - 0s 2ms/step - loss: 7.1063 - mae: 7.1063\n",
      "Epoch 61/100\n",
      "1/1 [==============================] - 0s 1ms/step - loss: 7.1006 - mae: 7.1006\n",
      "Epoch 62/100\n",
      "1/1 [==============================] - 0s 1000us/step - loss: 7.0950 - mae: 7.0950\n",
      "Epoch 63/100\n",
      "1/1 [==============================] - 0s 1ms/step - loss: 7.0894 - mae: 7.0894\n",
      "Epoch 64/100\n",
      "1/1 [==============================] - 0s 2ms/step - loss: 7.0838 - mae: 7.0838\n",
      "Epoch 65/100\n",
      "1/1 [==============================] - 0s 1000us/step - loss: 7.0781 - mae: 7.0781\n",
      "Epoch 66/100\n",
      "1/1 [==============================] - 0s 2ms/step - loss: 7.0725 - mae: 7.0725\n",
      "Epoch 67/100\n",
      "1/1 [==============================] - 0s 1000us/step - loss: 7.0669 - mae: 7.0669\n",
      "Epoch 68/100\n",
      "1/1 [==============================] - 0s 1ms/step - loss: 7.0613 - mae: 7.0613\n",
      "Epoch 69/100\n",
      "1/1 [==============================] - 0s 1000us/step - loss: 7.0556 - mae: 7.0556\n",
      "Epoch 70/100\n",
      "1/1 [==============================] - 0s 1ms/step - loss: 7.0500 - mae: 7.0500\n",
      "Epoch 71/100\n",
      "1/1 [==============================] - 0s 1ms/step - loss: 7.0444 - mae: 7.0444\n",
      "Epoch 72/100\n",
      "1/1 [==============================] - 0s 1000us/step - loss: 7.0388 - mae: 7.0388\n",
      "Epoch 73/100\n",
      "1/1 [==============================] - 0s 2ms/step - loss: 7.0331 - mae: 7.0331\n",
      "Epoch 74/100\n",
      "1/1 [==============================] - 0s 999us/step - loss: 7.0275 - mae: 7.0275\n",
      "Epoch 75/100\n",
      "1/1 [==============================] - 0s 1000us/step - loss: 7.0219 - mae: 7.0219\n",
      "Epoch 76/100\n",
      "1/1 [==============================] - 0s 2ms/step - loss: 7.0163 - mae: 7.0163\n",
      "Epoch 77/100\n",
      "1/1 [==============================] - 0s 1ms/step - loss: 7.0106 - mae: 7.0106\n",
      "Epoch 78/100\n",
      "1/1 [==============================] - 0s 2ms/step - loss: 7.0050 - mae: 7.0050\n",
      "Epoch 79/100\n",
      "1/1 [==============================] - 0s 999us/step - loss: 6.9994 - mae: 6.9994\n",
      "Epoch 80/100\n",
      "1/1 [==============================] - 0s 1ms/step - loss: 6.9938 - mae: 6.9938\n",
      "Epoch 81/100\n",
      "1/1 [==============================] - 0s 1ms/step - loss: 6.9881 - mae: 6.9881\n",
      "Epoch 82/100\n",
      "1/1 [==============================] - 0s 1ms/step - loss: 6.9825 - mae: 6.9825\n",
      "Epoch 83/100\n",
      "1/1 [==============================] - 0s 1ms/step - loss: 6.9769 - mae: 6.9769\n",
      "Epoch 84/100\n",
      "1/1 [==============================] - 0s 1ms/step - loss: 6.9713 - mae: 6.9713\n",
      "Epoch 85/100\n",
      "1/1 [==============================] - 0s 999us/step - loss: 6.9656 - mae: 6.9656\n",
      "Epoch 86/100\n",
      "1/1 [==============================] - 0s 1000us/step - loss: 6.9600 - mae: 6.9600\n",
      "Epoch 87/100\n",
      "1/1 [==============================] - 0s 1ms/step - loss: 6.9544 - mae: 6.9544\n",
      "Epoch 88/100\n",
      "1/1 [==============================] - 0s 2ms/step - loss: 6.9488 - mae: 6.9488\n",
      "Epoch 89/100\n",
      "1/1 [==============================] - 0s 1ms/step - loss: 6.9431 - mae: 6.9431\n",
      "Epoch 90/100\n",
      "1/1 [==============================] - 0s 1ms/step - loss: 6.9375 - mae: 6.9375\n",
      "Epoch 91/100\n",
      "1/1 [==============================] - 0s 2ms/step - loss: 6.9319 - mae: 6.9319\n",
      "Epoch 92/100\n",
      "1/1 [==============================] - 0s 1ms/step - loss: 6.9263 - mae: 6.9263\n",
      "Epoch 93/100\n",
      "1/1 [==============================] - 0s 1000us/step - loss: 6.9206 - mae: 6.9206\n",
      "Epoch 94/100\n",
      "1/1 [==============================] - 0s 1ms/step - loss: 6.9150 - mae: 6.9150\n",
      "Epoch 95/100\n",
      "1/1 [==============================] - 0s 1ms/step - loss: 6.9094 - mae: 6.9094\n",
      "Epoch 96/100\n",
      "1/1 [==============================] - 0s 999us/step - loss: 6.9038 - mae: 6.9038\n",
      "Epoch 97/100\n",
      "1/1 [==============================] - 0s 2ms/step - loss: 6.8981 - mae: 6.8981\n",
      "Epoch 98/100\n",
      "1/1 [==============================] - 0s 2ms/step - loss: 6.8925 - mae: 6.8925\n",
      "Epoch 99/100\n",
      "1/1 [==============================] - 0s 1ms/step - loss: 6.8869 - mae: 6.8869\n",
      "Epoch 100/100\n",
      "1/1 [==============================] - 0s 2ms/step - loss: 6.8813 - mae: 6.8813\n"
     ]
    },
    {
     "data": {
      "text/plain": [
       "<keras.callbacks.History at 0x1c2ff376d90>"
      ]
     },
     "execution_count": 18,
     "metadata": {},
     "output_type": "execute_result"
    }
   ],
   "source": [
    "tf.random.set_seed(42)\n",
    "\n",
    "model = tf.keras.Sequential([\n",
    "    tf.keras.layers.Dense(1)\n",
    "])\n",
    "\n",
    "model.compile(\n",
    "    loss = tf.keras.losses.mae, # mean absolute error\n",
    "    optimizer = tf.keras.optimizers.SGD(), # stochastic gradient descent\n",
    "    metrics = [\"mae\"]\n",
    ")\n",
    "\n",
    "model.fit(X, y, epochs = 100)"
   ]
  },
  {
   "cell_type": "code",
   "execution_count": 19,
   "metadata": {},
   "outputs": [
    {
     "data": {
      "text/plain": [
       "(<tf.Tensor: shape=(8,), dtype=float32, numpy=array([-7., -4., -1.,  2.,  5.,  8., 11., 14.], dtype=float32)>,\n",
       " <tf.Tensor: shape=(8,), dtype=float32, numpy=array([ 3.,  6.,  9., 12., 15., 18., 21., 24.], dtype=float32)>)"
      ]
     },
     "execution_count": 19,
     "metadata": {},
     "output_type": "execute_result"
    }
   ],
   "source": [
    "X, y"
   ]
  },
  {
   "cell_type": "code",
   "execution_count": 20,
   "metadata": {},
   "outputs": [
    {
     "data": {
      "text/plain": [
       "array([[30.158512]], dtype=float32)"
      ]
     },
     "execution_count": 20,
     "metadata": {},
     "output_type": "execute_result"
    }
   ],
   "source": [
    "model.predict(\n",
    "    [17.0]\n",
    ")"
   ]
  },
  {
   "cell_type": "code",
   "execution_count": 21,
   "metadata": {},
   "outputs": [],
   "source": [
    "# MLOps, AIOps, DataOps\n",
    "# 모델을 생성 -> 이 모델을 평가 -> 모델을 개선해서 다시 생성 -> 이 모델을 평가 -> 모델을 개선해서 다시 생성 -> 이 모델을 평가 -> ...."
   ]
  },
  {
   "cell_type": "code",
   "execution_count": 22,
   "metadata": {},
   "outputs": [],
   "source": [
    "import numpy as np\n",
    "import pandas as pd\n",
    "import matplotlib.pyplot as plt\n",
    "import tensorflow as tf"
   ]
  },
  {
   "cell_type": "code",
   "execution_count": 23,
   "metadata": {},
   "outputs": [
    {
     "data": {
      "text/plain": [
       "array([-100,  -96,  -92,  -88,  -84,  -80,  -76,  -72,  -68,  -64,  -60,\n",
       "        -56,  -52,  -48,  -44,  -40,  -36,  -32,  -28,  -24,  -20,  -16,\n",
       "        -12,   -8,   -4,    0,    4,    8,   12,   16,   20,   24,   28,\n",
       "         32,   36,   40,   44,   48,   52,   56,   60,   64,   68,   72,\n",
       "         76,   80,   84,   88,   92,   96])"
      ]
     },
     "execution_count": 23,
     "metadata": {},
     "output_type": "execute_result"
    }
   ],
   "source": [
    "X = np.arange(-100, 100, 4)\n",
    "X"
   ]
  },
  {
   "cell_type": "code",
   "execution_count": 24,
   "metadata": {},
   "outputs": [
    {
     "data": {
      "text/plain": [
       "array([-90, -86, -82, -78, -74, -70, -66, -62, -58, -54, -50, -46, -42,\n",
       "       -38, -34, -30, -26, -22, -18, -14, -10,  -6,  -2,   2,   6,  10,\n",
       "        14,  18,  22,  26,  30,  34,  38,  42,  46,  50,  54,  58,  62,\n",
       "        66,  70,  74,  78,  82,  86,  90,  94,  98, 102, 106])"
      ]
     },
     "execution_count": 24,
     "metadata": {},
     "output_type": "execute_result"
    }
   ],
   "source": [
    "y = np.arange(-90, 110, 4)\n",
    "y"
   ]
  },
  {
   "cell_type": "code",
   "execution_count": 25,
   "metadata": {},
   "outputs": [
    {
     "data": {
      "text/plain": [
       "array([-90, -86, -82, -78, -74, -70, -66, -62, -58, -54, -50, -46, -42,\n",
       "       -38, -34, -30, -26, -22, -18, -14, -10,  -6,  -2,   2,   6,  10,\n",
       "        14,  18,  22,  26,  30,  34,  38,  42,  46,  50,  54,  58,  62,\n",
       "        66,  70,  74,  78,  82,  86,  90,  94,  98, 102, 106])"
      ]
     },
     "execution_count": 25,
     "metadata": {},
     "output_type": "execute_result"
    }
   ],
   "source": [
    "# y = X + 10\n",
    "y = X + 10\n",
    "y"
   ]
  },
  {
   "cell_type": "code",
   "execution_count": 26,
   "metadata": {},
   "outputs": [],
   "source": [
    "# 데이터들을 나누기\n",
    "# Traning set : 이 데이터로 모델은 학습을 한다. 전체 데이터셋에서 70 ~ 80%\n",
    "# Validation set (optional) : 학습을 할 때 잘하고 있는지 확인하는 데이터 / 수능 모의고사\n",
    "# Test set : 학습한 모델을 test하기 위한 데이터, validation set이 없다하면 20 ~ 30% / 수능"
   ]
  },
  {
   "cell_type": "code",
   "execution_count": 27,
   "metadata": {},
   "outputs": [
    {
     "data": {
      "text/plain": [
       "50"
      ]
     },
     "execution_count": 27,
     "metadata": {},
     "output_type": "execute_result"
    }
   ],
   "source": [
    "len(X)"
   ]
  },
  {
   "cell_type": "code",
   "execution_count": 28,
   "metadata": {},
   "outputs": [
    {
     "data": {
      "text/plain": [
       "(40, 10)"
      ]
     },
     "execution_count": 28,
     "metadata": {},
     "output_type": "execute_result"
    }
   ],
   "source": [
    "X_train = X[:40]\n",
    "y_train = y[:40]\n",
    "\n",
    "X_test = X[40:]\n",
    "y_test = y[40:]\n",
    "\n",
    "len(X_train), len(X_test)"
   ]
  },
  {
   "cell_type": "code",
   "execution_count": 29,
   "metadata": {},
   "outputs": [],
   "source": [
    "# 시각화, 시각화, 시각화!"
   ]
  },
  {
   "cell_type": "code",
   "execution_count": 30,
   "metadata": {},
   "outputs": [
    {
     "data": {
      "text/plain": [
       "<matplotlib.legend.Legend at 0x1c2ff454bb0>"
      ]
     },
     "execution_count": 30,
     "metadata": {},
     "output_type": "execute_result"
    },
    {
     "data": {
      "image/png": "[encoded data removed]",
      "text/plain": [
       "<Figure size 720x504 with 1 Axes>"
      ]
     },
     "metadata": {
      "needs_background": "light"
     },
     "output_type": "display_data"
    }
   ],
   "source": [
    "plt.figure(figsize = (10, 7))\n",
    "\n",
    "plt.scatter(X_train, y_train, c = \"b\", label = \"Training Data\")\n",
    "plt.scatter(X_test, y_test, c = \"g\", label = \"Testing Data\")\n",
    "\n",
    "plt.legend()"
   ]
  },
  {
   "cell_type": "code",
   "execution_count": 31,
   "metadata": {},
   "outputs": [],
   "source": [
    "tf.random.set_seed(42)\n",
    "\n",
    "model = tf.keras.Sequential([\n",
    "    tf.keras.layers.Dense(1)\n",
    "])\n",
    "\n",
    "model.compile(\n",
    "    loss = tf.keras.losses.mae, # mean absolute error\n",
    "    optimizer = tf.keras.optimizers.SGD(), # stochastic gradient descent\n",
    "    metrics = [\"mae\"]\n",
    ")\n",
    "\n",
    "# model.fit(X, y, epochs = 100)"
   ]
  },
  {
   "cell_type": "code",
   "execution_count": 32,
   "metadata": {},
   "outputs": [
    {
     "ename": "ValueError",
     "evalue": "This model has not yet been built. Build the model first by calling `build()` or calling `fit()` with some data, or specify an `input_shape` argument in the first layer(s) for automatic build.",
     "output_type": "error",
     "traceback": [
      "\u001b[1;31m---------------------------------------------------------------------------\u001b[0m",
      "\u001b[1;31mValueError\u001b[0m                                Traceback (most recent call last)",
      "\u001b[1;32mC:\\Users\\Public\\Documents\\ESTsoft\\CreatorTemp/ipykernel_14760/3470139634.py\u001b[0m in \u001b[0;36m<module>\u001b[1;34m\u001b[0m\n\u001b[1;32m----> 1\u001b[1;33m \u001b[0mmodel\u001b[0m\u001b[1;33m.\u001b[0m\u001b[0msummary\u001b[0m\u001b[1;33m(\u001b[0m\u001b[1;33m)\u001b[0m\u001b[1;33m\u001b[0m\u001b[1;33m\u001b[0m\u001b[0m\n\u001b[0m",
      "\u001b[1;32md:\\Git\\study\\tensorflow_nlp\\tensorflow_nlp\\lib\\site-packages\\keras\\engine\\training.py\u001b[0m in \u001b[0;36msummary\u001b[1;34m(self, line_length, positions, print_fn)\u001b[0m\n\u001b[0;32m   2519\u001b[0m     \"\"\"\n\u001b[0;32m   2520\u001b[0m     \u001b[1;32mif\u001b[0m \u001b[1;32mnot\u001b[0m \u001b[0mself\u001b[0m\u001b[1;33m.\u001b[0m\u001b[0mbuilt\u001b[0m\u001b[1;33m:\u001b[0m\u001b[1;33m\u001b[0m\u001b[1;33m\u001b[0m\u001b[0m\n\u001b[1;32m-> 2521\u001b[1;33m       raise ValueError('This model has not yet been built. '\n\u001b[0m\u001b[0;32m   2522\u001b[0m                        \u001b[1;34m'Build the model first by calling `build()` or calling '\u001b[0m\u001b[1;33m\u001b[0m\u001b[1;33m\u001b[0m\u001b[0m\n\u001b[0;32m   2523\u001b[0m                        \u001b[1;34m'`fit()` with some data, or specify '\u001b[0m\u001b[1;33m\u001b[0m\u001b[1;33m\u001b[0m\u001b[0m\n",
      "\u001b[1;31mValueError\u001b[0m: This model has not yet been built. Build the model first by calling `build()` or calling `fit()` with some data, or specify an `input_shape` argument in the first layer(s) for automatic build."
     ]
    }
   ],
   "source": [
    "model.summary()"
   ]
  },
  {
   "cell_type": "code",
   "execution_count": 33,
   "metadata": {},
   "outputs": [],
   "source": [
    "tf.random.set_seed(42)\n",
    "\n",
    "model = tf.keras.Sequential([\n",
    "    tf.keras.layers.Dense(1, input_shape = [1])\n",
    "])\n",
    "\n",
    "model.compile(\n",
    "    loss = tf.keras.losses.mae, # mean absolute error\n",
    "    optimizer = tf.keras.optimizers.SGD(), # stochastic gradient descent\n",
    "    metrics = [\"mae\"]\n",
    ")"
   ]
  },
  {
   "cell_type": "code",
   "execution_count": 34,
   "metadata": {},
   "outputs": [
    {
     "name": "stdout",
     "output_type": "stream",
     "text": [
      "Model: \"sequential_3\"\n",
      "_________________________________________________________________\n",
      "Layer (type)                 Output Shape              Param #   \n",
      "=================================================================\n",
      "dense_3 (Dense)              (None, 1)                 2         \n",
      "=================================================================\n",
      "Total params: 2\n",
      "Trainable params: 2\n",
      "Non-trainable params: 0\n",
      "_________________________________________________________________\n"
     ]
    }
   ],
   "source": [
    "model.summary()"
   ]
  },
  {
   "cell_type": "code",
   "execution_count": 35,
   "metadata": {},
   "outputs": [],
   "source": [
    "# Total params: 모델에 존재하는 파라미터의 총갯수\n",
    "# Trainable params: 학습을 하면서 모델이 최신화하는 파라미터의 갯수\n",
    "# Non-trainable params: Trainable param의 반대 개념"
   ]
  },
  {
   "cell_type": "code",
   "execution_count": 36,
   "metadata": {},
   "outputs": [
    {
     "data": {
      "text/plain": [
       "<keras.callbacks.History at 0x1c2ff6dbd90>"
      ]
     },
     "execution_count": 36,
     "metadata": {},
     "output_type": "execute_result"
    }
   ],
   "source": [
    "model.fit(X_train, y_train, epochs = 100, verbose = 0)"
   ]
  },
  {
   "cell_type": "code",
   "execution_count": 37,
   "metadata": {},
   "outputs": [
    {
     "name": "stdout",
     "output_type": "stream",
     "text": [
      "Model: \"sequential_3\"\n",
      "_________________________________________________________________\n",
      "Layer (type)                 Output Shape              Param #   \n",
      "=================================================================\n",
      "dense_3 (Dense)              (None, 1)                 2         \n",
      "=================================================================\n",
      "Total params: 2\n",
      "Trainable params: 2\n",
      "Non-trainable params: 0\n",
      "_________________________________________________________________\n"
     ]
    }
   ],
   "source": [
    "model.summary()"
   ]
  },
  {
   "cell_type": "code",
   "execution_count": 38,
   "metadata": {},
   "outputs": [
    {
     "name": "stdout",
     "output_type": "stream",
     "text": [
      "Requirement already satisfied: keras-utils in d:\\git\\study\\tensorflow_nlp\\tensorflow_nlp\\lib\\site-packages (1.0.13)\n",
      "Requirement already satisfied: Keras>=2.1.5 in d:\\git\\study\\tensorflow_nlp\\tensorflow_nlp\\lib\\site-packages (from keras-utils) (2.6.0)\n"
     ]
    },
    {
     "name": "stderr",
     "output_type": "stream",
     "text": [
      "WARNING: You are using pip version 20.2.1; however, version 21.3.1 is available.\n",
      "You should consider upgrading via the 'd:\\git\\study\\tensorflow_nlp\\tensorflow_nlp\\scripts\\python.exe -m pip install --upgrade pip' command.\n"
     ]
    }
   ],
   "source": [
    "!pip install keras-utils"
   ]
  },
  {
   "cell_type": "code",
   "execution_count": 39,
   "metadata": {},
   "outputs": [],
   "source": [
    "from tensorflow.keras.utils import plot_model"
   ]
  },
  {
   "cell_type": "code",
   "execution_count": 40,
   "metadata": {},
   "outputs": [
    {
     "name": "stdout",
     "output_type": "stream",
     "text": [
      "Requirement already satisfied: pydot in d:\\git\\study\\tensorflow_nlp\\tensorflow_nlp\\lib\\site-packages (1.4.2)"
     ]
    },
    {
     "name": "stderr",
     "output_type": "stream",
     "text": [
      "WARNING: You are using pip version 20.2.1; however, version 21.3.1 is available.\n",
      "You should consider upgrading via the 'd:\\git\\study\\tensorflow_nlp\\tensorflow_nlp\\scripts\\python.exe -m pip install --upgrade pip' command.\n"
     ]
    },
    {
     "name": "stdout",
     "output_type": "stream",
     "text": [
      "\n",
      "Requirement already satisfied: graphviz in d:\\git\\study\\tensorflow_nlp\\tensorflow_nlp\\lib\\site-packages (0.17)\n",
      "Requirement already satisfied: pyparsing>=2.1.4 in d:\\git\\study\\tensorflow_nlp\\tensorflow_nlp\\lib\\site-packages (from pydot) (3.0.1)\n"
     ]
    }
   ],
   "source": [
    "!pip install pydot graphviz"
   ]
  },
  {
   "cell_type": "code",
   "execution_count": 41,
   "metadata": {},
   "outputs": [
    {
     "data": {
      "image/png": "[encoded data removed]",
      "text/plain": [
       "<IPython.core.display.Image object>"
      ]
     },
     "execution_count": 41,
     "metadata": {},
     "output_type": "execute_result"
    }
   ],
   "source": [
    "plot_model(model, show_shapes = True)"
   ]
  },
  {
   "cell_type": "code",
   "execution_count": 44,
   "metadata": {},
   "outputs": [],
   "source": [
    "y_preds = model.predict(X_test)"
   ]
  },
  {
   "cell_type": "code",
   "execution_count": 45,
   "metadata": {},
   "outputs": [
    {
     "data": {
      "text/plain": [
       "array([[53.57109 ],\n",
       "       [57.05633 ],\n",
       "       [60.541573],\n",
       "       [64.02681 ],\n",
       "       [67.512054],\n",
       "       [70.99729 ],\n",
       "       [74.48254 ],\n",
       "       [77.96777 ],\n",
       "       [81.45301 ],\n",
       "       [84.938255]], dtype=float32)"
      ]
     },
     "execution_count": 45,
     "metadata": {},
     "output_type": "execute_result"
    }
   ],
   "source": [
    "y_preds"
   ]
  },
  {
   "cell_type": "code",
   "execution_count": 46,
   "metadata": {},
   "outputs": [],
   "source": [
    "def plot_predictions(train_data = X_train, train_labels = y_train, test_data = X_test, test_labels=y_test, predictions = y_preds):\n",
    "    plt.figure(figsize = (10, 7))\n",
    "    plt.scatter(train_data, train_labels, c=\"b\", label=\"Traning data\")\n",
    "    plt.scatter(test_data, test_labels, c=\"g\", label=\"Testing data\")\n",
    "    plt.scatter(test_data, predictions, c=\"r\", label=\"Predictions\")\n",
    "    plt.legend()"
   ]
  },
  {
   "cell_type": "code",
   "execution_count": 47,
   "metadata": {},
   "outputs": [
    {
     "data": {
      "image/png": "[encoded data removed]",
      "text/plain": [
       "<Figure size 720x504 with 1 Axes>"
      ]
     },
     "metadata": {
      "needs_background": "light"
     },
     "output_type": "display_data"
    }
   ],
   "source": [
    "plot_predictions(\n",
    "    train_data = X_train, \n",
    "    train_labels = y_train, \n",
    "    test_data = X_test, \n",
    "    test_labels=y_test, \n",
    "    predictions = y_preds\n",
    ")"
   ]
  },
  {
   "cell_type": "code",
   "execution_count": 26,
   "metadata": {},
   "outputs": [],
   "source": [
    "# regression 문제에서는 일반적으로 2개 종류의 metrics을 사용\n",
    "# MAE (Mean Absolute Error) : 실제 값과 예측값의 차이의 평균\n",
    "# MSE (Mean Squared Error) : 실제 값과 예측값의 차이의 제곱의 평균\n",
    "\n",
    "# 이 MAE든 MSE든 중요한 것은 이 값들이 낮아야 좋다!"
   ]
  },
  {
   "cell_type": "code",
   "execution_count": 48,
   "metadata": {},
   "outputs": [
    {
     "name": "stdout",
     "output_type": "stream",
     "text": [
      "1/1 [==============================] - 0s 73ms/step - loss: 18.7453 - mae: 18.7453\n"
     ]
    },
    {
     "data": {
      "text/plain": [
       "[18.74532699584961, 18.74532699584961]"
      ]
     },
     "execution_count": 48,
     "metadata": {},
     "output_type": "execute_result"
    }
   ],
   "source": [
    "# 영어 단어로 이야기를 한다...\n",
    "# evaluate()!\n",
    "model.evaluate(X_test, y_test)"
   ]
  },
  {
   "cell_type": "code",
   "execution_count": 49,
   "metadata": {},
   "outputs": [
    {
     "data": {
      "text/plain": [
       "<tf.Tensor: shape=(10,), dtype=float32, numpy=\n",
       "array([34.42891 , 30.943668, 27.45843 , 23.97319 , 20.487946, 17.202168,\n",
       "       14.510478, 12.419336, 11.018796, 10.212349], dtype=float32)>"
      ]
     },
     "execution_count": 49,
     "metadata": {},
     "output_type": "execute_result"
    }
   ],
   "source": [
    "mae = tf.metrics.mean_absolute_error(y_true = y_test, y_pred = y_preds)\n",
    "mae"
   ]
  },
  {
   "cell_type": "code",
   "execution_count": 50,
   "metadata": {},
   "outputs": [
    {
     "data": {
      "text/plain": [
       "(array([ 70,  74,  78,  82,  86,  90,  94,  98, 102, 106]),\n",
       " numpy.ndarray,\n",
       " (10,))"
      ]
     },
     "execution_count": 50,
     "metadata": {},
     "output_type": "execute_result"
    }
   ],
   "source": [
    "y_test, type(y_test), y_test.shape"
   ]
  },
  {
   "cell_type": "code",
   "execution_count": 51,
   "metadata": {},
   "outputs": [
    {
     "data": {
      "text/plain": [
       "(array([[53.57109 ],\n",
       "        [57.05633 ],\n",
       "        [60.541573],\n",
       "        [64.02681 ],\n",
       "        [67.512054],\n",
       "        [70.99729 ],\n",
       "        [74.48254 ],\n",
       "        [77.96777 ],\n",
       "        [81.45301 ],\n",
       "        [84.938255]], dtype=float32),\n",
       " numpy.ndarray,\n",
       " (10, 1))"
      ]
     },
     "execution_count": 51,
     "metadata": {},
     "output_type": "execute_result"
    }
   ],
   "source": [
    "y_preds, type(y_preds), y_preds.shape"
   ]
  },
  {
   "cell_type": "code",
   "execution_count": 53,
   "metadata": {},
   "outputs": [
    {
     "data": {
      "text/plain": [
       "(10,)"
      ]
     },
     "execution_count": 53,
     "metadata": {},
     "output_type": "execute_result"
    }
   ],
   "source": [
    "y_preds.squeeze().shape"
   ]
  },
  {
   "cell_type": "code",
   "execution_count": 54,
   "metadata": {},
   "outputs": [
    {
     "data": {
      "text/plain": [
       "dtype('int32')"
      ]
     },
     "execution_count": 54,
     "metadata": {},
     "output_type": "execute_result"
    }
   ],
   "source": [
    "y_test.dtype"
   ]
  },
  {
   "cell_type": "code",
   "execution_count": 55,
   "metadata": {},
   "outputs": [
    {
     "data": {
      "text/plain": [
       "(array([ 70,  74,  78,  82,  86,  90,  94,  98, 102, 106]),\n",
       " array([53.57109 , 57.05633 , 60.541573, 64.02681 , 67.512054, 70.99729 ,\n",
       "        74.48254 , 77.96777 , 81.45301 , 84.938255], dtype=float32))"
      ]
     },
     "execution_count": 55,
     "metadata": {},
     "output_type": "execute_result"
    }
   ],
   "source": [
    "y_test, y_preds.squeeze()"
   ]
  },
  {
   "cell_type": "code",
   "execution_count": 56,
   "metadata": {},
   "outputs": [
    {
     "data": {
      "text/plain": [
       "<tf.Tensor: shape=(), dtype=float32, numpy=18.745327>"
      ]
     },
     "execution_count": 56,
     "metadata": {},
     "output_type": "execute_result"
    }
   ],
   "source": [
    "mae = tf.metrics.mean_absolute_error(y_true = y_test, y_pred = y_preds.squeeze())\n",
    "mae"
   ]
  },
  {
   "cell_type": "code",
   "execution_count": 57,
   "metadata": {},
   "outputs": [
    {
     "data": {
      "text/plain": [
       "<tf.Tensor: shape=(), dtype=float32, numpy=353.57336>"
      ]
     },
     "execution_count": 57,
     "metadata": {},
     "output_type": "execute_result"
    }
   ],
   "source": [
    "mse = tf.metrics.mean_squared_error(y_true = y_test, y_pred = y_preds.squeeze())\n",
    "mse"
   ]
  },
  {
   "cell_type": "code",
   "execution_count": 58,
   "metadata": {},
   "outputs": [
    {
     "data": {
      "text/plain": [
       "<tf.Tensor: shape=(), dtype=float64, numpy=18.745327377319335>"
      ]
     },
     "execution_count": 58,
     "metadata": {},
     "output_type": "execute_result"
    }
   ],
   "source": [
    "tf.reduce_mean( tf.abs( y_test-y_preds.squeeze() ) )"
   ]
  },
  {
   "cell_type": "code",
   "execution_count": 59,
   "metadata": {},
   "outputs": [],
   "source": [
    "def mae(y_test, y_preds):\n",
    "    return tf.metrics.mean_absolute_error(y_test, y_preds)\n",
    "\n",
    "def mse(y_test, y_preds):\n",
    "    return tf.metrics.mean_squared_error(y_test, y_preds)"
   ]
  },
  {
   "cell_type": "code",
   "execution_count": 60,
   "metadata": {},
   "outputs": [],
   "source": [
    "# 모델을 개선하기 위해...\n",
    "# 1. 더 많은 데이터... 현실은 녹녹치가 않다... 데이터가 많다면 더 많은 패턴들을 찾을 수 있다!\n",
    "# 2. 모델은 좀더 크고 정교하게 만든다!\n",
    "# 3. 더 오래 학습을 시킨다."
   ]
  },
  {
   "cell_type": "code",
   "execution_count": 61,
   "metadata": {},
   "outputs": [],
   "source": [
    "# model_1 : 이전 모델과 같은데, 학습을 더 시킨다"
   ]
  },
  {
   "cell_type": "code",
   "execution_count": 62,
   "metadata": {},
   "outputs": [
    {
     "name": "stdout",
     "output_type": "stream",
     "text": [
      "Epoch 1/500\n",
      "2/2 [==============================] - 0s 1000us/step - loss: 15.9024 - mae: 15.9024\n",
      "Epoch 2/500\n",
      "2/2 [==============================] - 0s 1000us/step - loss: 11.2837 - mae: 11.2837\n",
      "Epoch 3/500\n",
      "2/2 [==============================] - 0s 1ms/step - loss: 11.1075 - mae: 11.1075\n",
      "Epoch 4/500\n",
      "2/2 [==============================] - 0s 1ms/step - loss: 9.2990 - mae: 9.2990\n",
      "Epoch 5/500\n",
      "2/2 [==============================] - 0s 1ms/step - loss: 10.1677 - mae: 10.1677\n",
      "Epoch 6/500\n",
      "2/2 [==============================] - 0s 999us/step - loss: 9.4303 - mae: 9.4303\n",
      "Epoch 7/500\n",
      "2/2 [==============================] - 0s 1ms/step - loss: 8.5704 - mae: 8.5704\n",
      "Epoch 8/500\n",
      "2/2 [==============================] - 0s 999us/step - loss: 9.0442 - mae: 9.0442\n",
      "Epoch 9/500\n",
      "2/2 [==============================] - 0s 1ms/step - loss: 18.7517 - mae: 18.7517\n",
      "Epoch 10/500\n",
      "2/2 [==============================] - 0s 999us/step - loss: 10.1142 - mae: 10.1142\n",
      "Epoch 11/500\n",
      "2/2 [==============================] - 0s 2ms/step - loss: 8.3980 - mae: 8.3980\n",
      "Epoch 12/500\n",
      "2/2 [==============================] - 0s 1000us/step - loss: 10.6639 - mae: 10.6639\n",
      "Epoch 13/500\n",
      "2/2 [==============================] - 0s 1ms/step - loss: 9.7977 - mae: 9.7977\n",
      "Epoch 14/500\n",
      "2/2 [==============================] - 0s 1000us/step - loss: 16.0103 - mae: 16.0103\n",
      "Epoch 15/500\n",
      "2/2 [==============================] - 0s 2ms/step - loss: 11.4068 - mae: 11.4068\n",
      "Epoch 16/500\n",
      "2/2 [==============================] - 0s 2ms/step - loss: 8.5393 - mae: 8.5393\n",
      "Epoch 17/500\n",
      "2/2 [==============================] - 0s 1ms/step - loss: 13.6348 - mae: 13.6348\n",
      "Epoch 18/500\n",
      "2/2 [==============================] - 0s 1ms/step - loss: 11.4629 - mae: 11.4629\n",
      "Epoch 19/500\n",
      "2/2 [==============================] - 0s 1ms/step - loss: 17.9148 - mae: 17.9148\n",
      "Epoch 20/500\n",
      "2/2 [==============================] - 0s 1ms/step - loss: 15.0494 - mae: 15.0494\n",
      "Epoch 21/500\n",
      "2/2 [==============================] - 0s 1ms/step - loss: 11.0216 - mae: 11.0216\n",
      "Epoch 22/500\n",
      "2/2 [==============================] - 0s 1ms/step - loss: 8.1558 - mae: 8.1558\n",
      "Epoch 23/500\n",
      "2/2 [==============================] - 0s 1ms/step - loss: 9.5138 - mae: 9.5138\n",
      "Epoch 24/500\n",
      "2/2 [==============================] - 0s 1ms/step - loss: 7.6617 - mae: 7.6617\n",
      "Epoch 25/500\n",
      "2/2 [==============================] - 0s 1ms/step - loss: 13.1859 - mae: 13.1859\n",
      "Epoch 26/500\n",
      "2/2 [==============================] - 0s 1000us/step - loss: 16.4211 - mae: 16.4211\n",
      "Epoch 27/500\n",
      "2/2 [==============================] - 0s 0s/step - loss: 13.1660 - mae: 13.1660\n",
      "Epoch 28/500\n",
      "2/2 [==============================] - 0s 1ms/step - loss: 14.2559 - mae: 14.2559\n",
      "Epoch 29/500\n",
      "2/2 [==============================] - 0s 1ms/step - loss: 10.0670 - mae: 10.0670\n",
      "Epoch 30/500\n",
      "2/2 [==============================] - 0s 1ms/step - loss: 16.3409 - mae: 16.3409\n",
      "Epoch 31/500\n",
      "2/2 [==============================] - 0s 1ms/step - loss: 23.6444 - mae: 23.6444\n",
      "Epoch 32/500\n",
      "2/2 [==============================] - 0s 1ms/step - loss: 7.6215 - mae: 7.6215\n",
      "Epoch 33/500\n",
      "2/2 [==============================] - 0s 1ms/step - loss: 9.3221 - mae: 9.3221\n",
      "Epoch 34/500\n",
      "2/2 [==============================] - 0s 999us/step - loss: 13.7313 - mae: 13.7313\n",
      "Epoch 35/500\n",
      "2/2 [==============================] - 0s 1ms/step - loss: 11.1276 - mae: 11.1276\n",
      "Epoch 36/500\n",
      "2/2 [==============================] - 0s 999us/step - loss: 13.3222 - mae: 13.3222\n",
      "Epoch 37/500\n",
      "2/2 [==============================] - 0s 1ms/step - loss: 9.4763 - mae: 9.4763\n",
      "Epoch 38/500\n",
      "2/2 [==============================] - 0s 1000us/step - loss: 10.1381 - mae: 10.1381\n",
      "Epoch 39/500\n",
      "2/2 [==============================] - 0s 1ms/step - loss: 10.1793 - mae: 10.1793\n",
      "Epoch 40/500\n",
      "2/2 [==============================] - 0s 1ms/step - loss: 10.9137 - mae: 10.9137\n",
      "Epoch 41/500\n",
      "2/2 [==============================] - 0s 2ms/step - loss: 7.9063 - mae: 7.9063\n",
      "Epoch 42/500\n",
      "2/2 [==============================] - 0s 1ms/step - loss: 10.0914 - mae: 10.0914\n",
      "Epoch 43/500\n",
      "2/2 [==============================] - 0s 999us/step - loss: 8.7006 - mae: 8.7006\n",
      "Epoch 44/500\n",
      "2/2 [==============================] - 0s 0s/step - loss: 12.2046 - mae: 12.2046\n",
      "Epoch 45/500\n",
      "2/2 [==============================] - 0s 999us/step - loss: 13.7970 - mae: 13.7970\n",
      "Epoch 46/500\n",
      "2/2 [==============================] - 0s 1ms/step - loss: 8.4687 - mae: 8.4687\n",
      "Epoch 47/500\n",
      "2/2 [==============================] - 0s 1ms/step - loss: 9.1330 - mae: 9.1330\n",
      "Epoch 48/500\n",
      "2/2 [==============================] - 0s 1000us/step - loss: 10.6190 - mae: 10.6190\n",
      "Epoch 49/500\n",
      "2/2 [==============================] - 0s 1ms/step - loss: 7.7503 - mae: 7.7503\n",
      "Epoch 50/500\n",
      "2/2 [==============================] - 0s 0s/step - loss: 9.5407 - mae: 9.5407\n",
      "Epoch 51/500\n",
      "2/2 [==============================] - 0s 1ms/step - loss: 9.1584 - mae: 9.1584\n",
      "Epoch 52/500\n",
      "2/2 [==============================] - 0s 2ms/step - loss: 16.3630 - mae: 16.3630\n",
      "Epoch 53/500\n",
      "2/2 [==============================] - 0s 1ms/step - loss: 14.1299 - mae: 14.1299\n",
      "Epoch 54/500\n",
      "2/2 [==============================] - 0s 1ms/step - loss: 21.1247 - mae: 21.1247\n",
      "Epoch 55/500\n",
      "2/2 [==============================] - 0s 999us/step - loss: 16.3961 - mae: 16.3961\n",
      "Epoch 56/500\n",
      "2/2 [==============================] - 0s 1000us/step - loss: 9.9806 - mae: 9.9806\n",
      "Epoch 57/500\n",
      "2/2 [==============================] - 0s 1ms/step - loss: 9.9606 - mae: 9.9606\n",
      "Epoch 58/500\n",
      "2/2 [==============================] - 0s 1ms/step - loss: 9.2209 - mae: 9.2209\n",
      "Epoch 59/500\n",
      "2/2 [==============================] - 0s 1ms/step - loss: 8.4239 - mae: 8.4239\n",
      "Epoch 60/500\n",
      "2/2 [==============================] - 0s 1000us/step - loss: 9.4869 - mae: 9.4869\n",
      "Epoch 61/500\n",
      "2/2 [==============================] - 0s 1ms/step - loss: 11.4354 - mae: 11.4354\n",
      "Epoch 62/500\n",
      "2/2 [==============================] - 0s 0s/step - loss: 11.6887 - mae: 11.6887\n",
      "Epoch 63/500\n",
      "2/2 [==============================] - 0s 1ms/step - loss: 7.0838 - mae: 7.0838\n",
      "Epoch 64/500\n",
      "2/2 [==============================] - 0s 1ms/step - loss: 16.9675 - mae: 16.9675\n",
      "Epoch 65/500\n",
      "2/2 [==============================] - 0s 999us/step - loss: 12.4599 - mae: 12.4599\n",
      "Epoch 66/500\n",
      "2/2 [==============================] - 0s 1ms/step - loss: 13.0184 - mae: 13.0184\n",
      "Epoch 67/500\n",
      "2/2 [==============================] - 0s 1ms/step - loss: 8.0600 - mae: 8.0600\n",
      "Epoch 68/500\n",
      "2/2 [==============================] - 0s 1ms/step - loss: 10.1888 - mae: 10.1888\n",
      "Epoch 69/500\n",
      "2/2 [==============================] - 0s 1ms/step - loss: 12.3633 - mae: 12.3633\n",
      "Epoch 70/500\n",
      "2/2 [==============================] - 0s 1ms/step - loss: 9.0516 - mae: 9.0516\n",
      "Epoch 71/500\n",
      "2/2 [==============================] - 0s 1ms/step - loss: 10.0378 - mae: 10.0378\n",
      "Epoch 72/500\n",
      "2/2 [==============================] - 0s 1ms/step - loss: 10.0516 - mae: 10.0516\n",
      "Epoch 73/500\n",
      "2/2 [==============================] - 0s 1ms/step - loss: 12.6151 - mae: 12.6151\n",
      "Epoch 74/500\n",
      "2/2 [==============================] - 0s 1ms/step - loss: 10.3819 - mae: 10.3819\n",
      "Epoch 75/500\n",
      "2/2 [==============================] - 0s 1ms/step - loss: 9.7229 - mae: 9.7229\n",
      "Epoch 76/500\n",
      "2/2 [==============================] - 0s 2ms/step - loss: 11.2252 - mae: 11.2252\n",
      "Epoch 77/500\n",
      "2/2 [==============================] - 0s 1ms/step - loss: 8.3642 - mae: 8.3642\n",
      "Epoch 78/500\n",
      "2/2 [==============================] - 0s 1ms/step - loss: 9.1274 - mae: 9.1274\n",
      "Epoch 79/500\n",
      "2/2 [==============================] - 0s 1ms/step - loss: 19.5039 - mae: 19.5039\n",
      "Epoch 80/500\n",
      "2/2 [==============================] - 0s 1000us/step - loss: 14.8945 - mae: 14.8945\n",
      "Epoch 81/500\n",
      "2/2 [==============================] - 0s 0s/step - loss: 9.0034 - mae: 9.0034\n",
      "Epoch 82/500\n",
      "2/2 [==============================] - 0s 0s/step - loss: 13.0206 - mae: 13.0206\n",
      "Epoch 83/500\n",
      "2/2 [==============================] - 0s 1000us/step - loss: 7.9299 - mae: 7.9299\n",
      "Epoch 84/500\n",
      "2/2 [==============================] - 0s 1000us/step - loss: 7.6872 - mae: 7.6872\n",
      "Epoch 85/500\n",
      "2/2 [==============================] - 0s 1ms/step - loss: 10.0328 - mae: 10.0328\n",
      "Epoch 86/500\n",
      "2/2 [==============================] - 0s 1ms/step - loss: 9.2433 - mae: 9.2433\n",
      "Epoch 87/500\n",
      "2/2 [==============================] - 0s 1ms/step - loss: 12.0209 - mae: 12.0209\n",
      "Epoch 88/500\n",
      "2/2 [==============================] - 0s 1ms/step - loss: 10.6389 - mae: 10.6389\n",
      "Epoch 89/500\n",
      "2/2 [==============================] - 0s 1000us/step - loss: 7.2667 - mae: 7.2667\n",
      "Epoch 90/500\n",
      "2/2 [==============================] - 0s 1ms/step - loss: 12.7786 - mae: 12.7786\n",
      "Epoch 91/500\n",
      "2/2 [==============================] - 0s 1000us/step - loss: 7.3481 - mae: 7.3481\n",
      "Epoch 92/500\n",
      "2/2 [==============================] - 0s 1000us/step - loss: 7.7175 - mae: 7.7175\n",
      "Epoch 93/500\n",
      "2/2 [==============================] - 0s 1ms/step - loss: 7.1263 - mae: 7.1263\n",
      "Epoch 94/500\n",
      "2/2 [==============================] - 0s 1000us/step - loss: 12.6190 - mae: 12.6190\n",
      "Epoch 95/500\n",
      "2/2 [==============================] - 0s 2ms/step - loss: 10.0912 - mae: 10.0912\n",
      "Epoch 96/500\n",
      "2/2 [==============================] - 0s 2ms/step - loss: 9.3558 - mae: 9.3558\n",
      "Epoch 97/500\n",
      "2/2 [==============================] - 0s 999us/step - loss: 12.6834 - mae: 12.6834\n",
      "Epoch 98/500\n",
      "2/2 [==============================] - 0s 1000us/step - loss: 8.6762 - mae: 8.6762\n",
      "Epoch 99/500\n",
      "2/2 [==============================] - 0s 1ms/step - loss: 9.4693 - mae: 9.4693\n",
      "Epoch 100/500\n",
      "2/2 [==============================] - 0s 1ms/step - loss: 8.7067 - mae: 8.7067\n",
      "Epoch 101/500\n",
      "2/2 [==============================] - 0s 1000us/step - loss: 7.3053 - mae: 7.3053\n",
      "Epoch 102/500\n",
      "2/2 [==============================] - 0s 1ms/step - loss: 8.5595 - mae: 8.5595\n",
      "Epoch 103/500\n",
      "2/2 [==============================] - 0s 1ms/step - loss: 9.4311 - mae: 9.4311\n",
      "Epoch 104/500\n",
      "2/2 [==============================] - 0s 1ms/step - loss: 16.5531 - mae: 16.5531\n",
      "Epoch 105/500\n",
      "2/2 [==============================] - 0s 999us/step - loss: 13.6286 - mae: 13.6286\n",
      "Epoch 106/500\n",
      "2/2 [==============================] - 0s 1000us/step - loss: 8.9235 - mae: 8.9235\n",
      "Epoch 107/500\n",
      "2/2 [==============================] - 0s 0s/step - loss: 12.1662 - mae: 12.1662\n",
      "Epoch 108/500\n",
      "2/2 [==============================] - 0s 1000us/step - loss: 9.9616 - mae: 9.9616\n",
      "Epoch 109/500\n",
      "2/2 [==============================] - 0s 1000us/step - loss: 8.3414 - mae: 8.3414\n",
      "Epoch 110/500\n",
      "2/2 [==============================] - 0s 1ms/step - loss: 9.1424 - mae: 9.1424\n",
      "Epoch 111/500\n",
      "2/2 [==============================] - 0s 1ms/step - loss: 11.4155 - mae: 11.4155\n",
      "Epoch 112/500\n",
      "2/2 [==============================] - 0s 1ms/step - loss: 8.7164 - mae: 8.7164\n",
      "Epoch 113/500\n",
      "2/2 [==============================] - 0s 1ms/step - loss: 8.0108 - mae: 8.0108\n",
      "Epoch 114/500\n",
      "2/2 [==============================] - 0s 1ms/step - loss: 12.1222 - mae: 12.1222\n",
      "Epoch 115/500\n",
      "2/2 [==============================] - 0s 1ms/step - loss: 7.8022 - mae: 7.8022\n",
      "Epoch 116/500\n",
      "2/2 [==============================] - 0s 1ms/step - loss: 7.7569 - mae: 7.7569\n",
      "Epoch 117/500\n",
      "2/2 [==============================] - 0s 1000us/step - loss: 9.1461 - mae: 9.1461\n",
      "Epoch 118/500\n",
      "2/2 [==============================] - 0s 0s/step - loss: 11.0823 - mae: 11.0823\n",
      "Epoch 119/500\n",
      "2/2 [==============================] - 0s 1ms/step - loss: 7.4575 - mae: 7.4575\n",
      "Epoch 120/500\n",
      "2/2 [==============================] - 0s 1ms/step - loss: 8.1979 - mae: 8.1979\n",
      "Epoch 121/500\n",
      "2/2 [==============================] - 0s 1ms/step - loss: 7.9719 - mae: 7.9719\n",
      "Epoch 122/500\n",
      "2/2 [==============================] - 0s 1ms/step - loss: 21.9566 - mae: 21.9566\n",
      "Epoch 123/500\n",
      "2/2 [==============================] - 0s 1ms/step - loss: 15.1306 - mae: 15.1306\n",
      "Epoch 124/500\n",
      "2/2 [==============================] - 0s 1ms/step - loss: 14.7780 - mae: 14.7780\n",
      "Epoch 125/500\n",
      "2/2 [==============================] - 0s 1ms/step - loss: 6.6540 - mae: 6.6540\n",
      "Epoch 126/500\n",
      "2/2 [==============================] - 0s 2ms/step - loss: 7.9577 - mae: 7.9577\n",
      "Epoch 127/500\n",
      "2/2 [==============================] - 0s 1ms/step - loss: 9.7323 - mae: 9.7323\n",
      "Epoch 128/500\n",
      "2/2 [==============================] - 0s 1ms/step - loss: 16.8266 - mae: 16.8266\n",
      "Epoch 129/500\n",
      "2/2 [==============================] - 0s 999us/step - loss: 12.3222 - mae: 12.3222\n",
      "Epoch 130/500\n",
      "2/2 [==============================] - 0s 999us/step - loss: 13.1816 - mae: 13.1816\n",
      "Epoch 131/500\n",
      "2/2 [==============================] - 0s 5ms/step - loss: 12.0418 - mae: 12.0418\n",
      "Epoch 132/500\n",
      "2/2 [==============================] - 0s 4ms/step - loss: 11.3227 - mae: 11.3227\n",
      "Epoch 133/500\n",
      "2/2 [==============================] - 0s 2ms/step - loss: 9.5179 - mae: 9.5179\n",
      "Epoch 134/500\n",
      "2/2 [==============================] - 0s 1ms/step - loss: 11.5883 - mae: 11.5883\n",
      "Epoch 135/500\n",
      "2/2 [==============================] - 0s 2ms/step - loss: 8.5168 - mae: 8.5168\n",
      "Epoch 136/500\n",
      "2/2 [==============================] - 0s 1ms/step - loss: 10.1523 - mae: 10.1523\n",
      "Epoch 137/500\n",
      "2/2 [==============================] - 0s 1ms/step - loss: 11.9436 - mae: 11.9436\n",
      "Epoch 138/500\n",
      "2/2 [==============================] - 0s 1ms/step - loss: 10.6617 - mae: 10.6617\n",
      "Epoch 139/500\n",
      "2/2 [==============================] - 0s 1ms/step - loss: 8.7919 - mae: 8.7919\n",
      "Epoch 140/500\n",
      "2/2 [==============================] - 0s 1ms/step - loss: 10.9193 - mae: 10.9193\n",
      "Epoch 141/500\n",
      "2/2 [==============================] - 0s 1000us/step - loss: 9.4887 - mae: 9.4887\n",
      "Epoch 142/500\n",
      "2/2 [==============================] - 0s 1ms/step - loss: 21.0737 - mae: 21.0737\n",
      "Epoch 143/500\n",
      "2/2 [==============================] - 0s 1ms/step - loss: 10.9356 - mae: 10.9356\n",
      "Epoch 144/500\n",
      "2/2 [==============================] - 0s 1000us/step - loss: 10.2281 - mae: 10.2281\n",
      "Epoch 145/500\n",
      "2/2 [==============================] - 0s 1ms/step - loss: 16.9423 - mae: 16.9423\n",
      "Epoch 146/500\n",
      "2/2 [==============================] - 0s 0s/step - loss: 10.8059 - mae: 10.8059\n",
      "Epoch 147/500\n",
      "2/2 [==============================] - 0s 1000us/step - loss: 8.2158 - mae: 8.2158\n",
      "Epoch 148/500\n",
      "2/2 [==============================] - 0s 0s/step - loss: 11.3893 - mae: 11.3893\n",
      "Epoch 149/500\n",
      "2/2 [==============================] - 0s 1000us/step - loss: 9.4385 - mae: 9.4385\n",
      "Epoch 150/500\n",
      "2/2 [==============================] - 0s 1000us/step - loss: 7.4710 - mae: 7.4710\n",
      "Epoch 151/500\n",
      "2/2 [==============================] - 0s 1ms/step - loss: 8.3862 - mae: 8.3862\n",
      "Epoch 152/500\n",
      "2/2 [==============================] - 0s 1ms/step - loss: 10.8888 - mae: 10.8888\n",
      "Epoch 153/500\n",
      "2/2 [==============================] - 0s 1ms/step - loss: 13.1045 - mae: 13.1045\n",
      "Epoch 154/500\n",
      "2/2 [==============================] - 0s 0s/step - loss: 9.4322 - mae: 9.4322\n",
      "Epoch 155/500\n",
      "2/2 [==============================] - 0s 1ms/step - loss: 6.3427 - mae: 6.3427\n",
      "Epoch 156/500\n",
      "2/2 [==============================] - 0s 1000us/step - loss: 12.7683 - mae: 12.7683\n",
      "Epoch 157/500\n",
      "2/2 [==============================] - 0s 1000us/step - loss: 16.9812 - mae: 16.9812\n",
      "Epoch 158/500\n",
      "2/2 [==============================] - 0s 1ms/step - loss: 14.0188 - mae: 14.0188\n",
      "Epoch 159/500\n",
      "2/2 [==============================] - 0s 1ms/step - loss: 7.7848 - mae: 7.7848\n",
      "Epoch 160/500\n",
      "2/2 [==============================] - 0s 1000us/step - loss: 11.4259 - mae: 11.4259\n",
      "Epoch 161/500\n",
      "2/2 [==============================] - 0s 1000us/step - loss: 10.5170 - mae: 10.5170\n",
      "Epoch 162/500\n",
      "2/2 [==============================] - 0s 1000us/step - loss: 12.2265 - mae: 12.2265\n",
      "Epoch 163/500\n",
      "2/2 [==============================] - 0s 1000us/step - loss: 8.6051 - mae: 8.6051\n",
      "Epoch 164/500\n",
      "2/2 [==============================] - 0s 1ms/step - loss: 6.9428 - mae: 6.9428\n",
      "Epoch 165/500\n",
      "2/2 [==============================] - 0s 1000us/step - loss: 7.9619 - mae: 7.9619\n",
      "Epoch 166/500\n",
      "2/2 [==============================] - 0s 2ms/step - loss: 7.1679 - mae: 7.1679\n",
      "Epoch 167/500\n",
      "2/2 [==============================] - 0s 1ms/step - loss: 12.1150 - mae: 12.1150\n",
      "Epoch 168/500\n",
      "2/2 [==============================] - 0s 2ms/step - loss: 8.2356 - mae: 8.2356\n",
      "Epoch 169/500\n",
      "2/2 [==============================] - 0s 1000us/step - loss: 13.5253 - mae: 13.5253\n",
      "Epoch 170/500\n",
      "2/2 [==============================] - 0s 0s/step - loss: 7.1850 - mae: 7.1850\n",
      "Epoch 171/500\n",
      "2/2 [==============================] - 0s 1000us/step - loss: 8.6261 - mae: 8.6261\n",
      "Epoch 172/500\n",
      "2/2 [==============================] - 0s 2ms/step - loss: 6.9602 - mae: 6.9602\n",
      "Epoch 173/500\n",
      "2/2 [==============================] - 0s 999us/step - loss: 11.0154 - mae: 11.0154\n",
      "Epoch 174/500\n",
      "2/2 [==============================] - 0s 1ms/step - loss: 8.1761 - mae: 8.1761\n",
      "Epoch 175/500\n",
      "2/2 [==============================] - 0s 2ms/step - loss: 12.5344 - mae: 12.5344\n",
      "Epoch 176/500\n",
      "2/2 [==============================] - 0s 1000us/step - loss: 9.2125 - mae: 9.2125\n",
      "Epoch 177/500\n",
      "2/2 [==============================] - 0s 1ms/step - loss: 8.3140 - mae: 8.3140\n",
      "Epoch 178/500\n",
      "2/2 [==============================] - 0s 2ms/step - loss: 10.8535 - mae: 10.8535\n",
      "Epoch 179/500\n",
      "2/2 [==============================] - 0s 1000us/step - loss: 9.9763 - mae: 9.9763\n",
      "Epoch 180/500\n",
      "2/2 [==============================] - 0s 1000us/step - loss: 6.8277 - mae: 6.8277\n",
      "Epoch 181/500\n",
      "2/2 [==============================] - 0s 1000us/step - loss: 11.5946 - mae: 11.5946\n",
      "Epoch 182/500\n",
      "2/2 [==============================] - 0s 1ms/step - loss: 9.8880 - mae: 9.8880\n",
      "Epoch 183/500\n",
      "2/2 [==============================] - 0s 0s/step - loss: 7.4568 - mae: 7.4568\n",
      "Epoch 184/500\n",
      "2/2 [==============================] - 0s 1000us/step - loss: 24.3796 - mae: 24.3796\n",
      "Epoch 185/500\n",
      "2/2 [==============================] - 0s 1000us/step - loss: 8.1988 - mae: 8.1988\n",
      "Epoch 186/500\n",
      "2/2 [==============================] - 0s 0s/step - loss: 8.7226 - mae: 8.7226\n",
      "Epoch 187/500\n",
      "2/2 [==============================] - 0s 1ms/step - loss: 8.1209 - mae: 8.1209\n",
      "Epoch 188/500\n",
      "2/2 [==============================] - 0s 1ms/step - loss: 7.8102 - mae: 7.8102\n",
      "Epoch 189/500\n",
      "2/2 [==============================] - 0s 1ms/step - loss: 7.2958 - mae: 7.2958\n",
      "Epoch 190/500\n",
      "2/2 [==============================] - 0s 2ms/step - loss: 8.5519 - mae: 8.5519\n",
      "Epoch 191/500\n",
      "2/2 [==============================] - 0s 1ms/step - loss: 10.4445 - mae: 10.4445\n",
      "Epoch 192/500\n",
      "2/2 [==============================] - 0s 1000us/step - loss: 7.9838 - mae: 7.9838\n",
      "Epoch 193/500\n",
      "2/2 [==============================] - 0s 1ms/step - loss: 18.5385 - mae: 18.5385\n",
      "Epoch 194/500\n",
      "2/2 [==============================] - 0s 999us/step - loss: 8.7223 - mae: 8.7223\n",
      "Epoch 195/500\n",
      "2/2 [==============================] - 0s 1ms/step - loss: 7.1856 - mae: 7.1856\n",
      "Epoch 196/500\n",
      "2/2 [==============================] - 0s 0s/step - loss: 11.9646 - mae: 11.9646\n",
      "Epoch 197/500\n",
      "2/2 [==============================] - 0s 1ms/step - loss: 9.5780 - mae: 9.5780\n",
      "Epoch 198/500\n",
      "2/2 [==============================] - 0s 1ms/step - loss: 7.0412 - mae: 7.0412\n",
      "Epoch 199/500\n",
      "2/2 [==============================] - 0s 1ms/step - loss: 12.9699 - mae: 12.9699\n",
      "Epoch 200/500\n",
      "2/2 [==============================] - 0s 1ms/step - loss: 6.3446 - mae: 6.3446\n",
      "Epoch 201/500\n",
      "2/2 [==============================] - 0s 1ms/step - loss: 8.3139 - mae: 8.3139\n",
      "Epoch 202/500\n",
      "2/2 [==============================] - 0s 1ms/step - loss: 12.9698 - mae: 12.9698\n",
      "Epoch 203/500\n",
      "2/2 [==============================] - 0s 1ms/step - loss: 7.5296 - mae: 7.5296\n",
      "Epoch 204/500\n",
      "2/2 [==============================] - 0s 1000us/step - loss: 6.9481 - mae: 6.9481\n",
      "Epoch 205/500\n",
      "2/2 [==============================] - 0s 0s/step - loss: 5.8601 - mae: 5.8601\n",
      "Epoch 206/500\n",
      "2/2 [==============================] - 0s 1ms/step - loss: 7.5075 - mae: 7.5075\n",
      "Epoch 207/500\n",
      "2/2 [==============================] - 0s 1000us/step - loss: 9.6708 - mae: 9.6708\n",
      "Epoch 208/500\n",
      "2/2 [==============================] - 0s 1000us/step - loss: 6.1325 - mae: 6.1325\n",
      "Epoch 209/500\n",
      "2/2 [==============================] - 0s 1ms/step - loss: 12.8715 - mae: 12.8715\n",
      "Epoch 210/500\n",
      "2/2 [==============================] - 0s 1ms/step - loss: 20.5838 - mae: 20.5838\n",
      "Epoch 211/500\n",
      "2/2 [==============================] - 0s 1ms/step - loss: 9.3238 - mae: 9.3238\n",
      "Epoch 212/500\n",
      "2/2 [==============================] - 0s 1000us/step - loss: 16.5747 - mae: 16.5747\n",
      "Epoch 213/500\n",
      "2/2 [==============================] - 0s 999us/step - loss: 6.6639 - mae: 6.6639\n",
      "Epoch 214/500\n",
      "2/2 [==============================] - 0s 1ms/step - loss: 8.3224 - mae: 8.3224\n",
      "Epoch 215/500\n",
      "2/2 [==============================] - 0s 2ms/step - loss: 11.0879 - mae: 11.0879\n",
      "Epoch 216/500\n",
      "2/2 [==============================] - 0s 1ms/step - loss: 7.4297 - mae: 7.4297\n",
      "Epoch 217/500\n",
      "2/2 [==============================] - 0s 1ms/step - loss: 9.1641 - mae: 9.1641\n",
      "Epoch 218/500\n",
      "2/2 [==============================] - 0s 1000us/step - loss: 10.2371 - mae: 10.2371\n",
      "Epoch 219/500\n",
      "2/2 [==============================] - 0s 1000us/step - loss: 6.8165 - mae: 6.8165\n",
      "Epoch 220/500\n",
      "2/2 [==============================] - 0s 1ms/step - loss: 5.9693 - mae: 5.9693\n",
      "Epoch 221/500\n",
      "2/2 [==============================] - 0s 1ms/step - loss: 19.3032 - mae: 19.3032\n",
      "Epoch 222/500\n",
      "2/2 [==============================] - 0s 999us/step - loss: 8.4594 - mae: 8.4594\n",
      "Epoch 223/500\n",
      "2/2 [==============================] - 0s 999us/step - loss: 6.5227 - mae: 6.5227\n",
      "Epoch 224/500\n",
      "2/2 [==============================] - 0s 1ms/step - loss: 8.9909 - mae: 8.9909\n",
      "Epoch 225/500\n",
      "2/2 [==============================] - 0s 999us/step - loss: 8.6715 - mae: 8.6715\n",
      "Epoch 226/500\n",
      "2/2 [==============================] - 0s 0s/step - loss: 5.6298 - mae: 5.6298\n",
      "Epoch 227/500\n",
      "2/2 [==============================] - 0s 1ms/step - loss: 12.6583 - mae: 12.6583\n",
      "Epoch 228/500\n",
      "2/2 [==============================] - 0s 2ms/step - loss: 5.4060 - mae: 5.4060\n",
      "Epoch 229/500\n",
      "2/2 [==============================] - 0s 1ms/step - loss: 5.7851 - mae: 5.7851\n",
      "Epoch 230/500\n",
      "2/2 [==============================] - 0s 2ms/step - loss: 10.1755 - mae: 10.1755\n",
      "Epoch 231/500\n",
      "2/2 [==============================] - 0s 1ms/step - loss: 12.0528 - mae: 12.0528\n",
      "Epoch 232/500\n",
      "2/2 [==============================] - 0s 1ms/step - loss: 6.9513 - mae: 6.9513\n",
      "Epoch 233/500\n",
      "2/2 [==============================] - 0s 1ms/step - loss: 10.6314 - mae: 10.6314\n",
      "Epoch 234/500\n",
      "2/2 [==============================] - 0s 1ms/step - loss: 9.4727 - mae: 9.4727\n",
      "Epoch 235/500\n",
      "2/2 [==============================] - 0s 1ms/step - loss: 8.3151 - mae: 8.3151\n",
      "Epoch 236/500\n",
      "2/2 [==============================] - 0s 1000us/step - loss: 6.0741 - mae: 6.0741\n",
      "Epoch 237/500\n",
      "2/2 [==============================] - 0s 2ms/step - loss: 7.0960 - mae: 7.0960\n",
      "Epoch 238/500\n",
      "2/2 [==============================] - 0s 1ms/step - loss: 7.4165 - mae: 7.4165\n",
      "Epoch 239/500\n",
      "2/2 [==============================] - 0s 1000us/step - loss: 11.6589 - mae: 11.6589\n",
      "Epoch 240/500\n",
      "2/2 [==============================] - 0s 1ms/step - loss: 8.6715 - mae: 8.6715\n",
      "Epoch 241/500\n",
      "2/2 [==============================] - 0s 0s/step - loss: 11.1240 - mae: 11.1240\n",
      "Epoch 242/500\n",
      "2/2 [==============================] - 0s 1ms/step - loss: 11.8642 - mae: 11.8642\n",
      "Epoch 243/500\n",
      "2/2 [==============================] - 0s 1ms/step - loss: 8.3191 - mae: 8.3191\n",
      "Epoch 244/500\n",
      "2/2 [==============================] - 0s 999us/step - loss: 6.8809 - mae: 6.8809\n",
      "Epoch 245/500\n",
      "2/2 [==============================] - 0s 1ms/step - loss: 9.2985 - mae: 9.2985\n",
      "Epoch 246/500\n",
      "2/2 [==============================] - 0s 1ms/step - loss: 7.1025 - mae: 7.1025\n",
      "Epoch 247/500\n",
      "2/2 [==============================] - 0s 1000us/step - loss: 13.2687 - mae: 13.2687\n",
      "Epoch 248/500\n",
      "2/2 [==============================] - 0s 1000us/step - loss: 6.5142 - mae: 6.5142\n",
      "Epoch 249/500\n",
      "2/2 [==============================] - 0s 1ms/step - loss: 7.4543 - mae: 7.4543\n",
      "Epoch 250/500\n",
      "2/2 [==============================] - 0s 1ms/step - loss: 12.5867 - mae: 12.5867\n",
      "Epoch 251/500\n",
      "2/2 [==============================] - 0s 1ms/step - loss: 6.7224 - mae: 6.7224\n",
      "Epoch 252/500\n",
      "2/2 [==============================] - 0s 1000us/step - loss: 18.8865 - mae: 18.8865\n",
      "Epoch 253/500\n",
      "2/2 [==============================] - 0s 999us/step - loss: 7.7137 - mae: 7.7137\n",
      "Epoch 254/500\n",
      "2/2 [==============================] - 0s 0s/step - loss: 6.5531 - mae: 6.5531\n",
      "Epoch 255/500\n",
      "2/2 [==============================] - 0s 1ms/step - loss: 15.1184 - mae: 15.1184\n",
      "Epoch 256/500\n",
      "2/2 [==============================] - 0s 1ms/step - loss: 7.4901 - mae: 7.4901\n",
      "Epoch 257/500\n",
      "2/2 [==============================] - 0s 1ms/step - loss: 7.0562 - mae: 7.0562\n",
      "Epoch 258/500\n",
      "2/2 [==============================] - 0s 2ms/step - loss: 7.7524 - mae: 7.7524\n",
      "Epoch 259/500\n",
      "2/2 [==============================] - 0s 1ms/step - loss: 8.9219 - mae: 8.9219\n",
      "Epoch 260/500\n",
      "2/2 [==============================] - 0s 2ms/step - loss: 10.6171 - mae: 10.6171\n",
      "Epoch 261/500\n",
      "2/2 [==============================] - 0s 1000us/step - loss: 8.8142 - mae: 8.8142\n",
      "Epoch 262/500\n",
      "2/2 [==============================] - 0s 1ms/step - loss: 7.8322 - mae: 7.8322\n",
      "Epoch 263/500\n",
      "2/2 [==============================] - 0s 1ms/step - loss: 7.9059 - mae: 7.9059\n",
      "Epoch 264/500\n",
      "2/2 [==============================] - 0s 1ms/step - loss: 15.9200 - mae: 15.9200\n",
      "Epoch 265/500\n",
      "2/2 [==============================] - 0s 1ms/step - loss: 9.2564 - mae: 9.2564\n",
      "Epoch 266/500\n",
      "2/2 [==============================] - 0s 1ms/step - loss: 7.1649 - mae: 7.1649\n",
      "Epoch 267/500\n",
      "2/2 [==============================] - 0s 1000us/step - loss: 6.2850 - mae: 6.2850\n",
      "Epoch 268/500\n",
      "2/2 [==============================] - 0s 1ms/step - loss: 8.3427 - mae: 8.3427\n",
      "Epoch 269/500\n",
      "2/2 [==============================] - 0s 1000us/step - loss: 12.5182 - mae: 12.5182\n",
      "Epoch 270/500\n",
      "2/2 [==============================] - 0s 1ms/step - loss: 8.1108 - mae: 8.1108\n",
      "Epoch 271/500\n",
      "2/2 [==============================] - 0s 1000us/step - loss: 7.2376 - mae: 7.2376\n",
      "Epoch 272/500\n",
      "2/2 [==============================] - 0s 1ms/step - loss: 10.6382 - mae: 10.6382\n",
      "Epoch 273/500\n",
      "2/2 [==============================] - 0s 999us/step - loss: 11.8768 - mae: 11.8768\n",
      "Epoch 274/500\n",
      "2/2 [==============================] - 0s 1ms/step - loss: 7.5880 - mae: 7.5880\n",
      "Epoch 275/500\n",
      "2/2 [==============================] - 0s 999us/step - loss: 21.7958 - mae: 21.7958\n",
      "Epoch 276/500\n",
      "2/2 [==============================] - 0s 1ms/step - loss: 7.7479 - mae: 7.7479\n",
      "Epoch 277/500\n",
      "2/2 [==============================] - 0s 1ms/step - loss: 20.5373 - mae: 20.5373\n",
      "Epoch 278/500\n",
      "2/2 [==============================] - 0s 1ms/step - loss: 6.4775 - mae: 6.4775\n",
      "Epoch 279/500\n",
      "2/2 [==============================] - 0s 1000us/step - loss: 10.0214 - mae: 10.0214\n",
      "Epoch 280/500\n",
      "2/2 [==============================] - 0s 1ms/step - loss: 12.1822 - mae: 12.1822\n",
      "Epoch 281/500\n",
      "2/2 [==============================] - 0s 998us/step - loss: 7.1856 - mae: 7.1856\n",
      "Epoch 282/500\n",
      "2/2 [==============================] - 0s 1ms/step - loss: 7.0716 - mae: 7.0716\n",
      "Epoch 283/500\n",
      "2/2 [==============================] - 0s 1ms/step - loss: 7.4228 - mae: 7.4228\n",
      "Epoch 284/500\n",
      "2/2 [==============================] - 0s 1ms/step - loss: 9.6885 - mae: 9.6885\n",
      "Epoch 285/500\n",
      "2/2 [==============================] - 0s 1000us/step - loss: 11.5481 - mae: 11.5481\n",
      "Epoch 286/500\n",
      "2/2 [==============================] - 0s 1ms/step - loss: 5.2067 - mae: 5.2067\n",
      "Epoch 287/500\n",
      "2/2 [==============================] - 0s 1ms/step - loss: 14.2180 - mae: 14.2180\n",
      "Epoch 288/500\n",
      "2/2 [==============================] - 0s 998us/step - loss: 10.2912 - mae: 10.2912\n",
      "Epoch 289/500\n",
      "2/2 [==============================] - 0s 1000us/step - loss: 6.6112 - mae: 6.6112\n",
      "Epoch 290/500\n",
      "2/2 [==============================] - 0s 1ms/step - loss: 7.2265 - mae: 7.2265\n",
      "Epoch 291/500\n",
      "2/2 [==============================] - 0s 1ms/step - loss: 8.1559 - mae: 8.1559\n",
      "Epoch 292/500\n",
      "2/2 [==============================] - 0s 1ms/step - loss: 8.5921 - mae: 8.5921\n",
      "Epoch 293/500\n",
      "2/2 [==============================] - 0s 1ms/step - loss: 6.2243 - mae: 6.2243\n",
      "Epoch 294/500\n",
      "2/2 [==============================] - 0s 2ms/step - loss: 12.7505 - mae: 12.7505\n",
      "Epoch 295/500\n",
      "2/2 [==============================] - 0s 1ms/step - loss: 6.8608 - mae: 6.8608\n",
      "Epoch 296/500\n",
      "2/2 [==============================] - 0s 1ms/step - loss: 10.1918 - mae: 10.1918\n",
      "Epoch 297/500\n",
      "2/2 [==============================] - 0s 1ms/step - loss: 4.8956 - mae: 4.8956\n",
      "Epoch 298/500\n",
      "2/2 [==============================] - 0s 2ms/step - loss: 10.5876 - mae: 10.5876\n",
      "Epoch 299/500\n",
      "2/2 [==============================] - 0s 1ms/step - loss: 10.3633 - mae: 10.3633\n",
      "Epoch 300/500\n",
      "2/2 [==============================] - 0s 1ms/step - loss: 6.1139 - mae: 6.1139\n",
      "Epoch 301/500\n",
      "2/2 [==============================] - 0s 1ms/step - loss: 9.1944 - mae: 9.1944\n",
      "Epoch 302/500\n",
      "2/2 [==============================] - 0s 999us/step - loss: 10.2586 - mae: 10.2586\n",
      "Epoch 303/500\n",
      "2/2 [==============================] - 0s 2ms/step - loss: 8.0199 - mae: 8.0199\n",
      "Epoch 304/500\n",
      "2/2 [==============================] - 0s 1ms/step - loss: 12.2137 - mae: 12.2137\n",
      "Epoch 305/500\n",
      "2/2 [==============================] - 0s 1000us/step - loss: 11.6307 - mae: 11.6307\n",
      "Epoch 306/500\n",
      "2/2 [==============================] - 0s 1ms/step - loss: 12.0216 - mae: 12.0216\n",
      "Epoch 307/500\n",
      "2/2 [==============================] - 0s 999us/step - loss: 9.5619 - mae: 9.5619\n",
      "Epoch 308/500\n",
      "2/2 [==============================] - 0s 1ms/step - loss: 10.9377 - mae: 10.9377\n",
      "Epoch 309/500\n",
      "2/2 [==============================] - 0s 1ms/step - loss: 7.5476 - mae: 7.5476\n",
      "Epoch 310/500\n",
      "2/2 [==============================] - 0s 1000us/step - loss: 10.7531 - mae: 10.7531\n",
      "Epoch 311/500\n",
      "2/2 [==============================] - 0s 1ms/step - loss: 6.8147 - mae: 6.8147\n",
      "Epoch 312/500\n",
      "2/2 [==============================] - 0s 1ms/step - loss: 14.2429 - mae: 14.2429\n",
      "Epoch 313/500\n",
      "2/2 [==============================] - 0s 1000us/step - loss: 13.5049 - mae: 13.5049\n",
      "Epoch 314/500\n",
      "2/2 [==============================] - 0s 999us/step - loss: 9.0357 - mae: 9.0357\n",
      "Epoch 315/500\n",
      "2/2 [==============================] - 0s 1000us/step - loss: 14.6752 - mae: 14.6752\n",
      "Epoch 316/500\n",
      "2/2 [==============================] - 0s 999us/step - loss: 6.0198 - mae: 6.0198\n",
      "Epoch 317/500\n",
      "2/2 [==============================] - 0s 1000us/step - loss: 14.0938 - mae: 14.0938\n",
      "Epoch 318/500\n",
      "2/2 [==============================] - 0s 998us/step - loss: 10.7004 - mae: 10.7004\n",
      "Epoch 319/500\n",
      "2/2 [==============================] - 0s 2ms/step - loss: 9.3753 - mae: 9.3753\n",
      "Epoch 320/500\n",
      "2/2 [==============================] - 0s 1ms/step - loss: 11.8715 - mae: 11.8715\n",
      "Epoch 321/500\n",
      "2/2 [==============================] - 0s 1ms/step - loss: 11.3444 - mae: 11.3444\n",
      "Epoch 322/500\n",
      "2/2 [==============================] - 0s 1ms/step - loss: 6.8299 - mae: 6.8299\n",
      "Epoch 323/500\n",
      "2/2 [==============================] - 0s 1ms/step - loss: 10.5600 - mae: 10.5600\n",
      "Epoch 324/500\n",
      "2/2 [==============================] - 0s 1000us/step - loss: 8.3515 - mae: 8.3515\n",
      "Epoch 325/500\n",
      "2/2 [==============================] - 0s 1ms/step - loss: 8.5880 - mae: 8.5880\n",
      "Epoch 326/500\n",
      "2/2 [==============================] - 0s 1ms/step - loss: 10.8369 - mae: 10.8369\n",
      "Epoch 327/500\n",
      "2/2 [==============================] - 0s 1000us/step - loss: 12.3404 - mae: 12.3404\n",
      "Epoch 328/500\n",
      "2/2 [==============================] - 0s 1ms/step - loss: 7.5716 - mae: 7.5716\n",
      "Epoch 329/500\n",
      "2/2 [==============================] - 0s 2ms/step - loss: 10.3883 - mae: 10.3883\n",
      "Epoch 330/500\n",
      "2/2 [==============================] - 0s 999us/step - loss: 7.5238 - mae: 7.5238\n",
      "Epoch 331/500\n",
      "2/2 [==============================] - 0s 1ms/step - loss: 10.0768 - mae: 10.0768\n",
      "Epoch 332/500\n",
      "2/2 [==============================] - 0s 1000us/step - loss: 10.2284 - mae: 10.2284\n",
      "Epoch 333/500\n",
      "2/2 [==============================] - 0s 1000us/step - loss: 15.3209 - mae: 15.3209\n",
      "Epoch 334/500\n",
      "2/2 [==============================] - 0s 2ms/step - loss: 8.0397 - mae: 8.0397\n",
      "Epoch 335/500\n",
      "2/2 [==============================] - 0s 1000us/step - loss: 5.7993 - mae: 5.7993\n",
      "Epoch 336/500\n",
      "2/2 [==============================] - 0s 1ms/step - loss: 16.8212 - mae: 16.8212\n",
      "Epoch 337/500\n",
      "2/2 [==============================] - 0s 1ms/step - loss: 8.3985 - mae: 8.3985\n",
      "Epoch 338/500\n",
      "2/2 [==============================] - 0s 1ms/step - loss: 5.0099 - mae: 5.0099\n",
      "Epoch 339/500\n",
      "2/2 [==============================] - 0s 1ms/step - loss: 6.8644 - mae: 6.8644\n",
      "Epoch 340/500\n",
      "2/2 [==============================] - 0s 1000us/step - loss: 8.0687 - mae: 8.0687\n",
      "Epoch 341/500\n",
      "2/2 [==============================] - 0s 1000us/step - loss: 15.1131 - mae: 15.1131\n",
      "Epoch 342/500\n",
      "2/2 [==============================] - 0s 1ms/step - loss: 8.1368 - mae: 8.1368\n",
      "Epoch 343/500\n",
      "2/2 [==============================] - 0s 999us/step - loss: 5.8897 - mae: 5.8897\n",
      "Epoch 344/500\n",
      "2/2 [==============================] - 0s 1000us/step - loss: 7.2683 - mae: 7.2683\n",
      "Epoch 345/500\n",
      "2/2 [==============================] - 0s 1ms/step - loss: 17.0482 - mae: 17.0482\n",
      "Epoch 346/500\n",
      "2/2 [==============================] - 0s 1ms/step - loss: 8.9619 - mae: 8.9619\n",
      "Epoch 347/500\n",
      "2/2 [==============================] - 0s 1ms/step - loss: 8.3651 - mae: 8.3651\n",
      "Epoch 348/500\n",
      "2/2 [==============================] - 0s 1ms/step - loss: 7.4031 - mae: 7.4031\n",
      "Epoch 349/500\n",
      "2/2 [==============================] - 0s 2ms/step - loss: 6.7868 - mae: 6.7868\n",
      "Epoch 350/500\n",
      "2/2 [==============================] - 0s 1000us/step - loss: 9.2962 - mae: 9.2962\n",
      "Epoch 351/500\n",
      "2/2 [==============================] - 0s 999us/step - loss: 17.1358 - mae: 17.1358\n",
      "Epoch 352/500\n",
      "2/2 [==============================] - 0s 2ms/step - loss: 11.9509 - mae: 11.9509\n",
      "Epoch 353/500\n",
      "2/2 [==============================] - 0s 1ms/step - loss: 7.0230 - mae: 7.0230\n",
      "Epoch 354/500\n",
      "2/2 [==============================] - 0s 1ms/step - loss: 7.5957 - mae: 7.5957\n",
      "Epoch 355/500\n",
      "2/2 [==============================] - 0s 1ms/step - loss: 10.2884 - mae: 10.2884\n",
      "Epoch 356/500\n",
      "2/2 [==============================] - 0s 1000us/step - loss: 4.6897 - mae: 4.6897\n",
      "Epoch 357/500\n",
      "2/2 [==============================] - 0s 2ms/step - loss: 13.8226 - mae: 13.8226\n",
      "Epoch 358/500\n",
      "2/2 [==============================] - 0s 1ms/step - loss: 17.6221 - mae: 17.6221\n",
      "Epoch 359/500\n",
      "2/2 [==============================] - 0s 1000us/step - loss: 5.5073 - mae: 5.5073\n",
      "Epoch 360/500\n",
      "2/2 [==============================] - 0s 1ms/step - loss: 12.2574 - mae: 12.2574\n",
      "Epoch 361/500\n",
      "2/2 [==============================] - 0s 1ms/step - loss: 8.1652 - mae: 8.1652\n",
      "Epoch 362/500\n",
      "2/2 [==============================] - 0s 1ms/step - loss: 9.3441 - mae: 9.3441\n",
      "Epoch 363/500\n",
      "2/2 [==============================] - 0s 0s/step - loss: 14.4917 - mae: 14.4917\n",
      "Epoch 364/500\n",
      "2/2 [==============================] - 0s 1000us/step - loss: 15.8309 - mae: 15.8309\n",
      "Epoch 365/500\n",
      "2/2 [==============================] - 0s 1000us/step - loss: 7.5998 - mae: 7.5998\n",
      "Epoch 366/500\n",
      "2/2 [==============================] - 0s 1ms/step - loss: 7.0232 - mae: 7.0232\n",
      "Epoch 367/500\n",
      "2/2 [==============================] - 0s 1ms/step - loss: 15.7730 - mae: 15.7730\n",
      "Epoch 368/500\n",
      "2/2 [==============================] - 0s 0s/step - loss: 10.9224 - mae: 10.9224\n",
      "Epoch 369/500\n",
      "2/2 [==============================] - 0s 1ms/step - loss: 5.8909 - mae: 5.8909\n",
      "Epoch 370/500\n",
      "2/2 [==============================] - 0s 2ms/step - loss: 6.9182 - mae: 6.9182\n",
      "Epoch 371/500\n",
      "2/2 [==============================] - 0s 1ms/step - loss: 10.1104 - mae: 10.1104\n",
      "Epoch 372/500\n",
      "2/2 [==============================] - 0s 1000us/step - loss: 5.9581 - mae: 5.9581\n",
      "Epoch 373/500\n",
      "2/2 [==============================] - 0s 1000us/step - loss: 14.0569 - mae: 14.0569\n",
      "Epoch 374/500\n",
      "2/2 [==============================] - 0s 1ms/step - loss: 6.6652 - mae: 6.6652\n",
      "Epoch 375/500\n",
      "2/2 [==============================] - 0s 2ms/step - loss: 6.3797 - mae: 6.3797\n",
      "Epoch 376/500\n",
      "2/2 [==============================] - 0s 1000us/step - loss: 7.9763 - mae: 7.9763\n",
      "Epoch 377/500\n",
      "2/2 [==============================] - 0s 0s/step - loss: 6.4663 - mae: 6.4663\n",
      "Epoch 378/500\n",
      "2/2 [==============================] - 0s 999us/step - loss: 6.3525 - mae: 6.3525\n",
      "Epoch 379/500\n",
      "2/2 [==============================] - 0s 1ms/step - loss: 11.3385 - mae: 11.3385\n",
      "Epoch 380/500\n",
      "2/2 [==============================] - 0s 1ms/step - loss: 16.4313 - mae: 16.4313\n",
      "Epoch 381/500\n",
      "2/2 [==============================] - 0s 1ms/step - loss: 8.9847 - mae: 8.9847\n",
      "Epoch 382/500\n",
      "2/2 [==============================] - 0s 1000us/step - loss: 8.4348 - mae: 8.4348\n",
      "Epoch 383/500\n",
      "2/2 [==============================] - 0s 1000us/step - loss: 8.5301 - mae: 8.5301\n",
      "Epoch 384/500\n",
      "2/2 [==============================] - 0s 1ms/step - loss: 7.0274 - mae: 7.0274\n",
      "Epoch 385/500\n",
      "2/2 [==============================] - 0s 1ms/step - loss: 6.1197 - mae: 6.1197\n",
      "Epoch 386/500\n",
      "2/2 [==============================] - 0s 1ms/step - loss: 10.0462 - mae: 10.0462\n",
      "Epoch 387/500\n",
      "2/2 [==============================] - 0s 1ms/step - loss: 8.7691 - mae: 8.7691\n",
      "Epoch 388/500\n",
      "2/2 [==============================] - 0s 1ms/step - loss: 10.0510 - mae: 10.0510\n",
      "Epoch 389/500\n",
      "2/2 [==============================] - 0s 1ms/step - loss: 5.6757 - mae: 5.6757\n",
      "Epoch 390/500\n",
      "2/2 [==============================] - 0s 1ms/step - loss: 5.4138 - mae: 5.4138\n",
      "Epoch 391/500\n",
      "2/2 [==============================] - 0s 2ms/step - loss: 6.6442 - mae: 6.6442\n",
      "Epoch 392/500\n",
      "2/2 [==============================] - 0s 1ms/step - loss: 11.3003 - mae: 11.3003\n",
      "Epoch 393/500\n",
      "2/2 [==============================] - 0s 0s/step - loss: 13.1024 - mae: 13.1024\n",
      "Epoch 394/500\n",
      "2/2 [==============================] - 0s 1000us/step - loss: 9.0743 - mae: 9.0743\n",
      "Epoch 395/500\n",
      "2/2 [==============================] - 0s 1ms/step - loss: 14.5278 - mae: 14.5278\n",
      "Epoch 396/500\n",
      "2/2 [==============================] - 0s 1ms/step - loss: 10.1846 - mae: 10.1846\n",
      "Epoch 397/500\n",
      "2/2 [==============================] - 0s 1ms/step - loss: 8.2252 - mae: 8.2252\n",
      "Epoch 398/500\n",
      "2/2 [==============================] - 0s 1000us/step - loss: 10.8869 - mae: 10.8869\n",
      "Epoch 399/500\n",
      "2/2 [==============================] - 0s 1ms/step - loss: 5.3330 - mae: 5.3330\n",
      "Epoch 400/500\n",
      "2/2 [==============================] - 0s 1ms/step - loss: 10.5090 - mae: 10.5090\n",
      "Epoch 401/500\n",
      "2/2 [==============================] - 0s 999us/step - loss: 7.9754 - mae: 7.9754\n",
      "Epoch 402/500\n",
      "2/2 [==============================] - 0s 2ms/step - loss: 10.0745 - mae: 10.0745\n",
      "Epoch 403/500\n",
      "2/2 [==============================] - 0s 2ms/step - loss: 5.0371 - mae: 5.0371\n",
      "Epoch 404/500\n",
      "2/2 [==============================] - 0s 1ms/step - loss: 12.2936 - mae: 12.2936\n",
      "Epoch 405/500\n",
      "2/2 [==============================] - 0s 999us/step - loss: 10.6672 - mae: 10.6672\n",
      "Epoch 406/500\n",
      "2/2 [==============================] - 0s 2ms/step - loss: 12.1969 - mae: 12.1969\n",
      "Epoch 407/500\n",
      "2/2 [==============================] - 0s 1ms/step - loss: 6.2457 - mae: 6.2457\n",
      "Epoch 408/500\n",
      "2/2 [==============================] - 0s 2ms/step - loss: 10.2169 - mae: 10.2169\n",
      "Epoch 409/500\n",
      "2/2 [==============================] - 0s 2ms/step - loss: 7.3706 - mae: 7.3706\n",
      "Epoch 410/500\n",
      "2/2 [==============================] - 0s 1ms/step - loss: 5.6675 - mae: 5.6675\n",
      "Epoch 411/500\n",
      "2/2 [==============================] - 0s 1ms/step - loss: 8.1893 - mae: 8.1893\n",
      "Epoch 412/500\n",
      "2/2 [==============================] - 0s 999us/step - loss: 7.8746 - mae: 7.8746\n",
      "Epoch 413/500\n",
      "2/2 [==============================] - 0s 1ms/step - loss: 6.5806 - mae: 6.5806\n",
      "Epoch 414/500\n",
      "2/2 [==============================] - 0s 1ms/step - loss: 10.9350 - mae: 10.9350\n",
      "Epoch 415/500\n",
      "2/2 [==============================] - 0s 1ms/step - loss: 6.3000 - mae: 6.3000\n",
      "Epoch 416/500\n",
      "2/2 [==============================] - 0s 1ms/step - loss: 11.7295 - mae: 11.7295\n",
      "Epoch 417/500\n",
      "2/2 [==============================] - 0s 0s/step - loss: 10.9230 - mae: 10.9230\n",
      "Epoch 418/500\n",
      "2/2 [==============================] - 0s 2ms/step - loss: 6.1645 - mae: 6.1645\n",
      "Epoch 419/500\n",
      "2/2 [==============================] - 0s 999us/step - loss: 8.7811 - mae: 8.7811\n",
      "Epoch 420/500\n",
      "2/2 [==============================] - 0s 1000us/step - loss: 13.1058 - mae: 13.1058\n",
      "Epoch 421/500\n",
      "2/2 [==============================] - 0s 999us/step - loss: 9.9970 - mae: 9.9970\n",
      "Epoch 422/500\n",
      "2/2 [==============================] - 0s 1ms/step - loss: 8.5330 - mae: 8.5330\n",
      "Epoch 423/500\n",
      "2/2 [==============================] - 0s 1ms/step - loss: 13.7265 - mae: 13.7265\n",
      "Epoch 424/500\n",
      "2/2 [==============================] - 0s 2ms/step - loss: 10.7647 - mae: 10.7647\n",
      "Epoch 425/500\n",
      "2/2 [==============================] - 0s 1ms/step - loss: 12.4285 - mae: 12.4285\n",
      "Epoch 426/500\n",
      "2/2 [==============================] - 0s 1ms/step - loss: 11.0055 - mae: 11.0055\n",
      "Epoch 427/500\n",
      "2/2 [==============================] - 0s 0s/step - loss: 11.4904 - mae: 11.4904\n",
      "Epoch 428/500\n",
      "2/2 [==============================] - 0s 1ms/step - loss: 8.7994 - mae: 8.7994\n",
      "Epoch 429/500\n",
      "2/2 [==============================] - 0s 1000us/step - loss: 12.2371 - mae: 12.2371\n",
      "Epoch 430/500\n",
      "2/2 [==============================] - 0s 1ms/step - loss: 16.6753 - mae: 16.6753\n",
      "Epoch 431/500\n",
      "2/2 [==============================] - 0s 999us/step - loss: 12.9846 - mae: 12.9846\n",
      "Epoch 432/500\n",
      "2/2 [==============================] - 0s 1000us/step - loss: 7.9369 - mae: 7.9369\n",
      "Epoch 433/500\n",
      "2/2 [==============================] - 0s 999us/step - loss: 7.9925 - mae: 7.9925\n",
      "Epoch 434/500\n",
      "2/2 [==============================] - 0s 1ms/step - loss: 16.4865 - mae: 16.4865\n",
      "Epoch 435/500\n",
      "2/2 [==============================] - 0s 1000us/step - loss: 9.7256 - mae: 9.7256\n",
      "Epoch 436/500\n",
      "2/2 [==============================] - 0s 1ms/step - loss: 17.2785 - mae: 17.2785\n",
      "Epoch 437/500\n",
      "2/2 [==============================] - 0s 0s/step - loss: 8.2636 - mae: 8.2636\n",
      "Epoch 438/500\n",
      "2/2 [==============================] - 0s 1ms/step - loss: 5.0653 - mae: 5.0653\n",
      "Epoch 439/500\n",
      "2/2 [==============================] - 0s 1ms/step - loss: 18.8209 - mae: 18.8209\n",
      "Epoch 440/500\n",
      "2/2 [==============================] - 0s 0s/step - loss: 10.4388 - mae: 10.4388\n",
      "Epoch 441/500\n",
      "2/2 [==============================] - 0s 999us/step - loss: 5.6374 - mae: 5.6374\n",
      "Epoch 442/500\n",
      "2/2 [==============================] - 0s 1ms/step - loss: 11.0836 - mae: 11.0836\n",
      "Epoch 443/500\n",
      "2/2 [==============================] - 0s 1ms/step - loss: 11.4429 - mae: 11.4429\n",
      "Epoch 444/500\n",
      "2/2 [==============================] - 0s 999us/step - loss: 14.6911 - mae: 14.6911\n",
      "Epoch 445/500\n",
      "2/2 [==============================] - 0s 1ms/step - loss: 5.7626 - mae: 5.7626\n",
      "Epoch 446/500\n",
      "2/2 [==============================] - 0s 1000us/step - loss: 10.0883 - mae: 10.0883\n",
      "Epoch 447/500\n",
      "2/2 [==============================] - 0s 999us/step - loss: 8.7398 - mae: 8.7398\n",
      "Epoch 448/500\n",
      "2/2 [==============================] - 0s 1ms/step - loss: 4.4947 - mae: 4.4947\n",
      "Epoch 449/500\n",
      "2/2 [==============================] - 0s 999us/step - loss: 4.9613 - mae: 4.9613\n",
      "Epoch 450/500\n",
      "2/2 [==============================] - 0s 1ms/step - loss: 7.7445 - mae: 7.7445\n",
      "Epoch 451/500\n",
      "2/2 [==============================] - 0s 1ms/step - loss: 7.9256 - mae: 7.9256\n",
      "Epoch 452/500\n",
      "2/2 [==============================] - 0s 1ms/step - loss: 14.7820 - mae: 14.7820\n",
      "Epoch 453/500\n",
      "2/2 [==============================] - 0s 3ms/step - loss: 11.6937 - mae: 11.6937\n",
      "Epoch 454/500\n",
      "2/2 [==============================] - 0s 2ms/step - loss: 11.9609 - mae: 11.9609\n",
      "Epoch 455/500\n",
      "2/2 [==============================] - 0s 4ms/step - loss: 9.3019 - mae: 9.3019\n",
      "Epoch 456/500\n",
      "2/2 [==============================] - 0s 2ms/step - loss: 5.2815 - mae: 5.2815\n",
      "Epoch 457/500\n",
      "2/2 [==============================] - 0s 1ms/step - loss: 9.5531 - mae: 9.5531\n",
      "Epoch 458/500\n",
      "2/2 [==============================] - 0s 2ms/step - loss: 8.6709 - mae: 8.6709\n",
      "Epoch 459/500\n",
      "2/2 [==============================] - 0s 2ms/step - loss: 13.3219 - mae: 13.3219\n",
      "Epoch 460/500\n",
      "2/2 [==============================] - 0s 999us/step - loss: 7.9435 - mae: 7.9435\n",
      "Epoch 461/500\n",
      "2/2 [==============================] - 0s 999us/step - loss: 7.1638 - mae: 7.1638\n",
      "Epoch 462/500\n",
      "2/2 [==============================] - 0s 999us/step - loss: 7.6517 - mae: 7.6517\n",
      "Epoch 463/500\n",
      "2/2 [==============================] - 0s 1ms/step - loss: 14.3952 - mae: 14.3952\n",
      "Epoch 464/500\n",
      "2/2 [==============================] - 0s 1ms/step - loss: 10.1302 - mae: 10.1302\n",
      "Epoch 465/500\n",
      "2/2 [==============================] - 0s 1ms/step - loss: 12.6531 - mae: 12.6531\n",
      "Epoch 466/500\n",
      "2/2 [==============================] - 0s 1ms/step - loss: 11.8659 - mae: 11.8659\n",
      "Epoch 467/500\n",
      "2/2 [==============================] - 0s 1000us/step - loss: 13.2223 - mae: 13.2223\n",
      "Epoch 468/500\n",
      "2/2 [==============================] - 0s 1ms/step - loss: 5.8688 - mae: 5.8688\n",
      "Epoch 469/500\n",
      "2/2 [==============================] - 0s 1ms/step - loss: 17.8105 - mae: 17.8105\n",
      "Epoch 470/500\n",
      "2/2 [==============================] - 0s 1000us/step - loss: 8.6844 - mae: 8.6844\n",
      "Epoch 471/500\n",
      "2/2 [==============================] - 0s 1000us/step - loss: 16.3588 - mae: 16.3588\n",
      "Epoch 472/500\n",
      "2/2 [==============================] - 0s 1ms/step - loss: 7.9287 - mae: 7.9287\n",
      "Epoch 473/500\n",
      "2/2 [==============================] - 0s 999us/step - loss: 6.8361 - mae: 6.8361\n",
      "Epoch 474/500\n",
      "2/2 [==============================] - 0s 1ms/step - loss: 15.9489 - mae: 15.9489\n",
      "Epoch 475/500\n",
      "2/2 [==============================] - 0s 1ms/step - loss: 13.3517 - mae: 13.3517\n",
      "Epoch 476/500\n",
      "2/2 [==============================] - 0s 1ms/step - loss: 3.9227 - mae: 3.9227\n",
      "Epoch 477/500\n",
      "2/2 [==============================] - 0s 1000us/step - loss: 13.2285 - mae: 13.2285\n",
      "Epoch 478/500\n",
      "2/2 [==============================] - 0s 999us/step - loss: 9.7745 - mae: 9.7745\n",
      "Epoch 479/500\n",
      "2/2 [==============================] - 0s 1ms/step - loss: 5.2300 - mae: 5.2300\n",
      "Epoch 480/500\n",
      "2/2 [==============================] - 0s 1000us/step - loss: 11.2441 - mae: 11.2441\n",
      "Epoch 481/500\n",
      "2/2 [==============================] - 0s 1ms/step - loss: 9.0189 - mae: 9.0189\n",
      "Epoch 482/500\n",
      "2/2 [==============================] - 0s 1ms/step - loss: 11.9006 - mae: 11.9006\n",
      "Epoch 483/500\n",
      "2/2 [==============================] - 0s 1ms/step - loss: 11.1602 - mae: 11.1602\n",
      "Epoch 484/500\n",
      "2/2 [==============================] - 0s 1000us/step - loss: 12.2887 - mae: 12.2887\n",
      "Epoch 485/500\n",
      "2/2 [==============================] - 0s 998us/step - loss: 10.9183 - mae: 10.9183\n",
      "Epoch 486/500\n",
      "2/2 [==============================] - 0s 999us/step - loss: 11.0098 - mae: 11.0098\n",
      "Epoch 487/500\n",
      "2/2 [==============================] - 0s 1000us/step - loss: 5.3929 - mae: 5.3929\n",
      "Epoch 488/500\n",
      "2/2 [==============================] - 0s 1ms/step - loss: 15.8187 - mae: 15.8187\n",
      "Epoch 489/500\n",
      "2/2 [==============================] - 0s 1000us/step - loss: 6.2738 - mae: 6.2738\n",
      "Epoch 490/500\n",
      "2/2 [==============================] - 0s 1ms/step - loss: 5.9166 - mae: 5.9166\n",
      "Epoch 491/500\n",
      "2/2 [==============================] - 0s 2ms/step - loss: 12.0020 - mae: 12.0020\n",
      "Epoch 492/500\n",
      "2/2 [==============================] - 0s 2ms/step - loss: 11.0725 - mae: 11.0725\n",
      "Epoch 493/500\n",
      "2/2 [==============================] - 0s 1ms/step - loss: 11.3475 - mae: 11.3475\n",
      "Epoch 494/500\n",
      "2/2 [==============================] - 0s 0s/step - loss: 6.8363 - mae: 6.8363\n",
      "Epoch 495/500\n",
      "2/2 [==============================] - 0s 0s/step - loss: 6.8682 - mae: 6.8682\n",
      "Epoch 496/500\n",
      "2/2 [==============================] - 0s 1ms/step - loss: 6.2117 - mae: 6.2117\n",
      "Epoch 497/500\n",
      "2/2 [==============================] - 0s 998us/step - loss: 10.0214 - mae: 10.0214\n",
      "Epoch 498/500\n",
      "2/2 [==============================] - 0s 1ms/step - loss: 9.0612 - mae: 9.0612\n",
      "Epoch 499/500\n",
      "2/2 [==============================] - 0s 1ms/step - loss: 11.1439 - mae: 11.1439\n",
      "Epoch 500/500\n",
      "2/2 [==============================] - 0s 999us/step - loss: 4.5729 - mae: 4.5729\n"
     ]
    },
    {
     "data": {
      "text/plain": [
       "<keras.callbacks.History at 0x1c2ff832640>"
      ]
     },
     "execution_count": 62,
     "metadata": {},
     "output_type": "execute_result"
    }
   ],
   "source": [
    "tf.random.set_seed(42)\n",
    "\n",
    "model_1 = tf.keras.Sequential([\n",
    "    tf.keras.layers.Dense(1, input_shape = [1])\n",
    "])\n",
    "\n",
    "model_1.compile(\n",
    "    loss = tf.keras.losses.mae, # mean absolute error\n",
    "    optimizer = tf.keras.optimizers.SGD(), # stochastic gradient descent\n",
    "    metrics = [\"mae\"]\n",
    ")\n",
    "\n",
    "model_1.fit(X_train, y_train, epochs = 500)"
   ]
  },
  {
   "cell_type": "code",
   "execution_count": 63,
   "metadata": {},
   "outputs": [
    {
     "data": {
      "image/png": "[encoded data removed]",
      "text/plain": [
       "<Figure size 720x504 with 1 Axes>"
      ]
     },
     "metadata": {
      "needs_background": "light"
     },
     "output_type": "display_data"
    }
   ],
   "source": [
    "y_preds_1 = model_1.predict(X_test)\n",
    "plot_predictions(predictions=y_preds_1)"
   ]
  },
  {
   "cell_type": "code",
   "execution_count": 64,
   "metadata": {},
   "outputs": [
    {
     "data": {
      "text/plain": [
       "(26.24289, 709.16064)"
      ]
     },
     "execution_count": 64,
     "metadata": {},
     "output_type": "execute_result"
    }
   ],
   "source": [
    "mae_1 = mae(y_test, y_preds_1.squeeze()).numpy()\n",
    "mse_1 = mse(y_test, y_preds_1.squeeze()).numpy()\n",
    "mae_1, mse_1"
   ]
  },
  {
   "cell_type": "code",
   "execution_count": 65,
   "metadata": {},
   "outputs": [],
   "source": [
    "# model_2 : 레이어를 더 추가!"
   ]
  },
  {
   "cell_type": "code",
   "execution_count": 66,
   "metadata": {},
   "outputs": [
    {
     "name": "stdout",
     "output_type": "stream",
     "text": [
      "Epoch 1/100\n",
      "2/2 [==============================] - 0s 1ms/step - loss: 22.6625 - mae: 22.6625\n",
      "Epoch 2/100\n",
      "2/2 [==============================] - 0s 1ms/step - loss: 16.9439 - mae: 16.9439\n",
      "Epoch 3/100\n",
      "2/2 [==============================] - 0s 1ms/step - loss: 13.8059 - mae: 13.8059\n",
      "Epoch 4/100\n",
      "2/2 [==============================] - 0s 2ms/step - loss: 17.4504 - mae: 17.4504\n",
      "Epoch 5/100\n",
      "2/2 [==============================] - 0s 1ms/step - loss: 12.0637 - mae: 12.0637\n",
      "Epoch 6/100\n",
      "2/2 [==============================] - 0s 1000us/step - loss: 9.8335 - mae: 9.8335\n",
      "Epoch 7/100\n",
      "2/2 [==============================] - 0s 0s/step - loss: 10.7023 - mae: 10.7023\n",
      "Epoch 8/100\n",
      "2/2 [==============================] - 0s 1ms/step - loss: 10.8713 - mae: 10.8713\n",
      "Epoch 9/100\n",
      "2/2 [==============================] - 0s 2ms/step - loss: 38.0435 - mae: 38.0435\n",
      "Epoch 10/100\n",
      "2/2 [==============================] - 0s 1ms/step - loss: 25.6226 - mae: 25.6226\n",
      "Epoch 11/100\n",
      "2/2 [==============================] - 0s 2ms/step - loss: 10.2375 - mae: 10.2375\n",
      "Epoch 12/100\n",
      "2/2 [==============================] - 0s 1000us/step - loss: 25.1960 - mae: 25.1960\n",
      "Epoch 13/100\n",
      "2/2 [==============================] - 0s 1ms/step - loss: 17.0177 - mae: 17.0177\n",
      "Epoch 14/100\n",
      "2/2 [==============================] - 0s 1000us/step - loss: 25.9747 - mae: 25.9747\n",
      "Epoch 15/100\n",
      "2/2 [==============================] - 0s 999us/step - loss: 18.0366 - mae: 18.0366\n",
      "Epoch 16/100\n",
      "2/2 [==============================] - 0s 999us/step - loss: 7.3513 - mae: 7.3513\n",
      "Epoch 17/100\n",
      "2/2 [==============================] - 0s 1000us/step - loss: 10.8516 - mae: 10.8516\n",
      "Epoch 18/100\n",
      "2/2 [==============================] - 0s 998us/step - loss: 19.5119 - mae: 19.5119\n",
      "Epoch 19/100\n",
      "2/2 [==============================] - 0s 1ms/step - loss: 10.3378 - mae: 10.3378\n",
      "Epoch 20/100\n",
      "2/2 [==============================] - 0s 1ms/step - loss: 17.6840 - mae: 17.6840\n",
      "Epoch 21/100\n",
      "2/2 [==============================] - 0s 1ms/step - loss: 15.8826 - mae: 15.8826\n",
      "Epoch 22/100\n",
      "2/2 [==============================] - 0s 1000us/step - loss: 14.1778 - mae: 14.1778\n",
      "Epoch 23/100\n",
      "2/2 [==============================] - 0s 1ms/step - loss: 8.7814 - mae: 8.7814\n",
      "Epoch 24/100\n",
      "2/2 [==============================] - 0s 1000us/step - loss: 11.0673 - mae: 11.0673\n",
      "Epoch 25/100\n",
      "2/2 [==============================] - 0s 1ms/step - loss: 12.6998 - mae: 12.6998\n",
      "Epoch 26/100\n",
      "2/2 [==============================] - 0s 1ms/step - loss: 26.2395 - mae: 26.2395\n",
      "Epoch 27/100\n",
      "2/2 [==============================] - 0s 2ms/step - loss: 11.7524 - mae: 11.7524\n",
      "Epoch 28/100\n",
      "2/2 [==============================] - 0s 1ms/step - loss: 22.9252 - mae: 22.9252\n",
      "Epoch 29/100\n",
      "2/2 [==============================] - 0s 1ms/step - loss: 9.2439 - mae: 9.2439\n",
      "Epoch 30/100\n",
      "2/2 [==============================] - 0s 1000us/step - loss: 29.3121 - mae: 29.3121\n",
      "Epoch 31/100\n",
      "2/2 [==============================] - 0s 0s/step - loss: 53.1141 - mae: 53.1141\n",
      "Epoch 32/100\n",
      "2/2 [==============================] - 0s 1ms/step - loss: 12.3708 - mae: 12.3708\n",
      "Epoch 33/100\n",
      "2/2 [==============================] - 0s 1ms/step - loss: 12.1831 - mae: 12.1831\n",
      "Epoch 34/100\n",
      "2/2 [==============================] - 0s 1ms/step - loss: 23.9483 - mae: 23.9483\n",
      "Epoch 35/100\n",
      "2/2 [==============================] - 0s 1ms/step - loss: 12.6223 - mae: 12.6223\n",
      "Epoch 36/100\n",
      "2/2 [==============================] - 0s 1ms/step - loss: 21.5243 - mae: 21.5243\n",
      "Epoch 37/100\n",
      "2/2 [==============================] - 0s 1ms/step - loss: 11.3913 - mae: 11.3913\n",
      "Epoch 38/100\n",
      "2/2 [==============================] - 0s 1ms/step - loss: 13.4744 - mae: 13.4744\n",
      "Epoch 39/100\n",
      "2/2 [==============================] - 0s 1ms/step - loss: 10.7992 - mae: 10.7992\n",
      "Epoch 40/100\n",
      "2/2 [==============================] - 0s 999us/step - loss: 16.6026 - mae: 16.6026\n",
      "Epoch 41/100\n",
      "2/2 [==============================] - 0s 1ms/step - loss: 10.9797 - mae: 10.9797\n",
      "Epoch 42/100\n",
      "2/2 [==============================] - 0s 1000us/step - loss: 9.3049 - mae: 9.3049\n",
      "Epoch 43/100\n",
      "2/2 [==============================] - 0s 1000us/step - loss: 9.5985 - mae: 9.5985\n",
      "Epoch 44/100\n",
      "2/2 [==============================] - 0s 2ms/step - loss: 27.9750 - mae: 27.9750\n",
      "Epoch 45/100\n",
      "2/2 [==============================] - 0s 2ms/step - loss: 11.2865 - mae: 11.2865\n",
      "Epoch 46/100\n",
      "2/2 [==============================] - 0s 1ms/step - loss: 14.0574 - mae: 14.0574\n",
      "Epoch 47/100\n",
      "2/2 [==============================] - 0s 1000us/step - loss: 13.5113 - mae: 13.5113\n",
      "Epoch 48/100\n",
      "2/2 [==============================] - 0s 1ms/step - loss: 17.3531 - mae: 17.3531\n",
      "Epoch 49/100\n",
      "2/2 [==============================] - 0s 1ms/step - loss: 9.5141 - mae: 9.5141\n",
      "Epoch 50/100\n",
      "2/2 [==============================] - 0s 1ms/step - loss: 13.6965 - mae: 13.6965\n",
      "Epoch 51/100\n",
      "2/2 [==============================] - 0s 1ms/step - loss: 11.5602 - mae: 11.5602\n",
      "Epoch 52/100\n",
      "2/2 [==============================] - 0s 1ms/step - loss: 30.1688 - mae: 30.1688\n",
      "Epoch 53/100\n",
      "2/2 [==============================] - 0s 0s/step - loss: 13.7142 - mae: 13.7142\n",
      "Epoch 54/100\n",
      "2/2 [==============================] - 0s 1ms/step - loss: 26.3987 - mae: 26.3987\n",
      "Epoch 55/100\n",
      "2/2 [==============================] - 0s 1000us/step - loss: 25.9838 - mae: 25.9838\n",
      "Epoch 56/100\n",
      "2/2 [==============================] - 0s 1ms/step - loss: 11.2307 - mae: 11.2307\n",
      "Epoch 57/100\n",
      "2/2 [==============================] - 0s 1000us/step - loss: 13.2025 - mae: 13.2025\n",
      "Epoch 58/100\n",
      "2/2 [==============================] - 0s 1ms/step - loss: 9.8624 - mae: 9.8624\n",
      "Epoch 59/100\n",
      "2/2 [==============================] - 0s 1000us/step - loss: 13.3870 - mae: 13.3870\n",
      "Epoch 60/100\n",
      "2/2 [==============================] - 0s 1ms/step - loss: 10.9240 - mae: 10.9240\n",
      "Epoch 61/100\n",
      "2/2 [==============================] - 0s 1ms/step - loss: 13.5375 - mae: 13.5375\n",
      "Epoch 62/100\n",
      "2/2 [==============================] - 0s 999us/step - loss: 17.6004 - mae: 17.6004\n",
      "Epoch 63/100\n",
      "2/2 [==============================] - 0s 1000us/step - loss: 9.1937 - mae: 9.1937\n",
      "Epoch 64/100\n",
      "2/2 [==============================] - 0s 1ms/step - loss: 18.4644 - mae: 18.4644\n",
      "Epoch 65/100\n",
      "2/2 [==============================] - 0s 1ms/step - loss: 10.1481 - mae: 10.1481\n",
      "Epoch 66/100\n",
      "2/2 [==============================] - 0s 1ms/step - loss: 24.3358 - mae: 24.3358\n",
      "Epoch 67/100\n",
      "2/2 [==============================] - 0s 1ms/step - loss: 10.9262 - mae: 10.9262\n",
      "Epoch 68/100\n",
      "2/2 [==============================] - 0s 1ms/step - loss: 10.8005 - mae: 10.8005\n",
      "Epoch 69/100\n",
      "2/2 [==============================] - 0s 1000us/step - loss: 23.3092 - mae: 23.3092\n",
      "Epoch 70/100\n",
      "2/2 [==============================] - 0s 1ms/step - loss: 8.8134 - mae: 8.8134\n",
      "Epoch 71/100\n",
      "2/2 [==============================] - 0s 1000us/step - loss: 15.9715 - mae: 15.9715\n",
      "Epoch 72/100\n",
      "2/2 [==============================] - 0s 1ms/step - loss: 8.1469 - mae: 8.1469\n",
      "Epoch 73/100\n",
      "2/2 [==============================] - 0s 999us/step - loss: 9.4683 - mae: 9.4683\n",
      "Epoch 74/100\n",
      "2/2 [==============================] - 0s 1ms/step - loss: 28.1492 - mae: 28.1492\n",
      "Epoch 75/100\n",
      "2/2 [==============================] - 0s 1ms/step - loss: 10.2183 - mae: 10.2183\n",
      "Epoch 76/100\n",
      "2/2 [==============================] - 0s 1ms/step - loss: 13.1686 - mae: 13.1686\n",
      "Epoch 77/100\n",
      "2/2 [==============================] - 0s 1ms/step - loss: 18.4013 - mae: 18.4013\n",
      "Epoch 78/100\n",
      "2/2 [==============================] - 0s 1ms/step - loss: 9.0304 - mae: 9.0304\n",
      "Epoch 79/100\n",
      "2/2 [==============================] - 0s 1ms/step - loss: 23.4406 - mae: 23.4406\n",
      "Epoch 80/100\n",
      "2/2 [==============================] - 0s 1ms/step - loss: 26.1121 - mae: 26.1121\n",
      "Epoch 81/100\n",
      "2/2 [==============================] - 0s 1ms/step - loss: 11.4009 - mae: 11.4009\n",
      "Epoch 82/100\n",
      "2/2 [==============================] - 0s 1000us/step - loss: 12.5022 - mae: 12.5022\n",
      "Epoch 83/100\n",
      "2/2 [==============================] - 0s 0s/step - loss: 17.1949 - mae: 17.1949\n",
      "Epoch 84/100\n",
      "2/2 [==============================] - 0s 1000us/step - loss: 6.6097 - mae: 6.6097\n",
      "Epoch 85/100\n",
      "2/2 [==============================] - 0s 1000us/step - loss: 20.2734 - mae: 20.2734\n",
      "Epoch 86/100\n",
      "2/2 [==============================] - 0s 1ms/step - loss: 10.1761 - mae: 10.1761\n",
      "Epoch 87/100\n",
      "2/2 [==============================] - 0s 2ms/step - loss: 24.3047 - mae: 24.3047\n",
      "Epoch 88/100\n",
      "2/2 [==============================] - 0s 999us/step - loss: 18.9693 - mae: 18.9693\n",
      "Epoch 89/100\n",
      "2/2 [==============================] - 0s 1000us/step - loss: 7.1749 - mae: 7.1749\n",
      "Epoch 90/100\n",
      "2/2 [==============================] - 0s 1ms/step - loss: 18.2784 - mae: 18.2784\n",
      "Epoch 91/100\n",
      "2/2 [==============================] - 0s 1ms/step - loss: 13.3343 - mae: 13.3343\n",
      "Epoch 92/100\n",
      "2/2 [==============================] - 0s 1ms/step - loss: 8.7404 - mae: 8.7404\n",
      "Epoch 93/100\n",
      "2/2 [==============================] - 0s 0s/step - loss: 14.1947 - mae: 14.1947\n",
      "Epoch 94/100\n",
      "2/2 [==============================] - 0s 1ms/step - loss: 17.1955 - mae: 17.1955\n",
      "Epoch 95/100\n",
      "2/2 [==============================] - 0s 1ms/step - loss: 16.7777 - mae: 16.7777\n",
      "Epoch 96/100\n",
      "2/2 [==============================] - 0s 2ms/step - loss: 11.1365 - mae: 11.1365\n",
      "Epoch 97/100\n",
      "2/2 [==============================] - 0s 2ms/step - loss: 21.1983 - mae: 21.1983\n",
      "Epoch 98/100\n",
      "2/2 [==============================] - 0s 1ms/step - loss: 10.4874 - mae: 10.4874\n",
      "Epoch 99/100\n",
      "2/2 [==============================] - 0s 1ms/step - loss: 14.5632 - mae: 14.5632\n",
      "Epoch 100/100\n",
      "2/2 [==============================] - 0s 2ms/step - loss: 17.7188 - mae: 17.7188\n"
     ]
    },
    {
     "data": {
      "text/plain": [
       "<keras.callbacks.History at 0x1c2ff94b670>"
      ]
     },
     "execution_count": 66,
     "metadata": {},
     "output_type": "execute_result"
    }
   ],
   "source": [
    "tf.random.set_seed(42)\n",
    "\n",
    "model_2 = tf.keras.Sequential([\n",
    "    tf.keras.layers.Dense(1),\n",
    "    tf.keras.layers.Dense(1)\n",
    "])\n",
    "\n",
    "model_2.compile(\n",
    "    loss = tf.keras.losses.mae, # mean absolute error\n",
    "    optimizer = tf.keras.optimizers.SGD(), # stochastic gradient descent\n",
    "    metrics = [\"mae\"]\n",
    ")\n",
    "\n",
    "model_2.fit(X_train, y_train, epochs = 100)"
   ]
  },
  {
   "cell_type": "code",
   "execution_count": 67,
   "metadata": {},
   "outputs": [
    {
     "name": "stdout",
     "output_type": "stream",
     "text": [
      "WARNING:tensorflow:5 out of the last 6 calls to <function Model.make_predict_function.<locals>.predict_function at 0x000001C2FF964EE0> triggered tf.function retracing. Tracing is expensive and the excessive number of tracings could be due to (1) creating @tf.function repeatedly in a loop, (2) passing tensors with different shapes, (3) passing Python objects instead of tensors. For (1), please define your @tf.function outside of the loop. For (2), @tf.function has experimental_relax_shapes=True option that relaxes argument shapes that can avoid unnecessary retracing. For (3), please refer to https://www.tensorflow.org/guide/function#controlling_retracing and https://www.tensorflow.org/api_docs/python/tf/function for  more details.\n"
     ]
    },
    {
     "data": {
      "image/png": "[encoded data removed]",
      "text/plain": [
       "<Figure size 720x504 with 1 Axes>"
      ]
     },
     "metadata": {
      "needs_background": "light"
     },
     "output_type": "display_data"
    }
   ],
   "source": [
    "y_preds_2 = model_2.predict(X_test)\n",
    "plot_predictions(predictions = y_preds_2)"
   ]
  },
  {
   "cell_type": "code",
   "execution_count": 68,
   "metadata": {},
   "outputs": [
    {
     "data": {
      "text/plain": [
       "(1.9097328, 5.45877)"
      ]
     },
     "execution_count": 68,
     "metadata": {},
     "output_type": "execute_result"
    }
   ],
   "source": [
    "mae_2 = mae(y_test, y_preds_2.squeeze()).numpy()\n",
    "mse_2 = mse(y_test, y_preds_2.squeeze()).numpy()\n",
    "mae_2, mse_2"
   ]
  },
  {
   "cell_type": "code",
   "execution_count": 69,
   "metadata": {},
   "outputs": [],
   "source": [
    "# model_3 : model_2과 같게 하고 epoch를 늘려본다"
   ]
  },
  {
   "cell_type": "code",
   "execution_count": 70,
   "metadata": {},
   "outputs": [
    {
     "data": {
      "text/plain": [
       "<keras.callbacks.History at 0x1c2ffaee400>"
      ]
     },
     "execution_count": 70,
     "metadata": {},
     "output_type": "execute_result"
    }
   ],
   "source": [
    "tf.random.set_seed(42)\n",
    "\n",
    "model_3 = tf.keras.Sequential([\n",
    "    tf.keras.layers.Dense(1),\n",
    "    tf.keras.layers.Dense(1)\n",
    "])\n",
    "\n",
    "model_3.compile(\n",
    "    loss = tf.keras.losses.mae, # mean absolute error\n",
    "    optimizer = tf.keras.optimizers.SGD(), # stochastic gradient descent\n",
    "    metrics = [\"mae\"]\n",
    ")\n",
    "\n",
    "model_3.fit(X_train, y_train, epochs = 500, verbose = 0)"
   ]
  },
  {
   "cell_type": "code",
   "execution_count": 71,
   "metadata": {},
   "outputs": [
    {
     "name": "stdout",
     "output_type": "stream",
     "text": [
      "WARNING:tensorflow:6 out of the last 7 calls to <function Model.make_predict_function.<locals>.predict_function at 0x000001C2FFB9C280> triggered tf.function retracing. Tracing is expensive and the excessive number of tracings could be due to (1) creating @tf.function repeatedly in a loop, (2) passing tensors with different shapes, (3) passing Python objects instead of tensors. For (1), please define your @tf.function outside of the loop. For (2), @tf.function has experimental_relax_shapes=True option that relaxes argument shapes that can avoid unnecessary retracing. For (3), please refer to https://www.tensorflow.org/guide/function#controlling_retracing and https://www.tensorflow.org/api_docs/python/tf/function for  more details.\n"
     ]
    },
    {
     "data": {
      "image/png": "[encoded data removed]",
      "text/plain": [
       "<Figure size 720x504 with 1 Axes>"
      ]
     },
     "metadata": {
      "needs_background": "light"
     },
     "output_type": "display_data"
    }
   ],
   "source": [
    "y_preds_3 = model_3.predict(X_test)\n",
    "plot_predictions(predictions=y_preds_3)"
   ]
  },
  {
   "cell_type": "code",
   "execution_count": 72,
   "metadata": {},
   "outputs": [
    {
     "data": {
      "text/plain": [
       "(68.68784, 4804.469)"
      ]
     },
     "execution_count": 72,
     "metadata": {},
     "output_type": "execute_result"
    }
   ],
   "source": [
    "mae_3 = mae(y_test, y_preds_3.squeeze()).numpy()\n",
    "mse_3 = mse(y_test, y_preds_3.squeeze()).numpy()\n",
    "mae_3, mse_3"
   ]
  },
  {
   "cell_type": "code",
   "execution_count": 73,
   "metadata": {},
   "outputs": [
    {
     "data": {
      "text/plain": [
       "([['model_1', 26.24289, 709.16064],\n",
       "  ['model_2', 1.9097328, 5.45877],\n",
       "  ['model_3', 68.68784, 4804.469]],\n",
       " list)"
      ]
     },
     "execution_count": 73,
     "metadata": {},
     "output_type": "execute_result"
    }
   ],
   "source": [
    "model_results = [\n",
    "    [\"model_1\", mae_1, mse_1],\n",
    "    [\"model_2\", mae_2, mse_2],\n",
    "    [\"model_3\", mae_3, mse_3]\n",
    "]\n",
    "model_results, type(model_results)"
   ]
  },
  {
   "cell_type": "code",
   "execution_count": 74,
   "metadata": {},
   "outputs": [
    {
     "data": {
      "text/html": [
       "<div>\n",
       "<style scoped>\n",
       "    .dataframe tbody tr th:only-of-type {\n",
       "        vertical-align: middle;\n",
       "    }\n",
       "\n",
       "    .dataframe tbody tr th {\n",
       "        vertical-align: top;\n",
       "    }\n",
       "\n",
       "    .dataframe thead th {\n",
       "        text-align: right;\n",
       "    }\n",
       "</style>\n",
       "<table border=\"1\" class=\"dataframe\">\n",
       "  <thead>\n",
       "    <tr style=\"text-align: right;\">\n",
       "      <th></th>\n",
       "      <th>model</th>\n",
       "      <th>mae</th>\n",
       "      <th>mse</th>\n",
       "    </tr>\n",
       "  </thead>\n",
       "  <tbody>\n",
       "    <tr>\n",
       "      <th>0</th>\n",
       "      <td>model_1</td>\n",
       "      <td>26.242889</td>\n",
       "      <td>709.160645</td>\n",
       "    </tr>\n",
       "    <tr>\n",
       "      <th>1</th>\n",
       "      <td>model_2</td>\n",
       "      <td>1.909733</td>\n",
       "      <td>5.458770</td>\n",
       "    </tr>\n",
       "    <tr>\n",
       "      <th>2</th>\n",
       "      <td>model_3</td>\n",
       "      <td>68.687843</td>\n",
       "      <td>4804.469238</td>\n",
       "    </tr>\n",
       "  </tbody>\n",
       "</table>\n",
       "</div>"
      ],
      "text/plain": [
       "     model        mae          mse\n",
       "0  model_1  26.242889   709.160645\n",
       "1  model_2   1.909733     5.458770\n",
       "2  model_3  68.687843  4804.469238"
      ]
     },
     "execution_count": 74,
     "metadata": {},
     "output_type": "execute_result"
    }
   ],
   "source": [
    "all_results = pd.DataFrame(model_results, columns = [\"model\", \"mae\", \"mse\"])\n",
    "all_results"
   ]
  },
  {
   "cell_type": "code",
   "execution_count": 75,
   "metadata": {},
   "outputs": [],
   "source": [
    "# DevOps : 개발 소스코드 -> 컴파일 -> 배포"
   ]
  },
  {
   "cell_type": "code",
   "execution_count": 76,
   "metadata": {},
   "outputs": [],
   "source": [
    "# 모델을 저장을 해야한다! => 아무리 성능이 좋지 않은 모델이라도 저장을 하고 나중에 분석\n",
    "# model.save()\n",
    "# Tensorflow에서는 모델을 저장하는 2가지 방법이 존재\n",
    "# 1. SavedModel Format (기본)\n",
    "# 2. HDF5 format\n",
    "# 위 2가지 방법의 주요 차이점 : SavedModel은 알아서 (automatically) 모델을 불러올 때 필요한 오브젝트 (레이러 등)를 불러옵니다."
   ]
  },
  {
   "cell_type": "code",
   "execution_count": 77,
   "metadata": {},
   "outputs": [
    {
     "name": "stdout",
     "output_type": "stream",
     "text": [
      "INFO:tensorflow:Assets written to: best_model_SavedModel_format\\assets\n"
     ]
    }
   ],
   "source": [
    "model_2.save(\"best_model_SavedModel_format\")"
   ]
  },
  {
   "cell_type": "code",
   "execution_count": 78,
   "metadata": {},
   "outputs": [],
   "source": [
    "model_2.save(\"best_model_SavedModel_format.h5\")"
   ]
  },
  {
   "cell_type": "code",
   "execution_count": 79,
   "metadata": {},
   "outputs": [],
   "source": [
    "# kernel을 재시작한 후..."
   ]
  },
  {
   "cell_type": "code",
   "execution_count": 80,
   "metadata": {},
   "outputs": [],
   "source": [
    "import numpy as np\n",
    "import pandas as pd\n",
    "import matplotlib.pyplot as plt\n",
    "import tensorflow as tf"
   ]
  },
  {
   "cell_type": "code",
   "execution_count": 81,
   "metadata": {},
   "outputs": [
    {
     "data": {
      "text/html": [
       "<div>\n",
       "<style scoped>\n",
       "    .dataframe tbody tr th:only-of-type {\n",
       "        vertical-align: middle;\n",
       "    }\n",
       "\n",
       "    .dataframe tbody tr th {\n",
       "        vertical-align: top;\n",
       "    }\n",
       "\n",
       "    .dataframe thead th {\n",
       "        text-align: right;\n",
       "    }\n",
       "</style>\n",
       "<table border=\"1\" class=\"dataframe\">\n",
       "  <thead>\n",
       "    <tr style=\"text-align: right;\">\n",
       "      <th></th>\n",
       "      <th>model</th>\n",
       "      <th>mae</th>\n",
       "      <th>mse</th>\n",
       "    </tr>\n",
       "  </thead>\n",
       "  <tbody>\n",
       "    <tr>\n",
       "      <th>0</th>\n",
       "      <td>model_1</td>\n",
       "      <td>26.242889</td>\n",
       "      <td>709.160645</td>\n",
       "    </tr>\n",
       "    <tr>\n",
       "      <th>1</th>\n",
       "      <td>model_2</td>\n",
       "      <td>1.909733</td>\n",
       "      <td>5.458770</td>\n",
       "    </tr>\n",
       "    <tr>\n",
       "      <th>2</th>\n",
       "      <td>model_3</td>\n",
       "      <td>68.687843</td>\n",
       "      <td>4804.469238</td>\n",
       "    </tr>\n",
       "  </tbody>\n",
       "</table>\n",
       "</div>"
      ],
      "text/plain": [
       "     model        mae          mse\n",
       "0  model_1  26.242889   709.160645\n",
       "1  model_2   1.909733     5.458770\n",
       "2  model_3  68.687843  4804.469238"
      ]
     },
     "execution_count": 81,
     "metadata": {},
     "output_type": "execute_result"
    }
   ],
   "source": [
    "all_results = pd.DataFrame(model_results, columns = [\"model\", \"mae\", \"mse\"])\n",
    "all_results\n"
   ]
  },
  {
   "cell_type": "code",
   "execution_count": 82,
   "metadata": {},
   "outputs": [
    {
     "name": "stdout",
     "output_type": "stream",
     "text": [
      "Model: \"sequential_5\"\n",
      "_________________________________________________________________\n",
      "Layer (type)                 Output Shape              Param #   \n",
      "=================================================================\n",
      "dense_5 (Dense)              (None, 1)                 2         \n",
      "_________________________________________________________________\n",
      "dense_6 (Dense)              (None, 1)                 2         \n",
      "=================================================================\n",
      "Total params: 4\n",
      "Trainable params: 4\n",
      "Non-trainable params: 0\n",
      "_________________________________________________________________\n"
     ]
    }
   ],
   "source": [
    "loaded_saved_model = tf.keras.models.load_model(\"best_model_SavedModel_format\")\n",
    "loaded_saved_model.summary()"
   ]
  },
  {
   "cell_type": "code",
   "execution_count": 83,
   "metadata": {},
   "outputs": [
    {
     "data": {
      "text/plain": [
       "array([-100,  -96,  -92,  -88,  -84,  -80,  -76,  -72,  -68,  -64,  -60,\n",
       "        -56,  -52,  -48,  -44,  -40,  -36,  -32,  -28,  -24,  -20,  -16,\n",
       "        -12,   -8,   -4,    0,    4,    8,   12,   16,   20,   24,   28,\n",
       "         32,   36,   40,   44,   48,   52,   56,   60,   64,   68,   72,\n",
       "         76,   80,   84,   88,   92,   96])"
      ]
     },
     "execution_count": 83,
     "metadata": {},
     "output_type": "execute_result"
    }
   ],
   "source": [
    "X = np.arange(-100, 100, 4)\n",
    "X"
   ]
  },
  {
   "cell_type": "code",
   "execution_count": 84,
   "metadata": {},
   "outputs": [
    {
     "data": {
      "text/plain": [
       "array([-90, -86, -82, -78, -74, -70, -66, -62, -58, -54, -50, -46, -42,\n",
       "       -38, -34, -30, -26, -22, -18, -14, -10,  -6,  -2,   2,   6,  10,\n",
       "        14,  18,  22,  26,  30,  34,  38,  42,  46,  50,  54,  58,  62,\n",
       "        66,  70,  74,  78,  82,  86,  90,  94,  98, 102, 106])"
      ]
     },
     "execution_count": 84,
     "metadata": {},
     "output_type": "execute_result"
    }
   ],
   "source": [
    "y = np.arange(-90, 110, 4)\n",
    "y"
   ]
  },
  {
   "cell_type": "code",
   "execution_count": 85,
   "metadata": {},
   "outputs": [
    {
     "data": {
      "text/plain": [
       "(40, 10)"
      ]
     },
     "execution_count": 85,
     "metadata": {},
     "output_type": "execute_result"
    }
   ],
   "source": [
    "X_train = X[:40]\n",
    "y_train = y[:40]\n",
    "\n",
    "X_test = X[40:]\n",
    "y_test = y[40:]\n",
    "\n",
    "len(X_train), len(X_test)"
   ]
  },
  {
   "cell_type": "code",
   "execution_count": 86,
   "metadata": {},
   "outputs": [
    {
     "name": "stdout",
     "output_type": "stream",
     "text": [
      "Epoch 1/100\n",
      "2/2 [==============================] - 0s 2ms/step - loss: 22.6625 - mae: 22.6625\n",
      "Epoch 2/100\n",
      "2/2 [==============================] - 0s 1ms/step - loss: 16.9439 - mae: 16.9439\n",
      "Epoch 3/100\n",
      "2/2 [==============================] - 0s 2ms/step - loss: 13.8059 - mae: 13.8059\n",
      "Epoch 4/100\n",
      "2/2 [==============================] - 0s 1000us/step - loss: 17.4504 - mae: 17.4504\n",
      "Epoch 5/100\n",
      "2/2 [==============================] - 0s 1ms/step - loss: 12.0637 - mae: 12.0637\n",
      "Epoch 6/100\n",
      "2/2 [==============================] - 0s 1ms/step - loss: 9.8335 - mae: 9.8335\n",
      "Epoch 7/100\n",
      "2/2 [==============================] - 0s 1ms/step - loss: 10.7023 - mae: 10.7023\n",
      "Epoch 8/100\n",
      "2/2 [==============================] - 0s 999us/step - loss: 10.8713 - mae: 10.8713\n",
      "Epoch 9/100\n",
      "2/2 [==============================] - 0s 1000us/step - loss: 38.0435 - mae: 38.0435\n",
      "Epoch 10/100\n",
      "2/2 [==============================] - 0s 1ms/step - loss: 25.6226 - mae: 25.6226\n",
      "Epoch 11/100\n",
      "2/2 [==============================] - 0s 1ms/step - loss: 10.2375 - mae: 10.2375\n",
      "Epoch 12/100\n",
      "2/2 [==============================] - 0s 2ms/step - loss: 25.1960 - mae: 25.1960\n",
      "Epoch 13/100\n",
      "2/2 [==============================] - 0s 1ms/step - loss: 17.0177 - mae: 17.0177\n",
      "Epoch 14/100\n",
      "2/2 [==============================] - 0s 2ms/step - loss: 25.9747 - mae: 25.9747\n",
      "Epoch 15/100\n",
      "2/2 [==============================] - 0s 999us/step - loss: 18.0366 - mae: 18.0366\n",
      "Epoch 16/100\n",
      "2/2 [==============================] - 0s 1ms/step - loss: 7.3513 - mae: 7.3513\n",
      "Epoch 17/100\n",
      "2/2 [==============================] - 0s 0s/step - loss: 10.8516 - mae: 10.8516\n",
      "Epoch 18/100\n",
      "2/2 [==============================] - 0s 1000us/step - loss: 19.5119 - mae: 19.5119\n",
      "Epoch 19/100\n",
      "2/2 [==============================] - 0s 1000us/step - loss: 10.3378 - mae: 10.3378\n",
      "Epoch 20/100\n",
      "2/2 [==============================] - 0s 2ms/step - loss: 17.6840 - mae: 17.6840\n",
      "Epoch 21/100\n",
      "2/2 [==============================] - 0s 999us/step - loss: 15.8826 - mae: 15.8826\n",
      "Epoch 22/100\n",
      "2/2 [==============================] - 0s 1ms/step - loss: 14.1778 - mae: 14.1778\n",
      "Epoch 23/100\n",
      "2/2 [==============================] - 0s 1ms/step - loss: 8.7814 - mae: 8.7814\n",
      "Epoch 24/100\n",
      "2/2 [==============================] - 0s 2ms/step - loss: 11.0673 - mae: 11.0673\n",
      "Epoch 25/100\n",
      "2/2 [==============================] - 0s 999us/step - loss: 12.6998 - mae: 12.6998\n",
      "Epoch 26/100\n",
      "2/2 [==============================] - 0s 1000us/step - loss: 26.2395 - mae: 26.2395\n",
      "Epoch 27/100\n",
      "2/2 [==============================] - 0s 2ms/step - loss: 11.7524 - mae: 11.7524\n",
      "Epoch 28/100\n",
      "2/2 [==============================] - 0s 999us/step - loss: 22.9252 - mae: 22.9252\n",
      "Epoch 29/100\n",
      "2/2 [==============================] - 0s 1ms/step - loss: 9.2439 - mae: 9.2439\n",
      "Epoch 30/100\n",
      "2/2 [==============================] - 0s 1ms/step - loss: 29.3121 - mae: 29.3121\n",
      "Epoch 31/100\n",
      "2/2 [==============================] - 0s 2ms/step - loss: 53.1141 - mae: 53.1141\n",
      "Epoch 32/100\n",
      "2/2 [==============================] - 0s 2ms/step - loss: 12.3708 - mae: 12.3708\n",
      "Epoch 33/100\n",
      "2/2 [==============================] - 0s 2ms/step - loss: 12.1831 - mae: 12.1831\n",
      "Epoch 34/100\n",
      "2/2 [==============================] - 0s 4ms/step - loss: 23.9483 - mae: 23.9483\n",
      "Epoch 35/100\n",
      "2/2 [==============================] - 0s 2ms/step - loss: 12.6223 - mae: 12.6223\n",
      "Epoch 36/100\n",
      "2/2 [==============================] - 0s 1ms/step - loss: 21.5243 - mae: 21.5243\n",
      "Epoch 37/100\n",
      "2/2 [==============================] - 0s 1000us/step - loss: 11.3913 - mae: 11.3913\n",
      "Epoch 38/100\n",
      "2/2 [==============================] - 0s 999us/step - loss: 13.4744 - mae: 13.4744\n",
      "Epoch 39/100\n",
      "2/2 [==============================] - 0s 1ms/step - loss: 10.7992 - mae: 10.7992\n",
      "Epoch 40/100\n",
      "2/2 [==============================] - 0s 1ms/step - loss: 16.6026 - mae: 16.6026\n",
      "Epoch 41/100\n",
      "2/2 [==============================] - 0s 1ms/step - loss: 10.9797 - mae: 10.9797\n",
      "Epoch 42/100\n",
      "2/2 [==============================] - 0s 1ms/step - loss: 9.3049 - mae: 9.3049\n",
      "Epoch 43/100\n",
      "2/2 [==============================] - 0s 999us/step - loss: 9.5985 - mae: 9.5985\n",
      "Epoch 44/100\n",
      "2/2 [==============================] - 0s 1ms/step - loss: 27.9750 - mae: 27.9750\n",
      "Epoch 45/100\n",
      "2/2 [==============================] - 0s 1000us/step - loss: 11.2865 - mae: 11.2865\n",
      "Epoch 46/100\n",
      "2/2 [==============================] - 0s 1000us/step - loss: 14.0574 - mae: 14.0574\n",
      "Epoch 47/100\n",
      "2/2 [==============================] - 0s 1ms/step - loss: 13.5113 - mae: 13.5113\n",
      "Epoch 48/100\n",
      "2/2 [==============================] - 0s 1ms/step - loss: 17.3531 - mae: 17.3531\n",
      "Epoch 49/100\n",
      "2/2 [==============================] - 0s 1000us/step - loss: 9.5141 - mae: 9.5141\n",
      "Epoch 50/100\n",
      "2/2 [==============================] - 0s 1ms/step - loss: 13.6965 - mae: 13.6965\n",
      "Epoch 51/100\n",
      "2/2 [==============================] - 0s 999us/step - loss: 11.5602 - mae: 11.5602\n",
      "Epoch 52/100\n",
      "2/2 [==============================] - 0s 1ms/step - loss: 30.1688 - mae: 30.1688\n",
      "Epoch 53/100\n",
      "2/2 [==============================] - 0s 1000us/step - loss: 13.7142 - mae: 13.7142\n",
      "Epoch 54/100\n",
      "2/2 [==============================] - 0s 1000us/step - loss: 26.3987 - mae: 26.3987\n",
      "Epoch 55/100\n",
      "2/2 [==============================] - 0s 1ms/step - loss: 25.9838 - mae: 25.9838\n",
      "Epoch 56/100\n",
      "2/2 [==============================] - 0s 1ms/step - loss: 11.2307 - mae: 11.2307\n",
      "Epoch 57/100\n",
      "2/2 [==============================] - 0s 1000us/step - loss: 13.2025 - mae: 13.2025\n",
      "Epoch 58/100\n",
      "2/2 [==============================] - 0s 1000us/step - loss: 9.8624 - mae: 9.8624\n",
      "Epoch 59/100\n",
      "2/2 [==============================] - 0s 1000us/step - loss: 13.3870 - mae: 13.3870\n",
      "Epoch 60/100\n",
      "2/2 [==============================] - 0s 2ms/step - loss: 10.9240 - mae: 10.9240\n",
      "Epoch 61/100\n",
      "2/2 [==============================] - 0s 2ms/step - loss: 13.5375 - mae: 13.5375\n",
      "Epoch 62/100\n",
      "2/2 [==============================] - 0s 2ms/step - loss: 17.6004 - mae: 17.6004\n",
      "Epoch 63/100\n",
      "2/2 [==============================] - 0s 1ms/step - loss: 9.1937 - mae: 9.1937\n",
      "Epoch 64/100\n",
      "2/2 [==============================] - 0s 1ms/step - loss: 18.4644 - mae: 18.4644\n",
      "Epoch 65/100\n",
      "2/2 [==============================] - 0s 1ms/step - loss: 10.1481 - mae: 10.1481\n",
      "Epoch 66/100\n",
      "2/2 [==============================] - 0s 1ms/step - loss: 24.3358 - mae: 24.3358\n",
      "Epoch 67/100\n",
      "2/2 [==============================] - 0s 1ms/step - loss: 10.9262 - mae: 10.9262\n",
      "Epoch 68/100\n",
      "2/2 [==============================] - 0s 1000us/step - loss: 10.8005 - mae: 10.8005\n",
      "Epoch 69/100\n",
      "2/2 [==============================] - 0s 998us/step - loss: 23.3092 - mae: 23.3092\n",
      "Epoch 70/100\n",
      "2/2 [==============================] - 0s 1ms/step - loss: 8.8134 - mae: 8.8134\n",
      "Epoch 71/100\n",
      "2/2 [==============================] - 0s 1ms/step - loss: 15.9715 - mae: 15.9715\n",
      "Epoch 72/100\n",
      "2/2 [==============================] - 0s 1000us/step - loss: 8.1469 - mae: 8.1469\n",
      "Epoch 73/100\n",
      "2/2 [==============================] - 0s 1ms/step - loss: 9.4683 - mae: 9.4683\n",
      "Epoch 74/100\n",
      "2/2 [==============================] - 0s 1ms/step - loss: 28.1492 - mae: 28.1492\n",
      "Epoch 75/100\n",
      "2/2 [==============================] - 0s 1000us/step - loss: 10.2183 - mae: 10.2183\n",
      "Epoch 76/100\n",
      "2/2 [==============================] - 0s 1ms/step - loss: 13.1686 - mae: 13.1686\n",
      "Epoch 77/100\n",
      "2/2 [==============================] - 0s 999us/step - loss: 18.4013 - mae: 18.4013\n",
      "Epoch 78/100\n",
      "2/2 [==============================] - 0s 1ms/step - loss: 9.0304 - mae: 9.0304\n",
      "Epoch 79/100\n",
      "2/2 [==============================] - 0s 1ms/step - loss: 23.4406 - mae: 23.4406\n",
      "Epoch 80/100\n",
      "2/2 [==============================] - 0s 1ms/step - loss: 26.1121 - mae: 26.1121\n",
      "Epoch 81/100\n",
      "2/2 [==============================] - 0s 1000us/step - loss: 11.4009 - mae: 11.4009\n",
      "Epoch 82/100\n",
      "2/2 [==============================] - 0s 1ms/step - loss: 12.5022 - mae: 12.5022\n",
      "Epoch 83/100\n",
      "2/2 [==============================] - 0s 999us/step - loss: 17.1949 - mae: 17.1949\n",
      "Epoch 84/100\n",
      "2/2 [==============================] - 0s 1000us/step - loss: 6.6097 - mae: 6.6097\n",
      "Epoch 85/100\n",
      "2/2 [==============================] - 0s 1ms/step - loss: 20.2734 - mae: 20.2734\n",
      "Epoch 86/100\n",
      "2/2 [==============================] - 0s 2ms/step - loss: 10.1761 - mae: 10.1761\n",
      "Epoch 87/100\n",
      "2/2 [==============================] - 0s 1ms/step - loss: 24.3047 - mae: 24.3047\n",
      "Epoch 88/100\n",
      "2/2 [==============================] - 0s 1ms/step - loss: 18.9693 - mae: 18.9693\n",
      "Epoch 89/100\n",
      "2/2 [==============================] - 0s 2ms/step - loss: 7.1749 - mae: 7.1749\n",
      "Epoch 90/100\n",
      "2/2 [==============================] - 0s 999us/step - loss: 18.2784 - mae: 18.2784\n",
      "Epoch 91/100\n",
      "2/2 [==============================] - 0s 1ms/step - loss: 13.3343 - mae: 13.3343\n",
      "Epoch 92/100\n",
      "2/2 [==============================] - 0s 999us/step - loss: 8.7404 - mae: 8.7404\n",
      "Epoch 93/100\n",
      "2/2 [==============================] - 0s 1ms/step - loss: 14.1947 - mae: 14.1947\n",
      "Epoch 94/100\n",
      "2/2 [==============================] - 0s 1ms/step - loss: 17.1955 - mae: 17.1955\n",
      "Epoch 95/100\n",
      "2/2 [==============================] - 0s 1000us/step - loss: 16.7777 - mae: 16.7777\n",
      "Epoch 96/100\n",
      "2/2 [==============================] - 0s 1000us/step - loss: 11.1365 - mae: 11.1365\n",
      "Epoch 97/100\n",
      "2/2 [==============================] - 0s 999us/step - loss: 21.1983 - mae: 21.1983\n",
      "Epoch 98/100\n",
      "2/2 [==============================] - 0s 2ms/step - loss: 10.4874 - mae: 10.4874\n",
      "Epoch 99/100\n",
      "2/2 [==============================] - 0s 1ms/step - loss: 14.5632 - mae: 14.5632\n",
      "Epoch 100/100\n",
      "2/2 [==============================] - 0s 1ms/step - loss: 17.7188 - mae: 17.7188\n"
     ]
    },
    {
     "data": {
      "text/plain": [
       "<keras.callbacks.History at 0x1c283100490>"
      ]
     },
     "execution_count": 86,
     "metadata": {},
     "output_type": "execute_result"
    }
   ],
   "source": [
    "tf.random.set_seed(42)\n",
    "\n",
    "model_2 = tf.keras.Sequential([\n",
    "    tf.keras.layers.Dense(1),\n",
    "    tf.keras.layers.Dense(1)\n",
    "])\n",
    "\n",
    "model_2.compile(\n",
    "    loss = tf.keras.losses.mae, # mean absolute error\n",
    "    optimizer = tf.keras.optimizers.SGD(), # stochastic gradient descent\n",
    "    metrics = [\"mae\"]\n",
    ")\n",
    "\n",
    "model_2.fit(X_train, y_train, epochs = 100)"
   ]
  },
  {
   "cell_type": "code",
   "execution_count": 87,
   "metadata": {},
   "outputs": [],
   "source": [
    "model_2_preds = model_2.predict(X_test)\n",
    "saved_model_preds = loaded_saved_model.predict(X_test)"
   ]
  },
  {
   "cell_type": "code",
   "execution_count": 88,
   "metadata": {},
   "outputs": [],
   "source": [
    "def mae(y_test, y_preds):\n",
    "    return tf.metrics.mean_absolute_error(y_test, y_preds)\n",
    "\n",
    "def mse(y_test, y_preds):\n",
    "    return tf.metrics.mean_squared_error(y_test, y_preds)"
   ]
  },
  {
   "cell_type": "code",
   "execution_count": 89,
   "metadata": {},
   "outputs": [
    {
     "data": {
      "text/plain": [
       "1.9097328"
      ]
     },
     "execution_count": 89,
     "metadata": {},
     "output_type": "execute_result"
    }
   ],
   "source": [
    "mae(y_test, saved_model_preds.squeeze()).numpy()"
   ]
  },
  {
   "cell_type": "code",
   "execution_count": 90,
   "metadata": {},
   "outputs": [
    {
     "data": {
      "text/plain": [
       "1.9097328"
      ]
     },
     "execution_count": 90,
     "metadata": {},
     "output_type": "execute_result"
    }
   ],
   "source": [
    "mae(y_test, model_2_preds.squeeze()).numpy()"
   ]
  },
  {
   "cell_type": "code",
   "execution_count": 91,
   "metadata": {},
   "outputs": [
    {
     "data": {
      "text/plain": [
       "True"
      ]
     },
     "execution_count": 91,
     "metadata": {},
     "output_type": "execute_result"
    }
   ],
   "source": [
    "mae(y_test, saved_model_preds.squeeze()).numpy() == mae(y_test, model_2_preds.squeeze()).numpy()"
   ]
  },
  {
   "cell_type": "code",
   "execution_count": 94,
   "metadata": {},
   "outputs": [
    {
     "name": "stdout",
     "output_type": "stream",
     "text": [
      "Model: \"sequential_5\"\n",
      "_________________________________________________________________\n",
      "Layer (type)                 Output Shape              Param #   \n",
      "=================================================================\n",
      "dense_5 (Dense)              (None, 1)                 2         \n",
      "_________________________________________________________________\n",
      "dense_6 (Dense)              (None, 1)                 2         \n",
      "=================================================================\n",
      "Total params: 4\n",
      "Trainable params: 4\n",
      "Non-trainable params: 0\n",
      "_________________________________________________________________\n"
     ]
    }
   ],
   "source": [
    "loaded_h5_model = tf.keras.models.load_model(\"best_model_SavedModel_format.h5\")\n",
    "loaded_h5_model.summary()"
   ]
  },
  {
   "cell_type": "code",
   "execution_count": 95,
   "metadata": {},
   "outputs": [],
   "source": [
    "h5_model_preds = loaded_h5_model.predict(X_test)"
   ]
  },
  {
   "cell_type": "code",
   "execution_count": 96,
   "metadata": {},
   "outputs": [
    {
     "data": {
      "text/plain": [
       "1.9097328"
      ]
     },
     "execution_count": 96,
     "metadata": {},
     "output_type": "execute_result"
    }
   ],
   "source": [
    "mae(y_test, h5_model_preds.squeeze()).numpy()"
   ]
  },
  {
   "cell_type": "code",
   "execution_count": 97,
   "metadata": {},
   "outputs": [
    {
     "data": {
      "text/plain": [
       "True"
      ]
     },
     "execution_count": 97,
     "metadata": {},
     "output_type": "execute_result"
    }
   ],
   "source": [
    "mae(y_test, h5_model_preds.squeeze()).numpy() == mae(y_test, model_2_preds.squeeze()).numpy()"
   ]
  },
  {
   "cell_type": "code",
   "execution_count": 98,
   "metadata": {},
   "outputs": [],
   "source": [
    "import numpy as np\n",
    "import pandas as pd\n",
    "import matplotlib.pyplot as plt\n",
    "import tensorflow as tf"
   ]
  },
  {
   "cell_type": "code",
   "execution_count": 100,
   "metadata": {},
   "outputs": [
    {
     "data": {
      "text/plain": [
       "(pandas.core.frame.DataFrame, (1338, 7))"
      ]
     },
     "execution_count": 100,
     "metadata": {},
     "output_type": "execute_result"
    }
   ],
   "source": [
    "insurance = pd.read_csv(\"insurance.csv\")\n",
    "type(insurance), insurance.shape"
   ]
  },
  {
   "cell_type": "code",
   "execution_count": 101,
   "metadata": {},
   "outputs": [
    {
     "data": {
      "text/html": [
       "<div>\n",
       "<style scoped>\n",
       "    .dataframe tbody tr th:only-of-type {\n",
       "        vertical-align: middle;\n",
       "    }\n",
       "\n",
       "    .dataframe tbody tr th {\n",
       "        vertical-align: top;\n",
       "    }\n",
       "\n",
       "    .dataframe thead th {\n",
       "        text-align: right;\n",
       "    }\n",
       "</style>\n",
       "<table border=\"1\" class=\"dataframe\">\n",
       "  <thead>\n",
       "    <tr style=\"text-align: right;\">\n",
       "      <th></th>\n",
       "      <th>age</th>\n",
       "      <th>sex</th>\n",
       "      <th>bmi</th>\n",
       "      <th>children</th>\n",
       "      <th>smoker</th>\n",
       "      <th>region</th>\n",
       "      <th>charges</th>\n",
       "    </tr>\n",
       "  </thead>\n",
       "  <tbody>\n",
       "    <tr>\n",
       "      <th>0</th>\n",
       "      <td>19</td>\n",
       "      <td>female</td>\n",
       "      <td>27.900</td>\n",
       "      <td>0</td>\n",
       "      <td>yes</td>\n",
       "      <td>southwest</td>\n",
       "      <td>16884.92400</td>\n",
       "    </tr>\n",
       "    <tr>\n",
       "      <th>1</th>\n",
       "      <td>18</td>\n",
       "      <td>male</td>\n",
       "      <td>33.770</td>\n",
       "      <td>1</td>\n",
       "      <td>no</td>\n",
       "      <td>southeast</td>\n",
       "      <td>1725.55230</td>\n",
       "    </tr>\n",
       "    <tr>\n",
       "      <th>2</th>\n",
       "      <td>28</td>\n",
       "      <td>male</td>\n",
       "      <td>33.000</td>\n",
       "      <td>3</td>\n",
       "      <td>no</td>\n",
       "      <td>southeast</td>\n",
       "      <td>4449.46200</td>\n",
       "    </tr>\n",
       "    <tr>\n",
       "      <th>3</th>\n",
       "      <td>33</td>\n",
       "      <td>male</td>\n",
       "      <td>22.705</td>\n",
       "      <td>0</td>\n",
       "      <td>no</td>\n",
       "      <td>northwest</td>\n",
       "      <td>21984.47061</td>\n",
       "    </tr>\n",
       "    <tr>\n",
       "      <th>4</th>\n",
       "      <td>32</td>\n",
       "      <td>male</td>\n",
       "      <td>28.880</td>\n",
       "      <td>0</td>\n",
       "      <td>no</td>\n",
       "      <td>northwest</td>\n",
       "      <td>3866.85520</td>\n",
       "    </tr>\n",
       "  </tbody>\n",
       "</table>\n",
       "</div>"
      ],
      "text/plain": [
       "   age     sex     bmi  children smoker     region      charges\n",
       "0   19  female  27.900         0    yes  southwest  16884.92400\n",
       "1   18    male  33.770         1     no  southeast   1725.55230\n",
       "2   28    male  33.000         3     no  southeast   4449.46200\n",
       "3   33    male  22.705         0     no  northwest  21984.47061\n",
       "4   32    male  28.880         0     no  northwest   3866.85520"
      ]
     },
     "execution_count": 101,
     "metadata": {},
     "output_type": "execute_result"
    }
   ],
   "source": [
    "insurance.head()"
   ]
  },
  {
   "cell_type": "code",
   "execution_count": 102,
   "metadata": {},
   "outputs": [
    {
     "data": {
      "text/html": [
       "<div>\n",
       "<style scoped>\n",
       "    .dataframe tbody tr th:only-of-type {\n",
       "        vertical-align: middle;\n",
       "    }\n",
       "\n",
       "    .dataframe tbody tr th {\n",
       "        vertical-align: top;\n",
       "    }\n",
       "\n",
       "    .dataframe thead th {\n",
       "        text-align: right;\n",
       "    }\n",
       "</style>\n",
       "<table border=\"1\" class=\"dataframe\">\n",
       "  <thead>\n",
       "    <tr style=\"text-align: right;\">\n",
       "      <th></th>\n",
       "      <th>age</th>\n",
       "      <th>sex</th>\n",
       "      <th>bmi</th>\n",
       "      <th>children</th>\n",
       "      <th>smoker</th>\n",
       "      <th>region</th>\n",
       "      <th>charges</th>\n",
       "    </tr>\n",
       "  </thead>\n",
       "  <tbody>\n",
       "    <tr>\n",
       "      <th>1333</th>\n",
       "      <td>50</td>\n",
       "      <td>male</td>\n",
       "      <td>30.97</td>\n",
       "      <td>3</td>\n",
       "      <td>no</td>\n",
       "      <td>northwest</td>\n",
       "      <td>10600.5483</td>\n",
       "    </tr>\n",
       "    <tr>\n",
       "      <th>1334</th>\n",
       "      <td>18</td>\n",
       "      <td>female</td>\n",
       "      <td>31.92</td>\n",
       "      <td>0</td>\n",
       "      <td>no</td>\n",
       "      <td>northeast</td>\n",
       "      <td>2205.9808</td>\n",
       "    </tr>\n",
       "    <tr>\n",
       "      <th>1335</th>\n",
       "      <td>18</td>\n",
       "      <td>female</td>\n",
       "      <td>36.85</td>\n",
       "      <td>0</td>\n",
       "      <td>no</td>\n",
       "      <td>southeast</td>\n",
       "      <td>1629.8335</td>\n",
       "    </tr>\n",
       "    <tr>\n",
       "      <th>1336</th>\n",
       "      <td>21</td>\n",
       "      <td>female</td>\n",
       "      <td>25.80</td>\n",
       "      <td>0</td>\n",
       "      <td>no</td>\n",
       "      <td>southwest</td>\n",
       "      <td>2007.9450</td>\n",
       "    </tr>\n",
       "    <tr>\n",
       "      <th>1337</th>\n",
       "      <td>61</td>\n",
       "      <td>female</td>\n",
       "      <td>29.07</td>\n",
       "      <td>0</td>\n",
       "      <td>yes</td>\n",
       "      <td>northwest</td>\n",
       "      <td>29141.3603</td>\n",
       "    </tr>\n",
       "  </tbody>\n",
       "</table>\n",
       "</div>"
      ],
      "text/plain": [
       "      age     sex    bmi  children smoker     region     charges\n",
       "1333   50    male  30.97         3     no  northwest  10600.5483\n",
       "1334   18  female  31.92         0     no  northeast   2205.9808\n",
       "1335   18  female  36.85         0     no  southeast   1629.8335\n",
       "1336   21  female  25.80         0     no  southwest   2007.9450\n",
       "1337   61  female  29.07         0    yes  northwest  29141.3603"
      ]
     },
     "execution_count": 102,
     "metadata": {},
     "output_type": "execute_result"
    }
   ],
   "source": [
    "insurance.tail()"
   ]
  },
  {
   "cell_type": "code",
   "execution_count": 103,
   "metadata": {},
   "outputs": [],
   "source": [
    "# sex, smoker, region이라는 컬럼 데이터의 특징! Categorical 데이터다!\n",
    "# Categorical data => Numerical data 변경이 필요하다!"
   ]
  },
  {
   "cell_type": "code",
   "execution_count": 104,
   "metadata": {},
   "outputs": [],
   "source": [
    "insurance_one_hot = pd.get_dummies(insurance)"
   ]
  },
  {
   "cell_type": "code",
   "execution_count": 105,
   "metadata": {},
   "outputs": [
    {
     "data": {
      "text/html": [
       "<div>\n",
       "<style scoped>\n",
       "    .dataframe tbody tr th:only-of-type {\n",
       "        vertical-align: middle;\n",
       "    }\n",
       "\n",
       "    .dataframe tbody tr th {\n",
       "        vertical-align: top;\n",
       "    }\n",
       "\n",
       "    .dataframe thead th {\n",
       "        text-align: right;\n",
       "    }\n",
       "</style>\n",
       "<table border=\"1\" class=\"dataframe\">\n",
       "  <thead>\n",
       "    <tr style=\"text-align: right;\">\n",
       "      <th></th>\n",
       "      <th>age</th>\n",
       "      <th>bmi</th>\n",
       "      <th>children</th>\n",
       "      <th>charges</th>\n",
       "      <th>sex_female</th>\n",
       "      <th>sex_male</th>\n",
       "      <th>smoker_no</th>\n",
       "      <th>smoker_yes</th>\n",
       "      <th>region_northeast</th>\n",
       "      <th>region_northwest</th>\n",
       "      <th>region_southeast</th>\n",
       "      <th>region_southwest</th>\n",
       "    </tr>\n",
       "  </thead>\n",
       "  <tbody>\n",
       "    <tr>\n",
       "      <th>0</th>\n",
       "      <td>19</td>\n",
       "      <td>27.900</td>\n",
       "      <td>0</td>\n",
       "      <td>16884.92400</td>\n",
       "      <td>1</td>\n",
       "      <td>0</td>\n",
       "      <td>0</td>\n",
       "      <td>1</td>\n",
       "      <td>0</td>\n",
       "      <td>0</td>\n",
       "      <td>0</td>\n",
       "      <td>1</td>\n",
       "    </tr>\n",
       "    <tr>\n",
       "      <th>1</th>\n",
       "      <td>18</td>\n",
       "      <td>33.770</td>\n",
       "      <td>1</td>\n",
       "      <td>1725.55230</td>\n",
       "      <td>0</td>\n",
       "      <td>1</td>\n",
       "      <td>1</td>\n",
       "      <td>0</td>\n",
       "      <td>0</td>\n",
       "      <td>0</td>\n",
       "      <td>1</td>\n",
       "      <td>0</td>\n",
       "    </tr>\n",
       "    <tr>\n",
       "      <th>2</th>\n",
       "      <td>28</td>\n",
       "      <td>33.000</td>\n",
       "      <td>3</td>\n",
       "      <td>4449.46200</td>\n",
       "      <td>0</td>\n",
       "      <td>1</td>\n",
       "      <td>1</td>\n",
       "      <td>0</td>\n",
       "      <td>0</td>\n",
       "      <td>0</td>\n",
       "      <td>1</td>\n",
       "      <td>0</td>\n",
       "    </tr>\n",
       "    <tr>\n",
       "      <th>3</th>\n",
       "      <td>33</td>\n",
       "      <td>22.705</td>\n",
       "      <td>0</td>\n",
       "      <td>21984.47061</td>\n",
       "      <td>0</td>\n",
       "      <td>1</td>\n",
       "      <td>1</td>\n",
       "      <td>0</td>\n",
       "      <td>0</td>\n",
       "      <td>1</td>\n",
       "      <td>0</td>\n",
       "      <td>0</td>\n",
       "    </tr>\n",
       "    <tr>\n",
       "      <th>4</th>\n",
       "      <td>32</td>\n",
       "      <td>28.880</td>\n",
       "      <td>0</td>\n",
       "      <td>3866.85520</td>\n",
       "      <td>0</td>\n",
       "      <td>1</td>\n",
       "      <td>1</td>\n",
       "      <td>0</td>\n",
       "      <td>0</td>\n",
       "      <td>1</td>\n",
       "      <td>0</td>\n",
       "      <td>0</td>\n",
       "    </tr>\n",
       "  </tbody>\n",
       "</table>\n",
       "</div>"
      ],
      "text/plain": [
       "   age     bmi  children      charges  sex_female  sex_male  smoker_no  \\\n",
       "0   19  27.900         0  16884.92400           1         0          0   \n",
       "1   18  33.770         1   1725.55230           0         1          1   \n",
       "2   28  33.000         3   4449.46200           0         1          1   \n",
       "3   33  22.705         0  21984.47061           0         1          1   \n",
       "4   32  28.880         0   3866.85520           0         1          1   \n",
       "\n",
       "   smoker_yes  region_northeast  region_northwest  region_southeast  \\\n",
       "0           1                 0                 0                 0   \n",
       "1           0                 0                 0                 1   \n",
       "2           0                 0                 0                 1   \n",
       "3           0                 0                 1                 0   \n",
       "4           0                 0                 1                 0   \n",
       "\n",
       "   region_southwest  \n",
       "0                 1  \n",
       "1                 0  \n",
       "2                 0  \n",
       "3                 0  \n",
       "4                 0  "
      ]
     },
     "execution_count": 105,
     "metadata": {},
     "output_type": "execute_result"
    }
   ],
   "source": [
    "insurance_one_hot.head()"
   ]
  },
  {
   "cell_type": "code",
   "execution_count": 106,
   "metadata": {},
   "outputs": [],
   "source": [
    "X = insurance_one_hot.drop(\"charges\", axis = 1)\n",
    "y = insurance_one_hot[\"charges\"]"
   ]
  },
  {
   "cell_type": "code",
   "execution_count": 107,
   "metadata": {},
   "outputs": [
    {
     "data": {
      "text/html": [
       "<div>\n",
       "<style scoped>\n",
       "    .dataframe tbody tr th:only-of-type {\n",
       "        vertical-align: middle;\n",
       "    }\n",
       "\n",
       "    .dataframe tbody tr th {\n",
       "        vertical-align: top;\n",
       "    }\n",
       "\n",
       "    .dataframe thead th {\n",
       "        text-align: right;\n",
       "    }\n",
       "</style>\n",
       "<table border=\"1\" class=\"dataframe\">\n",
       "  <thead>\n",
       "    <tr style=\"text-align: right;\">\n",
       "      <th></th>\n",
       "      <th>age</th>\n",
       "      <th>bmi</th>\n",
       "      <th>children</th>\n",
       "      <th>sex_female</th>\n",
       "      <th>sex_male</th>\n",
       "      <th>smoker_no</th>\n",
       "      <th>smoker_yes</th>\n",
       "      <th>region_northeast</th>\n",
       "      <th>region_northwest</th>\n",
       "      <th>region_southeast</th>\n",
       "      <th>region_southwest</th>\n",
       "    </tr>\n",
       "  </thead>\n",
       "  <tbody>\n",
       "    <tr>\n",
       "      <th>0</th>\n",
       "      <td>19</td>\n",
       "      <td>27.900</td>\n",
       "      <td>0</td>\n",
       "      <td>1</td>\n",
       "      <td>0</td>\n",
       "      <td>0</td>\n",
       "      <td>1</td>\n",
       "      <td>0</td>\n",
       "      <td>0</td>\n",
       "      <td>0</td>\n",
       "      <td>1</td>\n",
       "    </tr>\n",
       "    <tr>\n",
       "      <th>1</th>\n",
       "      <td>18</td>\n",
       "      <td>33.770</td>\n",
       "      <td>1</td>\n",
       "      <td>0</td>\n",
       "      <td>1</td>\n",
       "      <td>1</td>\n",
       "      <td>0</td>\n",
       "      <td>0</td>\n",
       "      <td>0</td>\n",
       "      <td>1</td>\n",
       "      <td>0</td>\n",
       "    </tr>\n",
       "    <tr>\n",
       "      <th>2</th>\n",
       "      <td>28</td>\n",
       "      <td>33.000</td>\n",
       "      <td>3</td>\n",
       "      <td>0</td>\n",
       "      <td>1</td>\n",
       "      <td>1</td>\n",
       "      <td>0</td>\n",
       "      <td>0</td>\n",
       "      <td>0</td>\n",
       "      <td>1</td>\n",
       "      <td>0</td>\n",
       "    </tr>\n",
       "    <tr>\n",
       "      <th>3</th>\n",
       "      <td>33</td>\n",
       "      <td>22.705</td>\n",
       "      <td>0</td>\n",
       "      <td>0</td>\n",
       "      <td>1</td>\n",
       "      <td>1</td>\n",
       "      <td>0</td>\n",
       "      <td>0</td>\n",
       "      <td>1</td>\n",
       "      <td>0</td>\n",
       "      <td>0</td>\n",
       "    </tr>\n",
       "    <tr>\n",
       "      <th>4</th>\n",
       "      <td>32</td>\n",
       "      <td>28.880</td>\n",
       "      <td>0</td>\n",
       "      <td>0</td>\n",
       "      <td>1</td>\n",
       "      <td>1</td>\n",
       "      <td>0</td>\n",
       "      <td>0</td>\n",
       "      <td>1</td>\n",
       "      <td>0</td>\n",
       "      <td>0</td>\n",
       "    </tr>\n",
       "  </tbody>\n",
       "</table>\n",
       "</div>"
      ],
      "text/plain": [
       "   age     bmi  children  sex_female  sex_male  smoker_no  smoker_yes  \\\n",
       "0   19  27.900         0           1         0          0           1   \n",
       "1   18  33.770         1           0         1          1           0   \n",
       "2   28  33.000         3           0         1          1           0   \n",
       "3   33  22.705         0           0         1          1           0   \n",
       "4   32  28.880         0           0         1          1           0   \n",
       "\n",
       "   region_northeast  region_northwest  region_southeast  region_southwest  \n",
       "0                 0                 0                 0                 1  \n",
       "1                 0                 0                 1                 0  \n",
       "2                 0                 0                 1                 0  \n",
       "3                 0                 1                 0                 0  \n",
       "4                 0                 1                 0                 0  "
      ]
     },
     "execution_count": 107,
     "metadata": {},
     "output_type": "execute_result"
    }
   ],
   "source": [
    "X.head()"
   ]
  },
  {
   "cell_type": "code",
   "execution_count": 108,
   "metadata": {},
   "outputs": [
    {
     "data": {
      "text/plain": [
       "0    16884.92400\n",
       "1     1725.55230\n",
       "2     4449.46200\n",
       "3    21984.47061\n",
       "4     3866.85520\n",
       "Name: charges, dtype: float64"
      ]
     },
     "execution_count": 108,
     "metadata": {},
     "output_type": "execute_result"
    }
   ],
   "source": [
    "y.head()"
   ]
  },
  {
   "cell_type": "code",
   "execution_count": 109,
   "metadata": {},
   "outputs": [
    {
     "data": {
      "text/plain": [
       "(pandas.core.frame.DataFrame, pandas.core.series.Series)"
      ]
     },
     "execution_count": 109,
     "metadata": {},
     "output_type": "execute_result"
    }
   ],
   "source": [
    "type(X), type(y)"
   ]
  },
  {
   "cell_type": "code",
   "execution_count": 111,
   "metadata": {},
   "outputs": [
    {
     "name": "stdout",
     "output_type": "stream",
     "text": [
      "Collecting sklearn\n",
      "  Using cached sklearn-0.0.tar.gz (1.1 kB)\n",
      "Collecting scikit-learn\n",
      "  Downloading scikit_learn-1.0.1-cp38-cp38-win_amd64.whl (7.2 MB)\n",
      "Collecting threadpoolctl>=2.0.0\n",
      "  Using cached threadpoolctl-3.0.0-py3-none-any.whl (14 kB)\n",
      "Requirement already satisfied: numpy>=1.14.6 in d:\\git\\study\\tensorflow_nlp\\tensorflow_nlp\\lib\\site-packages (from scikit-learn->sklearn) (1.19.5)\n",
      "Collecting scipy>=1.1.0\n",
      "  Using cached scipy-1.7.1-cp38-cp38-win_amd64.whl (33.7 MB)\n",
      "Collecting joblib>=0.11\n",
      "  Using cached joblib-1.1.0-py2.py3-none-any.whl (306 kB)\n",
      "Building wheels for collected packages: sklearn\n",
      "  Building wheel for sklearn (setup.py): started\n",
      "  Building wheel for sklearn (setup.py): finished with status 'done'\n",
      "  Created wheel for sklearn: filename=sklearn-0.0-py2.py3-none-any.whl size=1317 sha256=3f2255b47c98d9eecc012606d143126d6c5569c0d71e9c36d09e2a86d9ba7254\n",
      "  Stored in directory: c:\\users\\user\\appdata\\local\\pip\\cache\\wheels\\22\\0b\\40\\fd3f795caaa1fb4c6cb738bc1f56100be1e57da95849bfc897\n",
      "Successfully built sklearn\n",
      "Installing collected packages: threadpoolctl, scipy, joblib, scikit-learn, sklearn\n",
      "Successfully installed joblib-1.1.0 scikit-learn-1.0.1 scipy-1.7.1 sklearn-0.0 threadpoolctl-3.0.0\n"
     ]
    },
    {
     "name": "stderr",
     "output_type": "stream",
     "text": [
      "WARNING: You are using pip version 20.2.1; however, version 21.3.1 is available.\n",
      "You should consider upgrading via the 'd:\\git\\study\\tensorflow_nlp\\tensorflow_nlp\\scripts\\python.exe -m pip install --upgrade pip' command.\n"
     ]
    }
   ],
   "source": [
    "! pip install sklearn"
   ]
  },
  {
   "cell_type": "code",
   "execution_count": 112,
   "metadata": {},
   "outputs": [],
   "source": [
    "from sklearn.model_selection import train_test_split"
   ]
  },
  {
   "cell_type": "code",
   "execution_count": 113,
   "metadata": {},
   "outputs": [],
   "source": [
    "X_train, X_test, y_train, y_test = train_test_split(\n",
    "    X,\n",
    "    y,\n",
    "    test_size = 0.2,   # 20%\n",
    "    random_state = 42\n",
    ")"
   ]
  },
  {
   "cell_type": "code",
   "execution_count": 114,
   "metadata": {},
   "outputs": [
    {
     "data": {
      "text/plain": [
       "((1070, 11), (268, 11), (1070,), (268,))"
      ]
     },
     "execution_count": 114,
     "metadata": {},
     "output_type": "execute_result"
    }
   ],
   "source": [
    "X_train.shape, X_test.shape, y_train.shape, y_test.shape"
   ]
  },
  {
   "cell_type": "code",
   "execution_count": 115,
   "metadata": {},
   "outputs": [],
   "source": [
    "# 지금까지 우리는\n",
    "# 1. 데이터 불러오고\n",
    "# 2. 데이터 살펴보고\n",
    "# 3. 데이터를 분석하기 위해서 전처리하고,\n",
    "# 4. 데이터를 모델에 학습시키기 위해 데이터셋을 나누어주었다!"
   ]
  },
  {
   "cell_type": "code",
   "execution_count": 116,
   "metadata": {},
   "outputs": [
    {
     "name": "stdout",
     "output_type": "stream",
     "text": [
      "Epoch 1/100\n",
      "34/34 [==============================] - 0s 424us/step - loss: 8868.5928 - mae: 8868.5928\n",
      "Epoch 2/100\n",
      "34/34 [==============================] - 0s 424us/step - loss: 7887.1606 - mae: 7887.1606\n",
      "Epoch 3/100\n",
      "34/34 [==============================] - 0s 424us/step - loss: 7537.0947 - mae: 7537.0947\n",
      "Epoch 4/100\n",
      "34/34 [==============================] - 0s 424us/step - loss: 7859.4346 - mae: 7859.4346\n",
      "Epoch 5/100\n",
      "34/34 [==============================] - 0s 424us/step - loss: 7639.6699 - mae: 7639.6699\n",
      "Epoch 6/100\n",
      "34/34 [==============================] - 0s 424us/step - loss: 7578.0850 - mae: 7578.0850\n",
      "Epoch 7/100\n",
      "34/34 [==============================] - 0s 424us/step - loss: 7514.6162 - mae: 7514.6162\n",
      "Epoch 8/100\n",
      "34/34 [==============================] - 0s 455us/step - loss: 7694.1343 - mae: 7694.1343\n",
      "Epoch 9/100\n",
      "34/34 [==============================] - 0s 455us/step - loss: 7595.9141 - mae: 7595.9141\n",
      "Epoch 10/100\n",
      "34/34 [==============================] - 0s 424us/step - loss: 7735.9126 - mae: 7735.9126\n",
      "Epoch 11/100\n",
      "34/34 [==============================] - 0s 455us/step - loss: 7444.4194 - mae: 7444.4194\n",
      "Epoch 12/100\n",
      "34/34 [==============================] - 0s 424us/step - loss: 7678.0332 - mae: 7678.0332\n",
      "Epoch 13/100\n",
      "34/34 [==============================] - 0s 424us/step - loss: 7681.5850 - mae: 7681.5850\n",
      "Epoch 14/100\n",
      "34/34 [==============================] - 0s 455us/step - loss: 7702.2866 - mae: 7702.2866\n",
      "Epoch 15/100\n",
      "34/34 [==============================] - 0s 424us/step - loss: 7585.8950 - mae: 7585.8950\n",
      "Epoch 16/100\n",
      "34/34 [==============================] - 0s 424us/step - loss: 7689.5386 - mae: 7689.5386\n",
      "Epoch 17/100\n",
      "34/34 [==============================] - 0s 424us/step - loss: 7509.2051 - mae: 7509.2051\n",
      "Epoch 18/100\n",
      "34/34 [==============================] - 0s 424us/step - loss: 7695.0103 - mae: 7695.0103\n",
      "Epoch 19/100\n",
      "34/34 [==============================] - 0s 394us/step - loss: 7669.3755 - mae: 7669.3755\n",
      "Epoch 20/100\n",
      "34/34 [==============================] - 0s 394us/step - loss: 7901.1372 - mae: 7901.1372\n",
      "Epoch 21/100\n",
      "34/34 [==============================] - 0s 424us/step - loss: 7552.4844 - mae: 7552.4844\n",
      "Epoch 22/100\n",
      "34/34 [==============================] - 0s 424us/step - loss: 7844.9980 - mae: 7844.9980\n",
      "Epoch 23/100\n",
      "34/34 [==============================] - 0s 394us/step - loss: 7642.2515 - mae: 7642.2515\n",
      "Epoch 24/100\n",
      "34/34 [==============================] - 0s 424us/step - loss: 7515.3101 - mae: 7515.3101\n",
      "Epoch 25/100\n",
      "34/34 [==============================] - 0s 394us/step - loss: 7678.3530 - mae: 7678.3530\n",
      "Epoch 26/100\n",
      "34/34 [==============================] - 0s 424us/step - loss: 7653.0293 - mae: 7653.0293\n",
      "Epoch 27/100\n",
      "34/34 [==============================] - 0s 424us/step - loss: 7559.5479 - mae: 7559.5479\n",
      "Epoch 28/100\n",
      "34/34 [==============================] - 0s 455us/step - loss: 7459.9419 - mae: 7459.9419\n",
      "Epoch 29/100\n",
      "34/34 [==============================] - 0s 394us/step - loss: 7618.6201 - mae: 7618.6201\n",
      "Epoch 30/100\n",
      "34/34 [==============================] - 0s 424us/step - loss: 7628.6255 - mae: 7628.6255\n",
      "Epoch 31/100\n",
      "34/34 [==============================] - 0s 394us/step - loss: 7540.4917 - mae: 7540.4917\n",
      "Epoch 32/100\n",
      "34/34 [==============================] - 0s 424us/step - loss: 7486.0186 - mae: 7486.0186\n",
      "Epoch 33/100\n",
      "34/34 [==============================] - 0s 394us/step - loss: 7418.6636 - mae: 7418.6636\n",
      "Epoch 34/100\n",
      "34/34 [==============================] - 0s 424us/step - loss: 7480.7334 - mae: 7480.7334\n",
      "Epoch 35/100\n",
      "34/34 [==============================] - 0s 424us/step - loss: 7615.3125 - mae: 7615.3125\n",
      "Epoch 36/100\n",
      "34/34 [==============================] - 0s 455us/step - loss: 7566.7925 - mae: 7566.7925\n",
      "Epoch 37/100\n",
      "34/34 [==============================] - 0s 424us/step - loss: 7661.0898 - mae: 7661.0898\n",
      "Epoch 38/100\n",
      "34/34 [==============================] - 0s 455us/step - loss: 7522.6846 - mae: 7522.6846\n",
      "Epoch 39/100\n",
      "34/34 [==============================] - 0s 455us/step - loss: 7556.0703 - mae: 7556.0703\n",
      "Epoch 40/100\n",
      "34/34 [==============================] - 0s 455us/step - loss: 7433.5688 - mae: 7433.5688\n",
      "Epoch 41/100\n",
      "34/34 [==============================] - 0s 455us/step - loss: 7722.4346 - mae: 7722.4346\n",
      "Epoch 42/100\n",
      "34/34 [==============================] - 0s 424us/step - loss: 7344.2700 - mae: 7344.2700\n",
      "Epoch 43/100\n",
      "34/34 [==============================] - 0s 455us/step - loss: 7597.4341 - mae: 7597.4341\n",
      "Epoch 44/100\n",
      "34/34 [==============================] - 0s 424us/step - loss: 7338.0137 - mae: 7338.0137\n",
      "Epoch 45/100\n",
      "34/34 [==============================] - 0s 424us/step - loss: 7510.3472 - mae: 7510.3472\n",
      "Epoch 46/100\n",
      "34/34 [==============================] - 0s 424us/step - loss: 7413.5815 - mae: 7413.5815\n",
      "Epoch 47/100\n",
      "34/34 [==============================] - 0s 455us/step - loss: 7451.0391 - mae: 7451.0391\n",
      "Epoch 48/100\n",
      "34/34 [==============================] - 0s 424us/step - loss: 7340.5396 - mae: 7340.5396\n",
      "Epoch 49/100\n",
      "34/34 [==============================] - 0s 455us/step - loss: 7481.9980 - mae: 7481.9980\n",
      "Epoch 50/100\n",
      "34/34 [==============================] - 0s 455us/step - loss: 7468.2852 - mae: 7468.2852\n",
      "Epoch 51/100\n",
      "34/34 [==============================] - 0s 455us/step - loss: 7411.3418 - mae: 7411.3418\n",
      "Epoch 52/100\n",
      "34/34 [==============================] - 0s 394us/step - loss: 7460.0801 - mae: 7460.0801\n",
      "Epoch 53/100\n",
      "34/34 [==============================] - 0s 424us/step - loss: 7601.6611 - mae: 7601.6611\n",
      "Epoch 54/100\n",
      "34/34 [==============================] - 0s 424us/step - loss: 7241.2549 - mae: 7241.2549\n",
      "Epoch 55/100\n",
      "34/34 [==============================] - 0s 424us/step - loss: 7539.6968 - mae: 7539.6968\n",
      "Epoch 56/100\n",
      "34/34 [==============================] - 0s 364us/step - loss: 7293.2012 - mae: 7293.2012\n",
      "Epoch 57/100\n",
      "34/34 [==============================] - 0s 424us/step - loss: 7417.9727 - mae: 7417.9727\n",
      "Epoch 58/100\n",
      "34/34 [==============================] - 0s 424us/step - loss: 7353.0625 - mae: 7353.0625\n",
      "Epoch 59/100\n",
      "34/34 [==============================] - 0s 424us/step - loss: 7643.8252 - mae: 7643.8252\n",
      "Epoch 60/100\n",
      "34/34 [==============================] - 0s 394us/step - loss: 7410.4014 - mae: 7410.4014\n",
      "Epoch 61/100\n",
      "34/34 [==============================] - 0s 424us/step - loss: 7612.8345 - mae: 7612.8345\n",
      "Epoch 62/100\n",
      "34/34 [==============================] - 0s 424us/step - loss: 7387.9082 - mae: 7387.9082\n",
      "Epoch 63/100\n",
      "34/34 [==============================] - 0s 394us/step - loss: 7359.5625 - mae: 7359.5625\n",
      "Epoch 64/100\n",
      "34/34 [==============================] - 0s 394us/step - loss: 7109.0889 - mae: 7109.0889\n",
      "Epoch 65/100\n",
      "34/34 [==============================] - 0s 455us/step - loss: 7396.3228 - mae: 7396.3228\n",
      "Epoch 66/100\n",
      "34/34 [==============================] - 0s 940us/step - loss: 7179.8618 - mae: 7179.8618\n",
      "Epoch 67/100\n",
      "34/34 [==============================] - 0s 485us/step - loss: 7289.7729 - mae: 7289.7729\n",
      "Epoch 68/100\n",
      "34/34 [==============================] - 0s 424us/step - loss: 7523.6987 - mae: 7523.6987\n",
      "Epoch 69/100\n",
      "34/34 [==============================] - 0s 455us/step - loss: 7442.6172 - mae: 7442.6172\n",
      "Epoch 70/100\n",
      "34/34 [==============================] - 0s 455us/step - loss: 7673.4849 - mae: 7673.4849\n",
      "Epoch 71/100\n",
      "34/34 [==============================] - 0s 424us/step - loss: 7276.0342 - mae: 7276.0342\n",
      "Epoch 72/100\n",
      "34/34 [==============================] - 0s 424us/step - loss: 7246.3726 - mae: 7246.3726\n",
      "Epoch 73/100\n",
      "34/34 [==============================] - 0s 455us/step - loss: 7372.0728 - mae: 7372.0728\n",
      "Epoch 74/100\n",
      "34/34 [==============================] - 0s 424us/step - loss: 7512.0762 - mae: 7512.0762\n",
      "Epoch 75/100\n",
      "34/34 [==============================] - 0s 424us/step - loss: 7269.7456 - mae: 7269.7456\n",
      "Epoch 76/100\n",
      "34/34 [==============================] - 0s 455us/step - loss: 7199.5059 - mae: 7199.5059\n",
      "Epoch 77/100\n",
      "34/34 [==============================] - 0s 424us/step - loss: 7261.2935 - mae: 7261.2935\n",
      "Epoch 78/100\n",
      "34/34 [==============================] - 0s 424us/step - loss: 7185.7646 - mae: 7185.7646\n",
      "Epoch 79/100\n",
      "34/34 [==============================] - 0s 455us/step - loss: 7301.7510 - mae: 7301.7510\n",
      "Epoch 80/100\n",
      "34/34 [==============================] - 0s 424us/step - loss: 7002.6313 - mae: 7002.6313\n",
      "Epoch 81/100\n",
      "34/34 [==============================] - 0s 424us/step - loss: 7289.1377 - mae: 7289.1377\n",
      "Epoch 82/100\n",
      "34/34 [==============================] - 0s 424us/step - loss: 7155.3960 - mae: 7155.3960\n",
      "Epoch 83/100\n",
      "34/34 [==============================] - 0s 424us/step - loss: 7475.1719 - mae: 7475.1719\n",
      "Epoch 84/100\n",
      "34/34 [==============================] - 0s 424us/step - loss: 7387.3691 - mae: 7387.3691\n",
      "Epoch 85/100\n",
      "34/34 [==============================] - 0s 424us/step - loss: 7289.9463 - mae: 7289.9463\n",
      "Epoch 86/100\n",
      "34/34 [==============================] - 0s 455us/step - loss: 7268.0957 - mae: 7268.0957\n",
      "Epoch 87/100\n",
      "34/34 [==============================] - 0s 394us/step - loss: 7238.5894 - mae: 7238.5894\n",
      "Epoch 88/100\n",
      "34/34 [==============================] - 0s 394us/step - loss: 7201.7363 - mae: 7201.7363\n",
      "Epoch 89/100\n",
      "34/34 [==============================] - 0s 424us/step - loss: 7538.0771 - mae: 7538.0771\n",
      "Epoch 90/100\n",
      "34/34 [==============================] - 0s 424us/step - loss: 6967.1187 - mae: 6967.1187\n",
      "Epoch 91/100\n",
      "34/34 [==============================] - 0s 455us/step - loss: 7314.1299 - mae: 7314.1299\n",
      "Epoch 92/100\n",
      "34/34 [==============================] - 0s 455us/step - loss: 7192.3140 - mae: 7192.3140\n",
      "Epoch 93/100\n",
      "34/34 [==============================] - 0s 455us/step - loss: 7530.8784 - mae: 7530.8784\n",
      "Epoch 94/100\n",
      "34/34 [==============================] - 0s 424us/step - loss: 7187.3594 - mae: 7187.3594\n",
      "Epoch 95/100\n",
      "34/34 [==============================] - 0s 449us/step - loss: 7561.5645 - mae: 7561.5645\n",
      "Epoch 96/100\n",
      "34/34 [==============================] - 0s 424us/step - loss: 7263.4648 - mae: 7263.4648\n",
      "Epoch 97/100\n",
      "34/34 [==============================] - 0s 485us/step - loss: 7146.2900 - mae: 7146.2900\n",
      "Epoch 98/100\n",
      "34/34 [==============================] - 0s 455us/step - loss: 7247.9253 - mae: 7247.9253\n",
      "Epoch 99/100\n",
      "34/34 [==============================] - 0s 485us/step - loss: 7200.6689 - mae: 7200.6689\n",
      "Epoch 100/100\n",
      "34/34 [==============================] - 0s 424us/step - loss: 7301.6880 - mae: 7301.6880\n"
     ]
    },
    {
     "data": {
      "text/plain": [
       "<keras.callbacks.History at 0x1c288ea76d0>"
      ]
     },
     "execution_count": 116,
     "metadata": {},
     "output_type": "execute_result"
    }
   ],
   "source": [
    "tf.random.set_seed(42)\n",
    "\n",
    "insurance_model = tf.keras.Sequential([\n",
    "    tf.keras.layers.Dense(1),\n",
    "    tf.keras.layers.Dense(1)\n",
    "])\n",
    "\n",
    "insurance_model.compile(\n",
    "    loss = tf.keras.losses.mae, # mean absolute error\n",
    "    optimizer = tf.keras.optimizers.SGD(), # stochastic gradient descent\n",
    "    metrics = [\"mae\"]\n",
    ")\n",
    "\n",
    "insurance_model.fit(X_train, y_train, epochs = 100)"
   ]
  },
  {
   "cell_type": "code",
   "execution_count": 117,
   "metadata": {},
   "outputs": [
    {
     "name": "stdout",
     "output_type": "stream",
     "text": [
      "9/9 [==============================] - 0s 375us/step - loss: 8628.2520 - mae: 8628.2520\n"
     ]
    },
    {
     "data": {
      "text/plain": [
       "[8628.251953125, 8628.251953125]"
      ]
     },
     "execution_count": 117,
     "metadata": {},
     "output_type": "execute_result"
    }
   ],
   "source": [
    "insurance_model.evaluate(X_test, y_test)"
   ]
  },
  {
   "cell_type": "code",
   "execution_count": 118,
   "metadata": {},
   "outputs": [],
   "source": [
    "# 모델의 결과가 너무 안 좋다... => 모델을 개선하기 위해 노력을 해봐야 한다.\n",
    "# 1. 데이터를 늘려준다.\n",
    "# 2. 학습을 더 오래 시킨다.\n",
    "# 3. 모델을 더 정교하게 만든다. ==> 레이어를 더 추가, 레이어를 이루는 뉴런을 더 추가, activation function 변경\n",
    "# 4. actionvation, loss, optimization function들을 변경해 본다"
   ]
  },
  {
   "cell_type": "code",
   "execution_count": 120,
   "metadata": {},
   "outputs": [],
   "source": [
    "tf.random.set_seed(42)\n",
    "\n",
    "insurance_model_2 = tf.keras.Sequential([\n",
    "    tf.keras.layers.Dense(100),\n",
    "    tf.keras.layers.Dense(10),\n",
    "    tf.keras.layers.Dense(1)\n",
    "])\n",
    "\n",
    "insurance_model_2.compile(\n",
    "    loss = tf.keras.losses.mae, # mean absolute error\n",
    "    optimizer = tf.keras.optimizers.Adam(),\n",
    "    metrics = [\"mae\"]\n",
    ")\n",
    "\n",
    "history = insurance_model_2.fit(X_train, y_train, epochs = 100, verbose = 0)"
   ]
  },
  {
   "cell_type": "code",
   "execution_count": 122,
   "metadata": {},
   "outputs": [
    {
     "name": "stdout",
     "output_type": "stream",
     "text": [
      "9/9 [==============================] - 0s 500us/step - loss: 4924.4961 - mae: 4924.4961\n"
     ]
    },
    {
     "data": {
      "text/plain": [
       "[4924.49609375, 4924.49609375]"
      ]
     },
     "execution_count": 122,
     "metadata": {},
     "output_type": "execute_result"
    }
   ],
   "source": [
    "insurance_model_2.evaluate(X_test, y_test)"
   ]
  },
  {
   "cell_type": "code",
   "execution_count": 123,
   "metadata": {},
   "outputs": [
    {
     "data": {
      "text/plain": [
       "(<keras.callbacks.History at 0x1c312e00130>, keras.callbacks.History)"
      ]
     },
     "execution_count": 123,
     "metadata": {},
     "output_type": "execute_result"
    }
   ],
   "source": [
    "history, type(history)"
   ]
  },
  {
   "cell_type": "code",
   "execution_count": 124,
   "metadata": {},
   "outputs": [
    {
     "data": {
      "text/plain": [
       "({'loss': [13273.16015625,\n",
       "   13104.4296875,\n",
       "   12749.5419921875,\n",
       "   12055.7509765625,\n",
       "   10905.8154296875,\n",
       "   9457.7216796875,\n",
       "   8147.654296875,\n",
       "   7528.8408203125,\n",
       "   7429.15283203125,\n",
       "   7409.08154296875,\n",
       "   7390.80419921875,\n",
       "   7368.91796875,\n",
       "   7348.51904296875,\n",
       "   7326.4892578125,\n",
       "   7307.58154296875,\n",
       "   7285.7734375,\n",
       "   7265.7099609375,\n",
       "   7242.548828125,\n",
       "   7220.5068359375,\n",
       "   7197.19775390625,\n",
       "   7179.01953125,\n",
       "   7151.21044921875,\n",
       "   7126.4638671875,\n",
       "   7101.919921875,\n",
       "   7084.337890625,\n",
       "   7052.32958984375,\n",
       "   7024.3505859375,\n",
       "   6996.6962890625,\n",
       "   6969.01123046875,\n",
       "   6942.18994140625,\n",
       "   6911.7275390625,\n",
       "   6884.0205078125,\n",
       "   6853.46484375,\n",
       "   6823.0673828125,\n",
       "   6789.685546875,\n",
       "   6755.7646484375,\n",
       "   6720.20263671875,\n",
       "   6689.7158203125,\n",
       "   6652.46142578125,\n",
       "   6618.1015625,\n",
       "   6585.86328125,\n",
       "   6559.49560546875,\n",
       "   6530.0439453125,\n",
       "   6506.80712890625,\n",
       "   6493.57177734375,\n",
       "   6475.92578125,\n",
       "   6458.89794921875,\n",
       "   6445.1494140625,\n",
       "   6430.9638671875,\n",
       "   6417.7509765625,\n",
       "   6403.27587890625,\n",
       "   6392.4140625,\n",
       "   6378.7451171875,\n",
       "   6364.9130859375,\n",
       "   6351.52685546875,\n",
       "   6337.66015625,\n",
       "   6324.8369140625,\n",
       "   6310.19482421875,\n",
       "   6295.603515625,\n",
       "   6284.86962890625,\n",
       "   6265.64111328125,\n",
       "   6253.01025390625,\n",
       "   6234.92919921875,\n",
       "   6218.04296875,\n",
       "   6201.18994140625,\n",
       "   6183.958984375,\n",
       "   6171.29931640625,\n",
       "   6148.83984375,\n",
       "   6132.59814453125,\n",
       "   6112.384765625,\n",
       "   6092.72021484375,\n",
       "   6073.7421875,\n",
       "   6059.48828125,\n",
       "   6031.384765625,\n",
       "   6010.3349609375,\n",
       "   5995.2177734375,\n",
       "   5963.07177734375,\n",
       "   5940.06103515625,\n",
       "   5915.10693359375,\n",
       "   5887.9990234375,\n",
       "   5861.69873046875,\n",
       "   5834.3076171875,\n",
       "   5805.82421875,\n",
       "   5772.3232421875,\n",
       "   5745.1513671875,\n",
       "   5711.34765625,\n",
       "   5674.521484375,\n",
       "   5639.49267578125,\n",
       "   5600.66552734375,\n",
       "   5559.4326171875,\n",
       "   5523.61865234375,\n",
       "   5474.125,\n",
       "   5432.26611328125,\n",
       "   5386.052734375,\n",
       "   5333.18115234375,\n",
       "   5288.81591796875,\n",
       "   5234.67919921875,\n",
       "   5170.93603515625,\n",
       "   5112.9443359375,\n",
       "   5059.8447265625],\n",
       "  'mae': [13273.16015625,\n",
       "   13104.4296875,\n",
       "   12749.5419921875,\n",
       "   12055.7509765625,\n",
       "   10905.8154296875,\n",
       "   9457.7216796875,\n",
       "   8147.654296875,\n",
       "   7528.8408203125,\n",
       "   7429.15283203125,\n",
       "   7409.08154296875,\n",
       "   7390.80419921875,\n",
       "   7368.91796875,\n",
       "   7348.51904296875,\n",
       "   7326.4892578125,\n",
       "   7307.58154296875,\n",
       "   7285.7734375,\n",
       "   7265.7099609375,\n",
       "   7242.548828125,\n",
       "   7220.5068359375,\n",
       "   7197.19775390625,\n",
       "   7179.01953125,\n",
       "   7151.21044921875,\n",
       "   7126.4638671875,\n",
       "   7101.919921875,\n",
       "   7084.337890625,\n",
       "   7052.32958984375,\n",
       "   7024.3505859375,\n",
       "   6996.6962890625,\n",
       "   6969.01123046875,\n",
       "   6942.18994140625,\n",
       "   6911.7275390625,\n",
       "   6884.0205078125,\n",
       "   6853.46484375,\n",
       "   6823.0673828125,\n",
       "   6789.685546875,\n",
       "   6755.7646484375,\n",
       "   6720.20263671875,\n",
       "   6689.7158203125,\n",
       "   6652.46142578125,\n",
       "   6618.1015625,\n",
       "   6585.86328125,\n",
       "   6559.49560546875,\n",
       "   6530.0439453125,\n",
       "   6506.80712890625,\n",
       "   6493.57177734375,\n",
       "   6475.92578125,\n",
       "   6458.89794921875,\n",
       "   6445.1494140625,\n",
       "   6430.9638671875,\n",
       "   6417.7509765625,\n",
       "   6403.27587890625,\n",
       "   6392.4140625,\n",
       "   6378.7451171875,\n",
       "   6364.9130859375,\n",
       "   6351.52685546875,\n",
       "   6337.66015625,\n",
       "   6324.8369140625,\n",
       "   6310.19482421875,\n",
       "   6295.603515625,\n",
       "   6284.86962890625,\n",
       "   6265.64111328125,\n",
       "   6253.01025390625,\n",
       "   6234.92919921875,\n",
       "   6218.04296875,\n",
       "   6201.18994140625,\n",
       "   6183.958984375,\n",
       "   6171.29931640625,\n",
       "   6148.83984375,\n",
       "   6132.59814453125,\n",
       "   6112.384765625,\n",
       "   6092.72021484375,\n",
       "   6073.7421875,\n",
       "   6059.48828125,\n",
       "   6031.384765625,\n",
       "   6010.3349609375,\n",
       "   5995.2177734375,\n",
       "   5963.07177734375,\n",
       "   5940.06103515625,\n",
       "   5915.10693359375,\n",
       "   5887.9990234375,\n",
       "   5861.69873046875,\n",
       "   5834.3076171875,\n",
       "   5805.82421875,\n",
       "   5772.3232421875,\n",
       "   5745.1513671875,\n",
       "   5711.34765625,\n",
       "   5674.521484375,\n",
       "   5639.49267578125,\n",
       "   5600.66552734375,\n",
       "   5559.4326171875,\n",
       "   5523.61865234375,\n",
       "   5474.125,\n",
       "   5432.26611328125,\n",
       "   5386.052734375,\n",
       "   5333.18115234375,\n",
       "   5288.81591796875,\n",
       "   5234.67919921875,\n",
       "   5170.93603515625,\n",
       "   5112.9443359375,\n",
       "   5059.8447265625]},\n",
       " dict)"
      ]
     },
     "execution_count": 124,
     "metadata": {},
     "output_type": "execute_result"
    }
   ],
   "source": [
    "history.history, type(history.history)"
   ]
  },
  {
   "cell_type": "code",
   "execution_count": 125,
   "metadata": {},
   "outputs": [
    {
     "data": {
      "text/plain": [
       "Text(0.5, 0, 'epochs')"
      ]
     },
     "execution_count": 125,
     "metadata": {},
     "output_type": "execute_result"
    },
    {
     "data": {
      "image/png": "[encoded data removed]",
      "text/plain": [
       "<Figure size 432x288 with 1 Axes>"
      ]
     },
     "metadata": {
      "needs_background": "light"
     },
     "output_type": "display_data"
    }
   ],
   "source": [
    "pd.DataFrame(history.history).plot()\n",
    "plt.ylabel(\"loss\")\n",
    "plt.xlabel(\"epochs\")"
   ]
  },
  {
   "cell_type": "code",
   "execution_count": 126,
   "metadata": {},
   "outputs": [],
   "source": [
    "history_2 = insurance_model_2.fit(X_train, y_train, epochs = 100, verbose = 0)"
   ]
  },
  {
   "cell_type": "code",
   "execution_count": 127,
   "metadata": {},
   "outputs": [
    {
     "data": {
      "text/plain": [
       "Text(0.5, 0, 'epochs')"
      ]
     },
     "execution_count": 127,
     "metadata": {},
     "output_type": "execute_result"
    },
    {
     "data": {
      "image/png": "[encoded data removed]",
      "text/plain": [
       "<Figure size 432x288 with 1 Axes>"
      ]
     },
     "metadata": {
      "needs_background": "light"
     },
     "output_type": "display_data"
    }
   ],
   "source": [
    "pd.DataFrame(history_2.history).plot()\n",
    "plt.ylabel(\"loss\")\n",
    "plt.xlabel(\"epochs\")"
   ]
  },
  {
   "cell_type": "code",
   "execution_count": 128,
   "metadata": {},
   "outputs": [
    {
     "name": "stdout",
     "output_type": "stream",
     "text": [
      "9/9 [==============================] - 0s 500us/step - loss: 3493.5271 - mae: 3493.5271\n"
     ]
    },
    {
     "data": {
      "text/plain": [
       "(3493.527099609375, 3493.527099609375)"
      ]
     },
     "execution_count": 128,
     "metadata": {},
     "output_type": "execute_result"
    }
   ],
   "source": [
    "insurance_model_2_loss, insurance_model_2_mae = insurance_model_2.evaluate(X_test, y_test)\n",
    "insurance_model_2_loss, insurance_model_2_mae"
   ]
  },
  {
   "cell_type": "code",
   "execution_count": 129,
   "metadata": {},
   "outputs": [],
   "source": [
    "history_3 = insurance_model_2.fit(X_train, y_train, epochs = 100, verbose = 0)"
   ]
  },
  {
   "cell_type": "code",
   "execution_count": 130,
   "metadata": {},
   "outputs": [
    {
     "name": "stdout",
     "output_type": "stream",
     "text": [
      "9/9 [==============================] - 0s 500us/step - loss: 3209.7046 - mae: 3209.7046\n"
     ]
    },
    {
     "data": {
      "text/plain": [
       "(3209.70458984375, 3209.70458984375)"
      ]
     },
     "execution_count": 130,
     "metadata": {},
     "output_type": "execute_result"
    }
   ],
   "source": [
    "insurance_model_2_loss, insurance_model_2_mae = insurance_model_2.evaluate(X_test, y_test)\n",
    "insurance_model_2_loss, insurance_model_2_mae"
   ]
  },
  {
   "cell_type": "code",
   "execution_count": null,
   "metadata": {},
   "outputs": [],
   "source": []
  }
 ],
 "metadata": {
  "interpreter": {
   "hash": "f059650c8884d2c61ab2441ba31283304c11062a0b07fedc0db9596d02c74087"
  },
  "kernelspec": {
   "display_name": "Python 3.8.6rc1 64-bit ('tensorflow_nlp': venv)",
   "name": "python3"
  },
  "language_info": {
   "codemirror_mode": {
    "name": "ipython",
    "version": 3
   },
   "file_extension": ".py",
   "mimetype": "text/x-python",
   "name": "python",
   "nbconvert_exporter": "python",
   "pygments_lexer": "ipython3",
   "version": "3.8.6rc1"
  },
  "orig_nbformat": 4
 },
 "nbformat": 4,
 "nbformat_minor": 2
}
